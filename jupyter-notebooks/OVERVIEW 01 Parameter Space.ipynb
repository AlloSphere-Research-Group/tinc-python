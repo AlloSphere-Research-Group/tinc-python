{
 "cells": [
  {
   "cell_type": "markdown",
   "metadata": {},
   "source": [
    "# Parameters and Parameter Space"
   ]
  },
  {
   "cell_type": "markdown",
   "metadata": {},
   "source": [
    "This notebook demonstrates usage of the Parameter and ParameterSpace classes in python. These classes can work standalone within python, as shown here, but they can also connect to a TINC server through the TincClient class."
   ]
  },
  {
   "cell_type": "code",
   "execution_count": 1,
   "metadata": {},
   "outputs": [
    {
     "name": "stdout",
     "output_type": "stream",
     "text": [
      "0.9\n"
     ]
    }
   ],
   "source": [
    "# Not needed if tinc-python is installed\n",
    "import sys\n",
    "sys.path.append('../tinc-python')\n",
    "\n",
    "from tinc_object import *\n",
    "TincVersion()"
   ]
  },
  {
   "cell_type": "markdown",
   "metadata": {},
   "source": [
    "## Parameters"
   ]
  },
  {
   "cell_type": "code",
   "execution_count": 2,
   "metadata": {},
   "outputs": [],
   "source": [
    "from parameter import *"
   ]
  },
  {
   "cell_type": "markdown",
   "metadata": {},
   "source": [
    "Parameters must have a unique name passed to the constructor"
   ]
  },
  {
   "cell_type": "code",
   "execution_count": 3,
   "metadata": {},
   "outputs": [],
   "source": [
    "p = Parameter(\"temperature\")"
   ]
  },
  {
   "cell_type": "markdown",
   "metadata": {},
   "source": [
    "Parameters have a current value, that you can read and write to using the 'value' member"
   ]
  },
  {
   "cell_type": "code",
   "execution_count": 4,
   "metadata": {},
   "outputs": [
    {
     "data": {
      "text/plain": [
       "0.0"
      ]
     },
     "execution_count": 4,
     "metadata": {},
     "output_type": "execute_result"
    }
   ],
   "source": [
    "p.value"
   ]
  },
  {
   "cell_type": "code",
   "execution_count": 5,
   "metadata": {},
   "outputs": [],
   "source": [
    "p.value = 30"
   ]
  },
  {
   "cell_type": "code",
   "execution_count": 6,
   "metadata": {},
   "outputs": [
    {
     "data": {
      "text/plain": [
       "30.0"
      ]
     },
     "execution_count": 6,
     "metadata": {},
     "output_type": "execute_result"
    }
   ],
   "source": [
    "p.value"
   ]
  },
  {
   "cell_type": "markdown",
   "metadata": {},
   "source": [
    "### Boundaries"
   ]
  },
  {
   "cell_type": "markdown",
   "metadata": {},
   "source": [
    "You can set the boundaries of the parameter using 'minimum'and 'maximum"
   ]
  },
  {
   "cell_type": "code",
   "execution_count": 7,
   "metadata": {},
   "outputs": [],
   "source": [
    "p.minimum = 10\n",
    "p.maximum = 30"
   ]
  },
  {
   "cell_type": "code",
   "execution_count": 8,
   "metadata": {},
   "outputs": [
    {
     "data": {
      "text/plain": [
       "10.0"
      ]
     },
     "execution_count": 8,
     "metadata": {},
     "output_type": "execute_result"
    }
   ],
   "source": [
    "p.value = 0\n",
    "p.value"
   ]
  },
  {
   "cell_type": "code",
   "execution_count": 9,
   "metadata": {},
   "outputs": [
    {
     "data": {
      "text/plain": [
       "30.0"
      ]
     },
     "execution_count": 9,
     "metadata": {},
     "output_type": "execute_result"
    }
   ],
   "source": [
    "p.value = 32\n",
    "p.value"
   ]
  },
  {
   "cell_type": "markdown",
   "metadata": {},
   "source": [
    "## Defining possible values for parameter/dimension"
   ]
  },
  {
   "cell_type": "markdown",
   "metadata": {},
   "source": [
    "You can set the possible values a parameter can take:"
   ]
  },
  {
   "cell_type": "code",
   "execution_count": 10,
   "metadata": {},
   "outputs": [],
   "source": [
    "import numpy as np"
   ]
  },
  {
   "cell_type": "code",
   "execution_count": 11,
   "metadata": {},
   "outputs": [],
   "source": [
    "p.values = np.linspace(10, 40, 10)"
   ]
  },
  {
   "cell_type": "code",
   "execution_count": 12,
   "metadata": {},
   "outputs": [
    {
     "data": {
      "text/plain": [
       "array([10.        , 13.33333333, 16.66666667, 20.        , 23.33333333,\n",
       "       26.66666667, 30.        , 33.33333333, 36.66666667, 40.        ])"
      ]
     },
     "execution_count": 12,
     "metadata": {},
     "output_type": "execute_result"
    }
   ],
   "source": [
    "p.values"
   ]
  },
  {
   "cell_type": "code",
   "execution_count": 13,
   "metadata": {},
   "outputs": [],
   "source": [
    "p.value = 50"
   ]
  },
  {
   "cell_type": "markdown",
   "metadata": {},
   "source": [
    "Incoming values are clamped to the boundaies set by the valid values and rounded to the nearest possible value"
   ]
  },
  {
   "cell_type": "code",
   "execution_count": 14,
   "metadata": {},
   "outputs": [
    {
     "data": {
      "text/plain": [
       "40.0"
      ]
     },
     "execution_count": 14,
     "metadata": {},
     "output_type": "execute_result"
    }
   ],
   "source": [
    "p.value"
   ]
  },
  {
   "cell_type": "code",
   "execution_count": 15,
   "metadata": {},
   "outputs": [
    {
     "data": {
      "text/plain": [
       "30.0"
      ]
     },
     "execution_count": 15,
     "metadata": {},
     "output_type": "execute_result"
    }
   ],
   "source": [
    "p.value = 31\n",
    "p.value"
   ]
  },
  {
   "cell_type": "code",
   "execution_count": 16,
   "metadata": {},
   "outputs": [
    {
     "data": {
      "text/plain": [
       "33.333333333333336"
      ]
     },
     "execution_count": 16,
     "metadata": {},
     "output_type": "execute_result"
    }
   ],
   "source": [
    "p.value = 32\n",
    "p.value"
   ]
  },
  {
   "cell_type": "markdown",
   "metadata": {},
   "source": [
    "### Value callbacks"
   ]
  },
  {
   "cell_type": "markdown",
   "metadata": {},
   "source": [
    "You can register a callback function that can be triggered whenever a parameter's value changes. The callback function gets passed the new parameter value"
   ]
  },
  {
   "cell_type": "code",
   "execution_count": 17,
   "metadata": {},
   "outputs": [],
   "source": [
    "def computation(value):\n",
    "    print(f'Got {value}')\n",
    "\n",
    "p.register_callback(computation)"
   ]
  },
  {
   "cell_type": "code",
   "execution_count": 18,
   "metadata": {},
   "outputs": [
    {
     "name": "stdout",
     "output_type": "stream",
     "text": [
      "Got 40.0\n"
     ]
    }
   ],
   "source": [
    "p.value = 70"
   ]
  },
  {
   "cell_type": "markdown",
   "metadata": {},
   "source": [
    "### Value ids"
   ]
  },
  {
   "cell_type": "markdown",
   "metadata": {},
   "source": [
    "Each possible value the parameter can take can have an associated id. This can be useful for example to map parameter to filesystem names."
   ]
  },
  {
   "cell_type": "code",
   "execution_count": 19,
   "metadata": {},
   "outputs": [],
   "source": [
    "chem_pot = Parameter(\"chemical_potential\")\n",
    "chem_pot.set_values([-0.3, -0.15, 0.0, 0.15, 0.3, 0.45])\n",
    "chem_pot.set_ids(['-0.30', '-0.15', '0', '0.15', '0.30', '0.45'])"
   ]
  },
  {
   "cell_type": "code",
   "execution_count": 20,
   "metadata": {},
   "outputs": [
    {
     "data": {
      "text/plain": [
       "'-0.15'"
      ]
     },
     "execution_count": 20,
     "metadata": {},
     "output_type": "execute_result"
    }
   ],
   "source": [
    "chem_pot.value = -0.15\n",
    "chem_pot.get_current_id()"
   ]
  },
  {
   "cell_type": "code",
   "execution_count": 21,
   "metadata": {},
   "outputs": [
    {
     "data": {
      "text/plain": [
       "'-0.15'"
      ]
     },
     "execution_count": 21,
     "metadata": {},
     "output_type": "execute_result"
    }
   ],
   "source": [
    "chem_pot.value = -0.14\n",
    "chem_pot.get_current_id()"
   ]
  },
  {
   "cell_type": "markdown",
   "metadata": {},
   "source": [
    "## Parameter Spaces"
   ]
  },
  {
   "cell_type": "markdown",
   "metadata": {},
   "source": [
    "A ParameterSpace in TINC is a class that groups and manages parameters. In that sense, each parameter is a dimension of the parameter space."
   ]
  },
  {
   "cell_type": "code",
   "execution_count": 22,
   "metadata": {},
   "outputs": [],
   "source": [
    "from parameter_space import *"
   ]
  },
  {
   "cell_type": "code",
   "execution_count": 23,
   "metadata": {},
   "outputs": [],
   "source": [
    "ps = ParameterSpace(\"ps1\")"
   ]
  },
  {
   "cell_type": "code",
   "execution_count": 24,
   "metadata": {},
   "outputs": [],
   "source": [
    "ps.register_parameters([p,chem_pot])"
   ]
  },
  {
   "cell_type": "markdown",
   "metadata": {},
   "source": [
    "A parameter space can be associated with a filesystem path that can change according to its parameters"
   ]
  },
  {
   "cell_type": "code",
   "execution_count": 25,
   "metadata": {},
   "outputs": [],
   "source": [
    "ps.set_current_path_template(\"t_%%temperature%%_chempot_%%chemical_potential:ID%%\")"
   ]
  },
  {
   "cell_type": "code",
   "execution_count": 26,
   "metadata": {},
   "outputs": [
    {
     "data": {
      "text/plain": [
       "'t_40.0_chempot_-0.15'"
      ]
     },
     "execution_count": 26,
     "metadata": {},
     "output_type": "execute_result"
    }
   ],
   "source": [
    "ps.get_current_path()"
   ]
  },
  {
   "cell_type": "code",
   "execution_count": 27,
   "metadata": {},
   "outputs": [
    {
     "data": {
      "text/plain": [
       "'t_40.0_chempot_0.45'"
      ]
     },
     "execution_count": 27,
     "metadata": {},
     "output_type": "execute_result"
    }
   ],
   "source": [
    "chem_pot.value = 0.45\n",
    "ps.get_current_path()"
   ]
  },
  {
   "cell_type": "markdown",
   "metadata": {},
   "source": [
    "You can execute a function through the parameter space to have it be run with the parameter space's current values:"
   ]
  },
  {
   "cell_type": "code",
   "execution_count": 28,
   "metadata": {},
   "outputs": [
    {
     "name": "stdout",
     "output_type": "stream",
     "text": [
      "Running at: T 40.0 -- chem_pot 0.45\n"
     ]
    }
   ],
   "source": [
    "def processor(temperature, chemical_potential):\n",
    "    print(f\"Running at: T {temperature} -- chem_pot {chemical_potential}\")\n",
    "\n",
    "ps.run_process(processor)"
   ]
  },
  {
   "cell_type": "code",
   "execution_count": 29,
   "metadata": {},
   "outputs": [
    {
     "name": "stdout",
     "output_type": "stream",
     "text": [
      "Got 30.0\n",
      "Running at: T 30.0 -- chem_pot 0.45\n"
     ]
    }
   ],
   "source": [
    "p.value = 30\n",
    "ps.run_process(processor)"
   ]
  },
  {
   "cell_type": "markdown",
   "metadata": {},
   "source": [
    "You can have the parameter space cache the output for these processes automatically, by enabling caching. You can determine where this cache gets stored by passing the foler name."
   ]
  },
  {
   "cell_type": "code",
   "execution_count": 30,
   "metadata": {},
   "outputs": [],
   "source": [
    "ps.enable_caching(\"cache\")"
   ]
  },
  {
   "cell_type": "code",
   "execution_count": 31,
   "metadata": {},
   "outputs": [],
   "source": [
    "import time\n",
    "\n",
    "def long_processor(temperature, chemical_potential):\n",
    "    print(f\"Running at: T {temperature} -- chem_pot {chemical_potential}\")\n",
    "    time.sleep(3) # Simulate a time consuming process\n",
    "    return temperature * chemical_potential"
   ]
  },
  {
   "cell_type": "code",
   "execution_count": 32,
   "metadata": {},
   "outputs": [
    {
     "name": "stdout",
     "output_type": "stream",
     "text": [
      "Running at: T 30.0 -- chem_pot 0.45\n",
      "Wall time: 3 s\n"
     ]
    }
   ],
   "source": [
    "%%time\n",
    "value = ps.run_process(long_processor)"
   ]
  },
  {
   "cell_type": "code",
   "execution_count": 33,
   "metadata": {},
   "outputs": [
    {
     "data": {
      "text/plain": [
       "13.5"
      ]
     },
     "execution_count": 33,
     "metadata": {},
     "output_type": "execute_result"
    }
   ],
   "source": [
    "value"
   ]
  },
  {
   "cell_type": "code",
   "execution_count": 34,
   "metadata": {},
   "outputs": [
    {
     "name": "stdout",
     "output_type": "stream",
     "text": [
      "Using cache\n",
      "Wall time: 1 ms\n"
     ]
    },
    {
     "data": {
      "text/plain": [
       "13.5"
      ]
     },
     "execution_count": 34,
     "metadata": {},
     "output_type": "execute_result"
    }
   ],
   "source": [
    "%%time\n",
    "value = ps.run_process(long_processor)\n",
    "value"
   ]
  },
  {
   "cell_type": "code",
   "execution_count": 35,
   "metadata": {},
   "outputs": [
    {
     "name": "stdout",
     "output_type": "stream",
     "text": [
      "Got 10.0\n"
     ]
    }
   ],
   "source": [
    "p.value = 10"
   ]
  },
  {
   "cell_type": "code",
   "execution_count": 36,
   "metadata": {},
   "outputs": [
    {
     "name": "stdout",
     "output_type": "stream",
     "text": [
      "Running at: T 10.0 -- chem_pot 0.45\n",
      "Wall time: 3 s\n"
     ]
    },
    {
     "data": {
      "text/plain": [
       "4.5"
      ]
     },
     "execution_count": 36,
     "metadata": {},
     "output_type": "execute_result"
    }
   ],
   "source": [
    "%%time\n",
    "value = ps.run_process(long_processor)\n",
    "value"
   ]
  },
  {
   "cell_type": "code",
   "execution_count": 37,
   "metadata": {},
   "outputs": [
    {
     "name": "stdout",
     "output_type": "stream",
     "text": [
      "Using cache\n",
      "Wall time: 1 ms\n"
     ]
    },
    {
     "data": {
      "text/plain": [
       "4.5"
      ]
     },
     "execution_count": 37,
     "metadata": {},
     "output_type": "execute_result"
    }
   ],
   "source": [
    "%%time\n",
    "value = ps.run_process(long_processor)\n",
    "value"
   ]
  },
  {
   "cell_type": "code",
   "execution_count": 39,
   "metadata": {},
   "outputs": [
    {
     "name": "stdout",
     "output_type": "stream",
     "text": [
      "Got 30.0\n"
     ]
    }
   ],
   "source": [
    "p.value = 30"
   ]
  },
  {
   "cell_type": "code",
   "execution_count": 40,
   "metadata": {},
   "outputs": [
    {
     "name": "stdout",
     "output_type": "stream",
     "text": [
      "Using cache\n",
      "Wall time: 997 µs\n"
     ]
    },
    {
     "data": {
      "text/plain": [
       "13.5"
      ]
     },
     "execution_count": 40,
     "metadata": {},
     "output_type": "execute_result"
    }
   ],
   "source": [
    "%%time\n",
    "value = ps.run_process(long_processor)\n",
    "value"
   ]
  },
  {
   "cell_type": "markdown",
   "metadata": {},
   "source": [
    "### Parameter sweeps"
   ]
  },
  {
   "cell_type": "markdown",
   "metadata": {},
   "source": [
    "You can run parameter sweeps generating cache:"
   ]
  },
  {
   "cell_type": "code",
   "execution_count": 41,
   "metadata": {},
   "outputs": [
    {
     "name": "stdout",
     "output_type": "stream",
     "text": [
      "  4           0 LOAD_GLOBAL              0 (print)\n",
      "              2 LOAD_CONST               1 ('Running at: T ')\n",
      "              4 LOAD_FAST                0 (temperature)\n",
      "              6 FORMAT_VALUE             0\n",
      "              8 LOAD_CONST               2 (' -- chem_pot ')\n",
      "             10 LOAD_FAST                1 (chemical_potential)\n",
      "             12 FORMAT_VALUE             0\n",
      "             14 BUILD_STRING             4\n",
      "             16 CALL_FUNCTION            1\n",
      "             18 POP_TOP\n",
      "\n",
      "  5          20 LOAD_GLOBAL              1 (time)\n",
      "             22 LOAD_METHOD              2 (sleep)\n",
      "             24 LOAD_CONST               3 (3)\n",
      "             26 CALL_METHOD              1\n",
      "             28 POP_TOP\n",
      "\n",
      "  6          30 LOAD_FAST                0 (temperature)\n",
      "             32 LOAD_FAST                1 (chemical_potential)\n",
      "             34 BINARY_MULTIPLY\n",
      "             36 RETURN_VALUE\n",
      "None\n",
      "def long_processor(temperature, chemical_potential):\n",
      "    print(f\"Running at: T {temperature} -- chem_pot {chemical_potential}\")\n",
      "    time.sleep(3) # Simulate a time consuming process\n",
      "    return temperature * chemical_potential\n",
      "\n",
      "Running at: T 10.0 -- chem_pot -0.3\n",
      "Running at: T 13.333333333333334 -- chem_pot -0.3\n",
      "Running at: T 16.666666666666668 -- chem_pot -0.3\n",
      "Running at: T 20.0 -- chem_pot -0.3\n",
      "Running at: T 23.333333333333336 -- chem_pot -0.3\n",
      "Running at: T 26.666666666666668 -- chem_pot -0.3\n",
      "Running at: T 30.0 -- chem_pot -0.3\n",
      "Running at: T 33.333333333333336 -- chem_pot -0.3\n",
      "Running at: T 36.66666666666667 -- chem_pot -0.3\n",
      "Running at: T 40.0 -- chem_pot -0.3\n",
      "Running at: T 10.0 -- chem_pot -0.15\n",
      "Running at: T 13.333333333333334 -- chem_pot -0.15\n",
      "Running at: T 16.666666666666668 -- chem_pot -0.15\n",
      "Running at: T 20.0 -- chem_pot -0.15\n",
      "Running at: T 23.333333333333336 -- chem_pot -0.15\n",
      "Running at: T 26.666666666666668 -- chem_pot -0.15\n",
      "Running at: T 30.0 -- chem_pot -0.15\n",
      "Running at: T 33.333333333333336 -- chem_pot -0.15\n",
      "Running at: T 36.66666666666667 -- chem_pot -0.15\n",
      "Running at: T 40.0 -- chem_pot -0.15\n",
      "Running at: T 10.0 -- chem_pot 0.0\n",
      "Running at: T 13.333333333333334 -- chem_pot 0.0\n",
      "Running at: T 16.666666666666668 -- chem_pot 0.0\n",
      "Running at: T 20.0 -- chem_pot 0.0\n",
      "Running at: T 23.333333333333336 -- chem_pot 0.0\n",
      "Running at: T 26.666666666666668 -- chem_pot 0.0\n",
      "Running at: T 30.0 -- chem_pot 0.0\n",
      "Running at: T 33.333333333333336 -- chem_pot 0.0\n",
      "Running at: T 36.66666666666667 -- chem_pot 0.0\n",
      "Running at: T 40.0 -- chem_pot 0.0\n",
      "Running at: T 10.0 -- chem_pot 0.15\n",
      "Running at: T 13.333333333333334 -- chem_pot 0.15\n",
      "Running at: T 16.666666666666668 -- chem_pot 0.15\n",
      "Running at: T 20.0 -- chem_pot 0.15\n",
      "Running at: T 23.333333333333336 -- chem_pot 0.15\n",
      "Running at: T 26.666666666666668 -- chem_pot 0.15\n",
      "Running at: T 30.0 -- chem_pot 0.15\n",
      "Running at: T 33.333333333333336 -- chem_pot 0.15\n",
      "Running at: T 36.66666666666667 -- chem_pot 0.15\n",
      "Running at: T 40.0 -- chem_pot 0.15\n",
      "Running at: T 10.0 -- chem_pot 0.3\n",
      "Running at: T 13.333333333333334 -- chem_pot 0.3\n",
      "Running at: T 16.666666666666668 -- chem_pot 0.3\n",
      "Running at: T 20.0 -- chem_pot 0.3\n",
      "Running at: T 23.333333333333336 -- chem_pot 0.3\n",
      "Running at: T 26.666666666666668 -- chem_pot 0.3\n",
      "Running at: T 30.0 -- chem_pot 0.3\n",
      "Running at: T 33.333333333333336 -- chem_pot 0.3\n",
      "Running at: T 36.66666666666667 -- chem_pot 0.3\n",
      "Running at: T 40.0 -- chem_pot 0.3\n",
      "Using cache\n",
      "Running at: T 13.333333333333334 -- chem_pot 0.45\n",
      "Running at: T 16.666666666666668 -- chem_pot 0.45\n",
      "Running at: T 20.0 -- chem_pot 0.45\n",
      "Running at: T 23.333333333333336 -- chem_pot 0.45\n",
      "Running at: T 26.666666666666668 -- chem_pot 0.45\n",
      "Using cache\n",
      "Running at: T 33.333333333333336 -- chem_pot 0.45\n",
      "Running at: T 36.66666666666667 -- chem_pot 0.45\n",
      "Running at: T 40.0 -- chem_pot 0.45\n",
      "Wall time: 2min 54s\n"
     ]
    }
   ],
   "source": [
    "%%time\n",
    "ps.sweep(long_processor)"
   ]
  },
  {
   "cell_type": "code",
   "execution_count": null,
   "metadata": {},
   "outputs": [],
   "source": []
  }
 ],
 "metadata": {
  "kernelspec": {
   "display_name": "Python 3",
   "language": "python",
   "name": "python3"
  },
  "language_info": {
   "codemirror_mode": {
    "name": "ipython",
    "version": 3
   },
   "file_extension": ".py",
   "mimetype": "text/x-python",
   "name": "python",
   "nbconvert_exporter": "python",
   "pygments_lexer": "ipython3",
   "version": "3.8.3"
  }
 },
 "nbformat": 4,
 "nbformat_minor": 4
}
