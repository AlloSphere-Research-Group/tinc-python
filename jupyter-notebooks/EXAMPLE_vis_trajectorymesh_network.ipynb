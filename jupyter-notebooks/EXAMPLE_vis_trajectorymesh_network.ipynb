{
 "cells": [
  {
   "cell_type": "code",
   "execution_count": 1,
   "metadata": {},
   "outputs": [
    {
     "name": "stdout",
     "output_type": "stream",
     "text": [
      "0.9\n"
     ]
    }
   ],
   "source": [
    "from tinc import *\n",
    "TincVersion()"
   ]
  },
  {
   "cell_type": "code",
   "execution_count": 2,
   "metadata": {},
   "outputs": [
    {
     "name": "stdout",
     "output_type": "stream",
     "text": [
      "Connected to localhost:34450. Server version 1 revision 0\n",
      "C:\\Users\\Andres\\source\\repos\\casm_viewer\\external\\tinc\\examples\\bin\\\n",
      "buffer_file_0.json\n"
     ]
    }
   ],
   "source": [
    "tclient = TincClient()"
   ]
  },
  {
   "cell_type": "code",
   "execution_count": 3,
   "metadata": {},
   "outputs": [
    {
     "data": {
      "text/plain": [
       "['alpha', 'width']"
      ]
     },
     "execution_count": 3,
     "metadata": {},
     "output_type": "execute_result"
    }
   ],
   "source": [
    "[p.id for p in tclient.parameters]"
   ]
  },
  {
   "cell_type": "code",
   "execution_count": 4,
   "metadata": {},
   "outputs": [],
   "source": [
    "alpha = tclient.get_parameter(\"alpha\")"
   ]
  },
  {
   "cell_type": "code",
   "execution_count": 5,
   "metadata": {},
   "outputs": [
    {
     "data": {
      "text/plain": [
       "0.800000011920929"
      ]
     },
     "execution_count": 5,
     "metadata": {},
     "output_type": "execute_result"
    }
   ],
   "source": [
    "alpha.value"
   ]
  },
  {
   "cell_type": "code",
   "execution_count": 6,
   "metadata": {},
   "outputs": [],
   "source": [
    "alpha.value = 1.0"
   ]
  },
  {
   "cell_type": "code",
   "execution_count": null,
   "metadata": {},
   "outputs": [],
   "source": [
    "tclient.disk_buffers"
   ]
  },
  {
   "cell_type": "code",
   "execution_count": 8,
   "metadata": {},
   "outputs": [],
   "source": [
    "traj_buffer = tclient.disk_buffers[0]"
   ]
  },
  {
   "cell_type": "code",
   "execution_count": 9,
   "metadata": {},
   "outputs": [
    {
     "data": {
      "text/plain": [
       "'buffer_file_0.json'"
      ]
     },
     "execution_count": 9,
     "metadata": {},
     "output_type": "execute_result"
    }
   ],
   "source": [
    "traj_buffer.get_current_filename()"
   ]
  },
  {
   "cell_type": "code",
   "execution_count": 10,
   "metadata": {},
   "outputs": [
    {
     "data": {
      "text/plain": [
       "'C:\\\\Users\\\\Andres\\\\source\\\\repos\\\\casm_viewer\\\\external\\\\tinc\\\\examples\\\\bin\\\\'"
      ]
     },
     "execution_count": 10,
     "metadata": {},
     "output_type": "execute_result"
    }
   ],
   "source": [
    "traj_buffer.get_path()"
   ]
  },
  {
   "cell_type": "code",
   "execution_count": 11,
   "metadata": {},
   "outputs": [
    {
     "data": {
      "text/plain": [
       "array([], dtype=float32)"
      ]
     },
     "execution_count": 11,
     "metadata": {},
     "output_type": "execute_result"
    }
   ],
   "source": [
    "traj_buffer.data"
   ]
  },
  {
   "cell_type": "code",
   "execution_count": 12,
   "metadata": {},
   "outputs": [],
   "source": [
    "traj_buffer.set_attributes({\"dataArrangement\":0})"
   ]
  },
  {
   "cell_type": "code",
   "execution_count": 13,
   "metadata": {},
   "outputs": [
    {
     "name": "stdout",
     "output_type": "stream",
     "text": [
      "C:\\Users\\Andres\\source\\repos\\casm_viewer\\external\\tinc\\examples\\bin\\\n",
      "buffer_file_1.json\n"
     ]
    }
   ],
   "source": [
    "import numpy as np\n",
    "traj_buffer.data = [0,0,-5, 1, 1, 1]"
   ]
  },
  {
   "cell_type": "code",
   "execution_count": 15,
   "metadata": {},
   "outputs": [
    {
     "name": "stdout",
     "output_type": "stream",
     "text": [
      "C:\\Users\\Andres\\source\\repos\\casm_viewer\\external\\tinc\\examples\\bin\\\n",
      "buffer_file_0.json\n"
     ]
    }
   ],
   "source": [
    "import random\n",
    "data = [0, 0, -10]\n",
    "for v in np.linspace(0, 2):\n",
    "    data += [random.random()- 0.5, random.random()- 0.5, random.random()- 0.5]\n",
    "traj_buffer.data = data"
   ]
  },
  {
   "cell_type": "code",
   "execution_count": 16,
   "metadata": {},
   "outputs": [],
   "source": [
    "traj_buffer.set_attributes({\"dataArrangement\":2})"
   ]
  },
  {
   "cell_type": "code",
   "execution_count": 18,
   "metadata": {},
   "outputs": [
    {
     "name": "stdout",
     "output_type": "stream",
     "text": [
      "C:\\Users\\Andres\\source\\repos\\casm_viewer\\external\\tinc\\examples\\bin\\\n",
      "buffer_file_0.json\n"
     ]
    }
   ],
   "source": [
    "import random\n",
    "data = [0, 0, -10]\n",
    "for v in range(20):\n",
    "    data += [random.random()*0.2, random.random()* 0.2, random.random()*0.2, random.random(), random.random(),  1.0 ]\n",
    "traj_buffer.data = data"
   ]
  },
  {
   "cell_type": "code",
   "execution_count": 19,
   "metadata": {},
   "outputs": [
    {
     "data": {
      "text/plain": [
       "[0,\n",
       " 0,\n",
       " -10,\n",
       " 0.15657822261778587,\n",
       " 0.060875386415461974,\n",
       " 0.19260726158948582,\n",
       " 0.5573357317075632,\n",
       " 0.5890423982014008,\n",
       " 1.0,\n",
       " 0.17014614315970567,\n",
       " 0.10712343563658429,\n",
       " 0.017666713650644896,\n",
       " 0.09232355282488691,\n",
       " 0.3590083462957888,\n",
       " 1.0,\n",
       " 0.19939401777648436,\n",
       " 0.11483285798802144,\n",
       " 0.034862090179876896,\n",
       " 0.41364839211283433,\n",
       " 0.3033359768432772,\n",
       " 1.0,\n",
       " 0.1667841192484975,\n",
       " 0.08024256701087268,\n",
       " 0.1807805894343751,\n",
       " 0.6258695121490885,\n",
       " 0.13725581939982645,\n",
       " 1.0,\n",
       " 0.043353498261140634,\n",
       " 0.18248173028002804,\n",
       " 0.14517225719435087,\n",
       " 0.30954987928293876,\n",
       " 0.4604127110040118,\n",
       " 1.0,\n",
       " 0.1700757240761927,\n",
       " 0.15207929187495647,\n",
       " 0.05938204656185023,\n",
       " 0.48782457708658367,\n",
       " 0.4217940649367804,\n",
       " 1.0,\n",
       " 0.18008557042559128,\n",
       " 0.05369370690509789,\n",
       " 0.11032636998965586,\n",
       " 0.006607274332460222,\n",
       " 0.7565141797822514,\n",
       " 1.0,\n",
       " 0.18893259809117,\n",
       " 0.14647882127586928,\n",
       " 0.08214897747092542,\n",
       " 0.25383773789882835,\n",
       " 0.3835161703510781,\n",
       " 1.0,\n",
       " 0.15205696662416923,\n",
       " 0.14955447556985446,\n",
       " 0.10701096924131469,\n",
       " 0.8100419643500875,\n",
       " 0.43850943283798693,\n",
       " 1.0,\n",
       " 0.17948846469262028,\n",
       " 0.03267857922792281,\n",
       " 0.04458694335234057,\n",
       " 0.6453027342859844,\n",
       " 0.469089645252604,\n",
       " 1.0,\n",
       " 0.0457864740664637,\n",
       " 0.0033718074118376687,\n",
       " 0.006807491910001473,\n",
       " 0.4595200658006725,\n",
       " 0.8213964565156681,\n",
       " 1.0,\n",
       " 0.10726650326610057,\n",
       " 0.01453541172420434,\n",
       " 0.1454832833670161,\n",
       " 0.1198521783544022,\n",
       " 0.44843304436696874,\n",
       " 1.0,\n",
       " 0.1729150711566808,\n",
       " 0.0915366954652563,\n",
       " 0.09522846614436926,\n",
       " 0.049982485169122404,\n",
       " 0.8824149798342577,\n",
       " 1.0,\n",
       " 0.00650769247778511,\n",
       " 0.10591800777686455,\n",
       " 0.04124944868618055,\n",
       " 0.27986380281021506,\n",
       " 0.5056024042274276,\n",
       " 1.0,\n",
       " 0.07028334023484477,\n",
       " 0.13046945244429137,\n",
       " 0.02419256561198855,\n",
       " 0.46625744348990383,\n",
       " 0.28445788070821765,\n",
       " 1.0,\n",
       " 0.028841409023109124,\n",
       " 0.05965398029086669,\n",
       " 0.1738478465930925,\n",
       " 0.06153077350603964,\n",
       " 0.679878558083388,\n",
       " 1.0,\n",
       " 0.07556124013951476,\n",
       " 0.03183953991292341,\n",
       " 0.0028342223189965045,\n",
       " 0.02829067136660457,\n",
       " 0.551057071432115,\n",
       " 1.0,\n",
       " 0.11054125511907452,\n",
       " 0.050826098063730354,\n",
       " 0.18325969467112824,\n",
       " 0.4688230476588272,\n",
       " 0.9604776506919348,\n",
       " 1.0,\n",
       " 0.15660752841884118,\n",
       " 0.12590465221763375,\n",
       " 0.08605382411762441,\n",
       " 0.9014451478904479,\n",
       " 0.11296369569821452,\n",
       " 1.0,\n",
       " 0.1360841810512008,\n",
       " 0.060708653080016634,\n",
       " 0.12134917371978571,\n",
       " 0.23979606536238673,\n",
       " 0.9618498646489848,\n",
       " 1.0]"
      ]
     },
     "execution_count": 19,
     "metadata": {},
     "output_type": "execute_result"
    }
   ],
   "source": [
    "data"
   ]
  },
  {
   "cell_type": "code",
   "execution_count": 20,
   "metadata": {},
   "outputs": [
    {
     "ename": "NameError",
     "evalue": "name 'atoms_buffer' is not defined",
     "output_type": "error",
     "traceback": [
      "\u001b[1;31m---------------------------------------------------------------------------\u001b[0m",
      "\u001b[1;31mNameError\u001b[0m                                 Traceback (most recent call last)",
      "\u001b[1;32m<ipython-input-20-eb988602e61f>\u001b[0m in \u001b[0;36m<module>\u001b[1;34m\u001b[0m\n\u001b[1;32m----> 1\u001b[1;33m \u001b[0matoms_buffer\u001b[0m\u001b[1;33m.\u001b[0m\u001b[0mdata\u001b[0m\u001b[1;33m\u001b[0m\u001b[1;33m\u001b[0m\u001b[0m\n\u001b[0m",
      "\u001b[1;31mNameError\u001b[0m: name 'atoms_buffer' is not defined"
     ]
    }
   ],
   "source": [
    "traj_buffer.data"
   ]
  },
  {
   "cell_type": "code",
   "execution_count": 21,
   "metadata": {},
   "outputs": [
    {
     "name": "stdout",
     "output_type": "stream",
     "text": [
      "C:\\Users\\Andres\\source\\repos\\casm_viewer\\external\\tinc\\examples\\bin\\\n",
      "buffer_file_1.json\n"
     ]
    }
   ],
   "source": [
    "import random\n",
    "data = [0.2,0,0.5] #Starting point\n",
    "for v in np.linspace(1, 1.5):\n",
    "    data += [v -1, v-1, v-1, v/2.0, v/2.0, v/2.0 ]\n",
    "traj_buffer.data = data"
   ]
  },
  {
   "cell_type": "code",
   "execution_count": null,
   "metadata": {},
   "outputs": [],
   "source": []
  }
 ],
 "metadata": {
  "kernelspec": {
   "display_name": "Python 3",
   "language": "python",
   "name": "python3"
  },
  "language_info": {
   "codemirror_mode": {
    "name": "ipython",
    "version": 3
   },
   "file_extension": ".py",
   "mimetype": "text/x-python",
   "name": "python",
   "nbconvert_exporter": "python",
   "pygments_lexer": "ipython3",
   "version": "3.8.3"
  }
 },
 "nbformat": 4,
 "nbformat_minor": 4
}
