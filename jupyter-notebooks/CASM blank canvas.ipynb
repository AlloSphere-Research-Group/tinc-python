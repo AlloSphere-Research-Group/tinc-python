{
 "cells": [
  {
   "cell_type": "code",
   "execution_count": null,
   "metadata": {},
   "outputs": [],
   "source": [
    "from tinc import *\n",
    "TincVersion()\n",
    "tclient = TincClient()"
   ]
  },
  {
   "cell_type": "markdown",
   "metadata": {},
   "source": [
    "# Graphs"
   ]
  },
  {
   "cell_type": "markdown",
   "metadata": {},
   "source": [
    "These are the buffers available to draw into CASM viewer:"
   ]
  },
  {
   "cell_type": "code",
   "execution_count": null,
   "metadata": {},
   "outputs": [],
   "source": [
    "[b.id for b in tclient.disk_buffers]"
   ]
  },
  {
   "cell_type": "code",
   "execution_count": null,
   "metadata": {},
   "outputs": [],
   "source": [
    "%pylab inline"
   ]
  },
  {
   "cell_type": "markdown",
   "metadata": {},
   "source": [
    "To send an image to the \"graph\" slates, you need to get one of the graph buffers and write an image file to it like this:"
   ]
  },
  {
   "cell_type": "code",
   "execution_count": null,
   "metadata": {},
   "outputs": [],
   "source": [
    "graph = tclient.get_disk_buffer('graph')\n",
    "plot(linspace(0,10))\n",
    "fname = graph.get_filename_for_writing()\n",
    "savefig(fname)\n",
    "graph.done_writing_file(fname)"
   ]
  },
  {
   "cell_type": "markdown",
   "metadata": {},
   "source": [
    "This works, but the resolution is not great, so you can do:"
   ]
  },
  {
   "cell_type": "code",
   "execution_count": null,
   "metadata": {},
   "outputs": [],
   "source": [
    "graph = tclient.get_disk_buffer('graph')\n",
    "plot(linspace(0,100))\n",
    "fname = graph.get_filename_for_writing()\n",
    "savefig(fname, dpi=300)\n",
    "graph.done_writing_file(fname)"
   ]
  },
  {
   "cell_type": "markdown",
   "metadata": {},
   "source": [
    "# Atom display (Perspective view)\n",
    "\n",
    "The position and color of the atoms are set through the 'atomRender_buffer'"
   ]
  },
  {
   "cell_type": "code",
   "execution_count": null,
   "metadata": {},
   "outputs": [],
   "source": [
    "atoms = tclient.get_disk_buffer('atomRender_buffer')\n",
    "print(atoms.documentation)"
   ]
  },
  {
   "cell_type": "code",
   "execution_count": null,
   "metadata": {},
   "outputs": [],
   "source": [
    "data = []\n",
    "for v in np.linspace(0, 50):\n",
    "    data += [v, v, v, v/50]\n",
    "atoms.data = data"
   ]
  },
  {
   "cell_type": "markdown",
   "metadata": {},
   "source": [
    "## Controlling perspective"
   ]
  },
  {
   "cell_type": "markdown",
   "metadata": {},
   "source": [
    "UI elements are controlled through parameters."
   ]
  },
  {
   "cell_type": "code",
   "execution_count": null,
   "metadata": {},
   "outputs": [],
   "source": [
    "[(p.id,p.group) for p in tclient.parameters]"
   ]
  },
  {
   "cell_type": "markdown",
   "metadata": {},
   "source": [
    "The slicing plane determines the highlighting of atoms as well as what is shown in the slice panel."
   ]
  },
  {
   "cell_type": "code",
   "execution_count": null,
   "metadata": {},
   "outputs": [],
   "source": [
    "tclient.get_parameter(\"SlicingPlaneSize\").value"
   ]
  },
  {
   "cell_type": "code",
   "execution_count": null,
   "metadata": {},
   "outputs": [],
   "source": [
    "tclient.get_parameter(\"SlicingPlaneSize\").value = 20"
   ]
  },
  {
   "cell_type": "code",
   "execution_count": null,
   "metadata": {},
   "outputs": [],
   "source": [
    "tclient.get_parameter(\"SlicingPlaneThickness\").value"
   ]
  },
  {
   "cell_type": "code",
   "execution_count": null,
   "metadata": {},
   "outputs": [],
   "source": [
    "tclient.get_parameter(\"SlicingPlaneThickness\").value = 20"
   ]
  },
  {
   "cell_type": "markdown",
   "metadata": {},
   "source": [
    "You can animate GUI elements from python:"
   ]
  },
  {
   "cell_type": "code",
   "execution_count": null,
   "metadata": {},
   "outputs": [],
   "source": [
    "import time\n",
    "for i in range(30):\n",
    "    tclient.get_parameter(\"SlicingPlaneCorner\").value = (i, i,i)\n",
    "    time.sleep(0.2)"
   ]
  },
  {
   "cell_type": "markdown",
   "metadata": {},
   "source": [
    "'dataScale' scales the xyz position values of all atoms according to the vector passed"
   ]
  },
  {
   "cell_type": "code",
   "execution_count": null,
   "metadata": {},
   "outputs": [],
   "source": [
    "tclient.get_parameter(\"dataScale\").value"
   ]
  },
  {
   "cell_type": "code",
   "execution_count": null,
   "metadata": {},
   "outputs": [],
   "source": [
    "tclient.get_parameter(\"dataScale\").value = (0.5, 0.5, 0.5)"
   ]
  },
  {
   "cell_type": "code",
   "execution_count": null,
   "metadata": {},
   "outputs": [],
   "source": [
    "tclient.get_parameter(\"dataScale\").value = (1.0, 1.0, 1.0)"
   ]
  },
  {
   "cell_type": "markdown",
   "metadata": {},
   "source": [
    "'atomMarkerSize' sets the size of each spherical marker for atoms."
   ]
  },
  {
   "cell_type": "code",
   "execution_count": null,
   "metadata": {},
   "outputs": [],
   "source": [
    "tclient.get_parameter(\"atomMarkerSize\").value"
   ]
  },
  {
   "cell_type": "code",
   "execution_count": null,
   "metadata": {},
   "outputs": [],
   "source": [
    "tclient.get_parameter(\"atomMarkerSize\").value = 1.5"
   ]
  },
  {
   "cell_type": "markdown",
   "metadata": {},
   "source": [
    "'clippedMultiplier' sets the factor by which the atoms outside the slicer are faded. A value of 0 makes anything outside the slicer disappear."
   ]
  },
  {
   "cell_type": "code",
   "execution_count": null,
   "metadata": {},
   "outputs": [],
   "source": [
    "tclient.get_parameter(\"clippedMultiplier\").value"
   ]
  },
  {
   "cell_type": "code",
   "execution_count": null,
   "metadata": {},
   "outputs": [],
   "source": [
    "tclient.get_parameter(\"clippedMultiplier\").value = 0.0"
   ]
  },
  {
   "cell_type": "markdown",
   "metadata": {},
   "source": [
    "The 'trajectory_buffer' buffer allows adding annotations to the perspective view: "
   ]
  },
  {
   "cell_type": "code",
   "execution_count": null,
   "metadata": {},
   "outputs": [],
   "source": [
    "tb = tclient.get_disk_buffer(\"trajectory_buffer\")"
   ]
  },
  {
   "cell_type": "code",
   "execution_count": null,
   "metadata": {},
   "outputs": [],
   "source": [
    "print(tb.documentation)"
   ]
  },
  {
   "cell_type": "markdown",
   "metadata": {},
   "source": [
    "The positions for the trajectory can be specified as a single x,y,z coordinate for each sample, in which case the first point is considered the starting point and all positions are realtive to that one."
   ]
  },
  {
   "cell_type": "code",
   "execution_count": null,
   "metadata": {},
   "outputs": [],
   "source": [
    "tb.data = [20, 0, 0, 2,2,0, 2,0,2, 0,2,2, 2,2,2]"
   ]
  },
  {
   "cell_type": "code",
   "execution_count": null,
   "metadata": {},
   "outputs": [],
   "source": [
    "tclient.get_parameter(\"width\", \"trajectory\").value = 3"
   ]
  },
  {
   "cell_type": "markdown",
   "metadata": {},
   "source": [
    "For 'dataArrangement'== 1, positions are aboslute positions, each pair describing an individual vector."
   ]
  },
  {
   "cell_type": "code",
   "execution_count": null,
   "metadata": {},
   "outputs": [],
   "source": [
    "tb.set_attributes({\"dataArrangement\": 1})\n",
    "tb.data = [0,0,0,10,10,10, 20,10,5, 20,0,0, 0,30,0, 0,0,40]"
   ]
  },
  {
   "cell_type": "markdown",
   "metadata": {},
   "source": [
    "For 'dataArrangement'== 2, the color (rgb) must be specified for each triplet after the second one"
   ]
  },
  {
   "cell_type": "code",
   "execution_count": null,
   "metadata": {},
   "outputs": [],
   "source": [
    "tb.set_attributes({\"dataArrangement\": 2})\n",
    "tb.data = [0,0,0,10,10,10, 0,1,0, 10,10,10, 0,0,1, 10,0,0, 0,0,1, 0,10,0, 1,1,1, 0,0,10, 1, 1, 0]"
   ]
  },
  {
   "cell_type": "markdown",
   "metadata": {},
   "source": [
    "For 'dataArrangement'== 3, posotions are again absolute pairs followed by the rgb color"
   ]
  },
  {
   "cell_type": "code",
   "execution_count": null,
   "metadata": {},
   "outputs": [],
   "source": [
    "tb.set_attributes({\"dataArrangement\": 3})\n",
    "tb.data = [0,0,0,10,10,10, 0,1,0, 20,10,5, 20,0,0, 0,0,1, 0,30,0, 0,0,40, 1,1,1]"
   ]
  },
  {
   "cell_type": "markdown",
   "metadata": {},
   "source": []
  }
 ],
 "metadata": {
  "kernelspec": {
   "display_name": "Python 3.9.13 64-bit (windows store)",
   "language": "python",
   "name": "python3"
  },
  "language_info": {
   "codemirror_mode": {
    "name": "ipython",
    "version": 3
   },
   "file_extension": ".py",
   "mimetype": "text/x-python",
   "name": "python",
   "nbconvert_exporter": "python",
   "pygments_lexer": "ipython3",
   "version": "3.9.13"
  },
  "vscode": {
   "interpreter": {
    "hash": "ed244be5568431afe3ab567b48651d5568744eb3576c105256d0aa6a71dc2f94"
   }
  }
 },
 "nbformat": 4,
 "nbformat_minor": 4
}
