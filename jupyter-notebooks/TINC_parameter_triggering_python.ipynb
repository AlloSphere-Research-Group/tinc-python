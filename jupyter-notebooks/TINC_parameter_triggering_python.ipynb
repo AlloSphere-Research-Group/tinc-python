{
 "cells": [
  {
   "cell_type": "markdown",
   "metadata": {},
   "source": [
    "# Parameter triggering in python"
   ]
  },
  {
   "cell_type": "code",
   "execution_count": null,
   "metadata": {},
   "outputs": [],
   "source": [
    "%pylab inline\n",
    "# Not needed if tinc-python is installed\n",
    "import sys\n",
    "sys.path.append('../tinc-python')"
   ]
  },
  {
   "cell_type": "code",
   "execution_count": 2,
   "metadata": {},
   "outputs": [
    {
     "name": "stdout",
     "output_type": "stream",
     "text": [
      "Attempt connection. localhost:34450\n",
      "Connected, sending handshake.\n",
      "Got HANDSHAKE_ACK. Server version 0 revision 0\n"
     ]
    }
   ],
   "source": [
    "from tinc_client import *\n",
    "tclient = TincClient()"
   ]
  },
  {
   "cell_type": "code",
   "execution_count": 3,
   "metadata": {},
   "outputs": [],
   "source": [
    "from parameter import *\n",
    "p = tclient.create_parameter(Parameter, \"range\", \"\", default_value = 0.5, min_value = 0.0, max_value = 1.0)"
   ]
  },
  {
   "cell_type": "code",
   "execution_count": 4,
   "metadata": {},
   "outputs": [],
   "source": [
    "p.value = 0.1"
   ]
  },
  {
   "cell_type": "code",
   "execution_count": 5,
   "metadata": {},
   "outputs": [],
   "source": [
    "p.values = linspace(0, 1, 10)"
   ]
  },
  {
   "cell_type": "code",
   "execution_count": 10,
   "metadata": {},
   "outputs": [
    {
     "data": {
      "text/plain": [
       "array([0.        , 0.11111111, 0.22222222, 0.33333333, 0.44444444,\n",
       "       0.55555556, 0.66666667, 0.77777778, 0.88888889, 1.        ])"
      ]
     },
     "execution_count": 10,
     "metadata": {},
     "output_type": "execute_result"
    }
   ],
   "source": [
    "p.ids"
   ]
  },
  {
   "cell_type": "code",
   "execution_count": 9,
   "metadata": {},
   "outputs": [],
   "source": [
    "#from disk_buffer_writer import *\n",
    "#rand_data = DiskBufferWriter('random_data','rand_output.json', 'bin/')\n",
    "#rand_data.expose_to_network(pserver)"
   ]
  },
  {
   "cell_type": "code",
   "execution_count": 6,
   "metadata": {},
   "outputs": [],
   "source": [
    "import random\n",
    "def computing_function(parameter_value):\n",
    "    print(f\"computing {parameter_value}\")\n",
    "    "
   ]
  },
  {
   "cell_type": "code",
   "execution_count": 7,
   "metadata": {},
   "outputs": [
    {
     "name": "stdout",
     "output_type": "stream",
     "text": [
      "computing 0.9\n"
     ]
    }
   ],
   "source": [
    "computing_function(0.9)"
   ]
  },
  {
   "cell_type": "code",
   "execution_count": 8,
   "metadata": {},
   "outputs": [
    {
     "name": "stdout",
     "output_type": "stream",
     "text": [
      "computing 0.4090000092983246\n",
      "computing 0.4169999957084656\n",
      "computing 0.4259999990463257\n",
      "computing 0.4350000023841858\n",
      "computing 0.4429999887943268\n",
      "computing 0.4519999921321869\n",
      "computing 0.4569999873638153\n",
      "computing 0.4699999988079071\n",
      "computing 0.4779999852180481\n",
      "computing 0.4830000102519989\n",
      "computing 0.4909999966621399\n",
      "computing 0.5\n",
      "computing 0.5040000081062317\n",
      "computing 0.5130000114440918\n",
      "computing 0.5220000147819519\n",
      "computing 0.5260000228881836\n",
      "computing 0.5350000262260437\n",
      "computing 0.5429999828338623\n",
      "computing 0.5609999895095825\n",
      "computing 0.5740000009536743\n",
      "computing 0.5830000042915344\n",
      "computing 0.5870000123977661\n",
      "computing 0.5910000205039978\n",
      "computing 0.5870000123977661\n",
      "computing 0.5740000009536743\n",
      "computing 0.5699999928474426\n",
      "computing 0.5519999861717224\n",
      "computing 0.5429999828338623\n",
      "computing 0.5260000228881836\n",
      "computing 0.5170000195503235\n",
      "computing 0.4959999918937683\n",
      "computing 0.4830000102519989\n",
      "computing 0.4740000069141388\n",
      "computing 0.460999995470047\n",
      "computing 0.4390000104904175\n",
      "computing 0.4300000071525574\n",
      "computing 0.4129999876022339\n",
      "computing 0.4000000059604645\n",
      "computing 0.3869999945163727\n",
      "computing 0.3779999911785126\n",
      "computing 0.3700000047683716\n",
      "computing 0.3610000014305115\n",
      "computing 0.3569999933242798\n",
      "computing 0.34299999475479126\n",
      "computing 0.33899998664855957\n",
      "computing 0.33500000834465027\n",
      "Connection closed.\n",
      "Attempt connection. localhost:34450\n",
      "Connection failed.\n",
      "Closed command server\n"
     ]
    }
   ],
   "source": [
    "p.register_callback(computing_function)"
   ]
  },
  {
   "cell_type": "code",
   "execution_count": 9,
   "metadata": {},
   "outputs": [
    {
     "ename": "AttributeError",
     "evalue": "'TincClient' object has no attribute 'store'",
     "output_type": "error",
     "traceback": [
      "\u001b[1;31m---------------------------------------------------------------------------\u001b[0m",
      "\u001b[1;31mAttributeError\u001b[0m                            Traceback (most recent call last)",
      "\u001b[1;32m<ipython-input-9-49985b0a30bf>\u001b[0m in \u001b[0;36m<module>\u001b[1;34m\u001b[0m\n\u001b[1;32m----> 1\u001b[1;33m \u001b[0mtclient\u001b[0m\u001b[1;33m.\u001b[0m\u001b[0mstore\u001b[0m\u001b[1;33m(\u001b[0m\u001b[1;33m)\u001b[0m\u001b[1;33m\u001b[0m\u001b[1;33m\u001b[0m\u001b[0m\n\u001b[0m",
      "\u001b[1;31mAttributeError\u001b[0m: 'TincClient' object has no attribute 'store'"
     ]
    }
   ],
   "source": [
    "tclient.store()"
   ]
  },
  {
   "cell_type": "code",
   "execution_count": null,
   "metadata": {},
   "outputs": [],
   "source": []
  }
 ],
 "metadata": {
  "kernelspec": {
   "display_name": "Python 3",
   "language": "python",
   "name": "python3"
  },
  "language_info": {
   "codemirror_mode": {
    "name": "ipython",
    "version": 3
   },
   "file_extension": ".py",
   "mimetype": "text/x-python",
   "name": "python",
   "nbconvert_exporter": "python",
   "pygments_lexer": "ipython3",
   "version": "3.8.3"
  }
 },
 "nbformat": 4,
 "nbformat_minor": 4
}
