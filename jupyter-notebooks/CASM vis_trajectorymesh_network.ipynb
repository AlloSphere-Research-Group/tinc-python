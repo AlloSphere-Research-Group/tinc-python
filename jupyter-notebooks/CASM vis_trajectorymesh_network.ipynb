{
 "cells": [
  {
   "cell_type": "code",
   "execution_count": 1,
   "metadata": {},
   "outputs": [
    {
     "name": "stdout",
     "output_type": "stream",
     "text": [
      "Can't import ipywidgets. Notebook widgets not available\n",
      "Can't import ipywidgets. Notebook widgets not available\n",
      "0.9\n"
     ]
    }
   ],
   "source": [
    "from tinc import *\n",
    "TincVersion()"
   ]
  },
  {
   "cell_type": "code",
   "execution_count": 2,
   "metadata": {},
   "outputs": [
    {
     "name": "stdout",
     "output_type": "stream",
     "text": [
      "Connected to localhost:34450. Server version 1 revision 0\n",
      "Set working path to C:\\Users\\Andres\\source\\repos\\casm_viewer\\bin\\\n",
      "Validating json with C:\\Users\\Andres\\AppData\\Local\\Packages\\PythonSoftwareFoundation.Python.3.9_qbz5n2kfra8p0\\LocalCache\\local-packages\\Python39\\site-packages\\tinc\\tinc_cache_schema.json\n"
     ]
    }
   ],
   "source": [
    "tclient = TincClient()"
   ]
  },
  {
   "cell_type": "code",
   "execution_count": 3,
   "metadata": {},
   "outputs": [
    {
     "data": {
      "text/plain": [
       "['ShellSiteTypes',\n",
       " 'PercolationTypes',\n",
       " 'markerColor',\n",
       " 'markerScale',\n",
       " 'percoMarkerScaleFactor',\n",
       " 'currentSelection',\n",
       " 'previousSelection',\n",
       " 'dataset',\n",
       " 'alpha',\n",
       " 'width',\n",
       " 'alpha',\n",
       " 'width',\n",
       " 'atomMarkerSize',\n",
       " 'dataScale',\n",
       " 'showAtoms',\n",
       " 'alpha',\n",
       " 'SlicingPlaneCorner',\n",
       " 'SlicingPlaneSize',\n",
       " 'SliceNormal',\n",
       " 'SlicingPlaneThickness',\n",
       " 'SliceRotationPitch',\n",
       " 'SliceRotationYaw',\n",
       " 'SliceRotationRoll',\n",
       " 'clippedMultiplier',\n",
       " 'T',\n",
       " 'param_chem_pot(a)']"
      ]
     },
     "execution_count": 3,
     "metadata": {},
     "output_type": "execute_result"
    }
   ],
   "source": [
    "[p.id for p in tclient.parameters]"
   ]
  },
  {
   "cell_type": "code",
   "execution_count": 4,
   "metadata": {},
   "outputs": [],
   "source": [
    "alpha = tclient.get_parameter(\"alpha\")"
   ]
  },
  {
   "cell_type": "code",
   "execution_count": 5,
   "metadata": {},
   "outputs": [
    {
     "data": {
      "text/plain": [
       "1.0"
      ]
     },
     "execution_count": 5,
     "metadata": {},
     "output_type": "execute_result"
    }
   ],
   "source": [
    "alpha.value"
   ]
  },
  {
   "cell_type": "code",
   "execution_count": 6,
   "metadata": {},
   "outputs": [],
   "source": [
    "alpha.value = 1.0"
   ]
  },
  {
   "cell_type": "code",
   "execution_count": 7,
   "metadata": {},
   "outputs": [
    {
     "data": {
      "text/plain": [
       "[<tinc.disk_buffer.DiskBufferImage at 0x1888c0ebb80>,\n",
       " <tinc.disk_buffer.DiskBufferImage at 0x1888c0ebc70>,\n",
       " <tinc.disk_buffer.DiskBufferImage at 0x1888c0ebbe0>,\n",
       " <tinc.disk_buffer.DiskBufferImage at 0x1888c159820>,\n",
       " <tinc.disk_buffer.DiskBufferImage at 0x1888c1598b0>,\n",
       " <tinc.disk_buffer.DiskBufferImage at 0x1888c159940>,\n",
       " <tinc.disk_buffer.DiskBufferNetCDFData at 0x1888c1599d0>,\n",
       " <tinc.disk_buffer.DiskBufferNetCDFData at 0x1888c159af0>,\n",
       " <tinc.disk_buffer.DiskBufferNetCDFData at 0x1888c159b80>]"
      ]
     },
     "execution_count": 7,
     "metadata": {},
     "output_type": "execute_result"
    }
   ],
   "source": [
    "tclient.disk_buffers"
   ]
  },
  {
   "cell_type": "code",
   "execution_count": 10,
   "metadata": {},
   "outputs": [],
   "source": [
    "traj_buffer = tclient.disk_buffers[6]"
   ]
  },
  {
   "cell_type": "code",
   "execution_count": 11,
   "metadata": {},
   "outputs": [
    {
     "data": {
      "text/plain": [
       "'history_0.nc'"
      ]
     },
     "execution_count": 11,
     "metadata": {},
     "output_type": "execute_result"
    }
   ],
   "source": [
    "#tclient.synchronize()\n",
    "traj_buffer.get_current_filename()"
   ]
  },
  {
   "cell_type": "code",
   "execution_count": 13,
   "metadata": {},
   "outputs": [
    {
     "name": "stdout",
     "output_type": "stream",
     "text": [
      "Trajectory Render buffer:\n",
      "Set attribute \\\"dataArrangement\\\" to determine interpretation of list of floats.\n",
      "dataArrangement == 0: DATA_POS_REL Size: n*3\n",
      "Expects: x0,y0,z0, dx1,dy1,dz1 ... dxn, dyn, dzn\n",
      "\n",
      "dataArrangement == 1: DATA_POS_ABS Size: n*3\n",
      "Expects: x0,y0,z0, x1,y1,z1 ... xn, yn, zn\n",
      "\n",
      "dataArrangement == 1: DATA_POS_REL_RGB Size: (n - 1)*6 + 3\n",
      "Expects: x0,y0,z0, dx1,dy1,dz1, r1,g1,b1,  ... dxn,dyn, dzn, rn, gn, bn\n",
      "\n",
      "dataArrangement == 1: DATA_POS_ABS_RGB Size: (n - 1)*6 + 3\n",
      "Expects: x0,y0,z0, x1,y1,z1, r1,g1,b1,  ... xn,yn, zn, rn, gn, bn\n",
      "\n",
      " \n"
     ]
    }
   ],
   "source": [
    "print(traj_buffer.documentation)"
   ]
  },
  {
   "cell_type": "code",
   "execution_count": 18,
   "metadata": {},
   "outputs": [
    {
     "ename": "AttributeError",
     "evalue": "'DiskBufferImage' object has no attribute 'get_path'",
     "output_type": "error",
     "traceback": [
      "\u001b[1;31m---------------------------------------------------------------------------\u001b[0m",
      "\u001b[1;31mAttributeError\u001b[0m                            Traceback (most recent call last)",
      "\u001b[1;32m~\\AppData\\Local\\Temp/ipykernel_44188/3834252511.py\u001b[0m in \u001b[0;36m<module>\u001b[1;34m\u001b[0m\n\u001b[1;32m----> 1\u001b[1;33m \u001b[0mtraj_buffer\u001b[0m\u001b[1;33m.\u001b[0m\u001b[0mget_path\u001b[0m\u001b[1;33m(\u001b[0m\u001b[1;33m)\u001b[0m\u001b[1;33m\u001b[0m\u001b[1;33m\u001b[0m\u001b[0m\n\u001b[0m",
      "\u001b[1;31mAttributeError\u001b[0m: 'DiskBufferImage' object has no attribute 'get_path'"
     ]
    }
   ],
   "source": [
    "traj_buffer.get_path()"
   ]
  },
  {
   "cell_type": "code",
   "execution_count": null,
   "metadata": {},
   "outputs": [],
   "source": [
    "traj_buffer.data"
   ]
  },
  {
   "cell_type": "code",
   "execution_count": null,
   "metadata": {},
   "outputs": [],
   "source": [
    "traj_buffer.set_attributes({\"dataArrangement\":0})"
   ]
  },
  {
   "cell_type": "code",
   "execution_count": null,
   "metadata": {},
   "outputs": [],
   "source": [
    "import numpy as np\n",
    "traj_buffer.data = [0,0,-5, 1, 1, 1]"
   ]
  },
  {
   "cell_type": "code",
   "execution_count": null,
   "metadata": {},
   "outputs": [],
   "source": [
    "import random\n",
    "data = [0, 0, -10]\n",
    "for v in np.linspace(0, 2):\n",
    "    data += [random.random()- 0.5, random.random()- 0.5, random.random()- 0.5]\n",
    "traj_buffer.data = data"
   ]
  },
  {
   "cell_type": "code",
   "execution_count": null,
   "metadata": {},
   "outputs": [],
   "source": [
    "traj_buffer.set_attributes({\"dataArrangement\":2})"
   ]
  },
  {
   "cell_type": "code",
   "execution_count": null,
   "metadata": {},
   "outputs": [],
   "source": [
    "import random\n",
    "data = [0, 0, -10]\n",
    "for v in range(20):\n",
    "    data += [random.random()*0.2, random.random()* 0.2, random.random()*0.2, random.random(), random.random(),  1.0 ]\n",
    "traj_buffer.data = data"
   ]
  },
  {
   "cell_type": "code",
   "execution_count": null,
   "metadata": {},
   "outputs": [],
   "source": [
    "data"
   ]
  },
  {
   "cell_type": "code",
   "execution_count": null,
   "metadata": {},
   "outputs": [],
   "source": [
    "traj_buffer.data"
   ]
  },
  {
   "cell_type": "code",
   "execution_count": null,
   "metadata": {},
   "outputs": [],
   "source": [
    "import random\n",
    "data = [0.2,0,0.5] #Starting point\n",
    "for v in np.linspace(1, 1.5):\n",
    "    data += [v -1, v-1, v-1, v/2.0, v/2.0, v/2.0 ]\n",
    "traj_buffer.data = data"
   ]
  },
  {
   "cell_type": "code",
   "execution_count": null,
   "metadata": {},
   "outputs": [],
   "source": []
  }
 ],
 "metadata": {
  "kernelspec": {
   "display_name": "Python 3",
   "language": "python",
   "name": "python3"
  },
  "language_info": {
   "codemirror_mode": {
    "name": "ipython",
    "version": 3
   },
   "file_extension": ".py",
   "mimetype": "text/x-python",
   "name": "python",
   "nbconvert_exporter": "python",
   "pygments_lexer": "ipython3",
   "version": "3.8.3"
  }
 },
 "nbformat": 4,
 "nbformat_minor": 4
}
