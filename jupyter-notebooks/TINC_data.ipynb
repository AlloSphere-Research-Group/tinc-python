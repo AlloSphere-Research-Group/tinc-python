{
 "cells": [
  {
   "cell_type": "code",
   "execution_count": null,
   "metadata": {},
   "outputs": [],
   "source": [
    "# Not needed if tinc-python is installed\n",
    "import sys\n",
    "sys.path.append('../tinc-python')"
   ]
  },
  {
   "cell_type": "code",
   "execution_count": 24,
   "metadata": {},
   "outputs": [
    {
     "name": "stdout",
     "output_type": "stream",
     "text": [
      "Closed command server\n",
      "Closed parameter server\n"
     ]
    }
   ],
   "source": [
    "pserver.stop()"
   ]
  },
  {
   "cell_type": "code",
   "execution_count": 1,
   "metadata": {},
   "outputs": [
    {
     "name": "stdout",
     "output_type": "stream",
     "text": [
      "Parameter server started on ('127.0.0.1', 9011)\n",
      "Serving on ('127.0.0.1', 14001)\n",
      "Sending registering as listener request\n",
      "Register listener 127.0.0.1:9010\n"
     ]
    }
   ],
   "source": [
    "from parameter_server import *\n",
    "pserver = ParameterServer()"
   ]
  },
  {
   "cell_type": "markdown",
   "metadata": {},
   "source": [
    "# Usage of DiskBufferWriter"
   ]
  },
  {
   "cell_type": "code",
   "execution_count": 2,
   "metadata": {},
   "outputs": [],
   "source": [
    "from disk_buffer_writer import *"
   ]
  },
  {
   "cell_type": "code",
   "execution_count": 3,
   "metadata": {},
   "outputs": [],
   "source": [
    "background = DiskBufferWriter('background','background.json', 'bin/')\n",
    "background.expose_to_network(pserver)"
   ]
  },
  {
   "cell_type": "code",
   "execution_count": 15,
   "metadata": {},
   "outputs": [],
   "source": [
    "import random, math\n",
    "\n",
    "background.data = [random.random() for i in range(3)]"
   ]
  },
  {
   "cell_type": "markdown",
   "metadata": {},
   "source": [
    "# Cache to compensate for possible time writing overlaps"
   ]
  },
  {
   "cell_type": "code",
   "execution_count": 16,
   "metadata": {},
   "outputs": [],
   "source": [
    "dataWriter = DiskBufferWriter('sine_data','output.json', 'bin/')\n",
    "dataWriter.expose_to_network(pserver)\n",
    "dataWriter.allow_cache(10)"
   ]
  },
  {
   "cell_type": "code",
   "execution_count": 17,
   "metadata": {},
   "outputs": [],
   "source": [
    "import random, math\n",
    "\n",
    "numpoints = random.randint(4,20)\n",
    "\n",
    "rnums = [random.random() for i in range(15)]\n",
    "rnums.sort()\n",
    "dataWriter.data = {'random' : [-1.0 + (n* 2.0) for n in rnums],\n",
    "                   'sines' : [math.sin(r* 2 * math.pi) for r in rnums]\n",
    "                  }"
   ]
  },
  {
   "cell_type": "code",
   "execution_count": 18,
   "metadata": {},
   "outputs": [
    {
     "data": {
      "text/plain": [
       "{'random': [-0.991967206140917,\n",
       "  -0.8917266798894159,\n",
       "  -0.7819396739248883,\n",
       "  -0.7286422735256941,\n",
       "  -0.7127629953701178,\n",
       "  -0.5563408640092402,\n",
       "  -0.5363229097607982,\n",
       "  -0.4721036546227386,\n",
       "  -0.2661573548321656,\n",
       "  -0.16804753824757213,\n",
       "  0.16523261747927087,\n",
       "  0.20797501452650824,\n",
       "  0.5028219360481028,\n",
       "  0.6830976090166336,\n",
       "  0.8411478250804942],\n",
       " 'sines': [0.025233087720183695,\n",
       "  0.3336291304092406,\n",
       "  0.6327169343366218,\n",
       "  0.7529250125703962,\n",
       "  0.7848051524130282,\n",
       "  0.9843763455796072,\n",
       "  0.9934963120068258,\n",
       "  0.9961621642432366,\n",
       "  0.7420732320099696,\n",
       "  0.5037522193607783,\n",
       "  -0.49609332274725804,\n",
       "  -0.6078679721965934,\n",
       "  -0.9999607028332225,\n",
       "  -0.8390736702576778,\n",
       "  -0.4785905879048926]}"
      ]
     },
     "execution_count": 18,
     "metadata": {},
     "output_type": "execute_result"
    }
   ],
   "source": [
    "dataWriter.data"
   ]
  },
  {
   "cell_type": "code",
   "execution_count": 22,
   "metadata": {},
   "outputs": [],
   "source": [
    "import time\n",
    "for i in range(20):\n",
    "    numpoints = random.randint(4,20)\n",
    "\n",
    "    rnums = [random.random() for i in range(15)]\n",
    "    rnums.sort()\n",
    "    dataWriter.data = {'random' : [-1.0 + (n* 2.0) for n in rnums],\n",
    "                       'sines' : [math.sin(r* 2 * math.pi) for r in rnums]\n",
    "                      }\n",
    "    time.sleep(0.1)"
   ]
  },
  {
   "cell_type": "markdown",
   "metadata": {},
   "source": [
    "Now let's send changes really fast to test disk caching. (It may fail on your system if your drive access is not fast enough, causing the app to crash)"
   ]
  },
  {
   "cell_type": "code",
   "execution_count": 23,
   "metadata": {},
   "outputs": [],
   "source": [
    "import time\n",
    "dataWriter.allow_cache(100)\n",
    "\n",
    "for i in range(200):\n",
    "    numpoints = random.randint(4,20)\n",
    "\n",
    "    rnums = [random.random() for i in range(15)]\n",
    "    rnums.sort()\n",
    "    dataWriter.data = {'random' : [-1.0 + (n* 2.0) for n in rnums],\n",
    "                       'sines' : [math.sin(r* 2 * math.pi) for r in rnums]\n",
    "                      }\n",
    "    time.sleep(0.001)"
   ]
  },
  {
   "cell_type": "markdown",
   "metadata": {},
   "source": [
    "This might leave a large cache, so cleanup:"
   ]
  },
  {
   "cell_type": "code",
   "execution_count": 30,
   "metadata": {},
   "outputs": [],
   "source": [
    "dataWriter.cleanup_cache()"
   ]
  },
  {
   "cell_type": "markdown",
   "metadata": {},
   "source": [
    "If you need guaranteed safety, use file locking:"
   ]
  },
  {
   "cell_type": "code",
   "execution_count": 31,
   "metadata": {},
   "outputs": [],
   "source": [
    "\n",
    "# No cache but file locking\n",
    "dataWriter.allow_cache(-1)\n",
    "dataWriter.use_file_lock()\n",
    "\n",
    "import time\n",
    "for i in range(10000):\n",
    "    numpoints = random.randint(4,20)\n",
    "\n",
    "    rnums = [random.random() for i in range(15)]\n",
    "    rnums.sort()\n",
    "    dataWriter.data = {'random' : [-1.0 + (n* 2.0) for n in rnums],\n",
    "                       'sines' : [math.sin(r* 2 * math.pi) for r in rnums]\n",
    "                      }\n",
    "    time.sleep(0.00001) # Very fast updates"
   ]
  },
  {
   "cell_type": "markdown",
   "metadata": {},
   "source": [
    "If this is still not enough, you can have the data writer wait for read acknowledge from app.\n",
    "\n",
    "Currently not implemented."
   ]
  },
  {
   "cell_type": "code",
   "execution_count": null,
   "metadata": {},
   "outputs": [],
   "source": []
  },
  {
   "cell_type": "code",
   "execution_count": null,
   "metadata": {},
   "outputs": [],
   "source": [
    "pserver.stop()"
   ]
  }
 ],
 "metadata": {
  "kernelspec": {
   "display_name": "Python 3",
   "language": "python",
   "name": "python3"
  },
  "language_info": {
   "codemirror_mode": {
    "name": "ipython",
    "version": 3
   },
   "file_extension": ".py",
   "mimetype": "text/x-python",
   "name": "python",
   "nbconvert_exporter": "python",
   "pygments_lexer": "ipython3",
   "version": "3.8.2"
  }
 },
 "nbformat": 4,
 "nbformat_minor": 4
}
