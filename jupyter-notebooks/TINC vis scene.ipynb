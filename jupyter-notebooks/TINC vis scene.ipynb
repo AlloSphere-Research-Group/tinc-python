{
 "cells": [
  {
   "cell_type": "code",
   "execution_count": 2,
   "metadata": {},
   "outputs": [
    {
     "name": "stdout",
     "output_type": "stream",
     "text": [
      "Attempt connection. localhost:34450\n"
     ]
    }
   ],
   "source": [
    "# Not needed if tinc-python is installed\n",
    "import sys\n",
    "sys.path.append('../tinc-python')\n",
    "from tinc_client import *\n",
    "tclient = TincClient()"
   ]
  },
  {
   "cell_type": "code",
   "execution_count": 4,
   "metadata": {},
   "outputs": [
    {
     "data": {
      "text/plain": [
       "True"
      ]
     },
     "execution_count": 4,
     "metadata": {},
     "output_type": "execute_result"
    }
   ],
   "source": [
    "tclient.connected"
   ]
  },
  {
   "cell_type": "code",
   "execution_count": 57,
   "metadata": {},
   "outputs": [
    {
     "name": "stdout",
     "output_type": "stream",
     "text": [
      "DiskBuffer already registered: 'trajectory_buffer'\n"
     ]
    }
   ],
   "source": [
    "tclient.synchronize()"
   ]
  },
  {
   "cell_type": "code",
   "execution_count": 58,
   "metadata": {},
   "outputs": [
    {
     "data": {
      "text/plain": [
       "[<disk_buffer.DiskBuffer at 0x1f0a2c495e0>]"
      ]
     },
     "execution_count": 58,
     "metadata": {},
     "output_type": "execute_result"
    }
   ],
   "source": [
    "tclient.disk_buffers"
   ]
  },
  {
   "cell_type": "code",
   "execution_count": 59,
   "metadata": {},
   "outputs": [],
   "source": [
    "traj_buffer = tclient.disk_buffers[0]"
   ]
  },
  {
   "cell_type": "markdown",
   "metadata": {},
   "source": [
    "The positions for the trajectory can be specified as a single x,y,z coordinate for each sample, in which case the first point is considered the starting point and all positions are realtive to that one"
   ]
  },
  {
   "cell_type": "code",
   "execution_count": 60,
   "metadata": {},
   "outputs": [],
   "source": [
    "pos = [[ [0.0,-0.5, 0]], [ [0,0.3, 0]],[ [0.1,0.3, 0]], [ [-0.3,0.5, 0]], [ [-0.1,0.1, 0.4]]]"
   ]
  },
  {
   "cell_type": "code",
   "execution_count": 61,
   "metadata": {},
   "outputs": [],
   "source": [
    "def write_positions(pos):\n",
    "    import json\n",
    "    fname = traj_buffer.get_filename_for_writing()\n",
    "\n",
    "    with open(fname, 'w') as f:\n",
    "        json.dump(pos, f)\n",
    "        traj_buffer.done_writing_file(fname)\n"
   ]
  },
  {
   "cell_type": "code",
   "execution_count": 62,
   "metadata": {},
   "outputs": [],
   "source": [
    "write_positions(pos)"
   ]
  },
  {
   "cell_type": "markdown",
   "metadata": {},
   "source": [
    "If two positions are provided, each pair draws a marker:"
   ]
  },
  {
   "cell_type": "code",
   "execution_count": 53,
   "metadata": {},
   "outputs": [],
   "source": [
    "pos = [[ [0.1,0.1, 0], [0.1,0.3, 0]], [ [0,0.3, 0],[0.0,0.3, 1.0]], [ [0.3,0.5, 0], 0,0, -3]]\n",
    "write_positions(pos)"
   ]
  },
  {
   "cell_type": "markdown",
   "metadata": {},
   "source": [
    "A third value indicates the color (rgb or rgba):"
   ]
  },
  {
   "cell_type": "code",
   "execution_count": 76,
   "metadata": {},
   "outputs": [],
   "source": [
    "pos = [[ [0.1,0.1, 0], [0.1,0.3, 0], [1, 0, 0]],\n",
    "       [ [0,0.3, 0],[0.0,0.3, 1.0], [0, 1, 0]],\n",
    "       [ [0.3,0.5, 0], [0,0, -3], [0, 0,1]]]\n",
    "write_positions(pos)"
   ]
  },
  {
   "cell_type": "markdown",
   "metadata": {},
   "source": [
    "Alpha values are scaled by the current alpha value (see 'Parameters' below)"
   ]
  },
  {
   "cell_type": "code",
   "execution_count": 85,
   "metadata": {},
   "outputs": [],
   "source": [
    "pos = [[ [0.1,0.1, 0], [0.1,0.3, 0], [1, 0, 0, 0.1]],\n",
    "       [ [0,0.3, 0],[0.0,0.3, 1.0], [0, 1, 0, 0.8]],\n",
    "       [ [0.3,0.5, 0], [0,0, -3], [0, 0, 1, 3]]]\n",
    "write_positions(pos)"
   ]
  },
  {
   "cell_type": "markdown",
   "metadata": {},
   "source": [
    "## Parameters"
   ]
  },
  {
   "cell_type": "code",
   "execution_count": 63,
   "metadata": {},
   "outputs": [
    {
     "data": {
      "text/plain": [
       "[<parameter.Parameter at 0x1f0a288e520>,\n",
       " <parameter.Parameter at 0x1f0a25e6dc0>]"
      ]
     },
     "execution_count": 63,
     "metadata": {},
     "output_type": "execute_result"
    }
   ],
   "source": [
    "tclient.parameters"
   ]
  },
  {
   "cell_type": "code",
   "execution_count": 65,
   "metadata": {},
   "outputs": [
    {
     "data": {
      "text/plain": [
       "'/trajectory/alpha'"
      ]
     },
     "execution_count": 65,
     "metadata": {},
     "output_type": "execute_result"
    }
   ],
   "source": [
    "tclient.parameters[0].get_osc_address()"
   ]
  },
  {
   "cell_type": "code",
   "execution_count": 82,
   "metadata": {},
   "outputs": [],
   "source": [
    "tclient.parameters[0].value = 0.3"
   ]
  },
  {
   "cell_type": "code",
   "execution_count": 83,
   "metadata": {},
   "outputs": [],
   "source": [
    "tclient.parameters[0].value = 0.8"
   ]
  },
  {
   "cell_type": "code",
   "execution_count": 68,
   "metadata": {},
   "outputs": [
    {
     "data": {
      "text/plain": [
       "'/trajectory/width'"
      ]
     },
     "execution_count": 68,
     "metadata": {},
     "output_type": "execute_result"
    }
   ],
   "source": [
    "tclient.parameters[1].get_osc_address()"
   ]
  },
  {
   "cell_type": "code",
   "execution_count": 69,
   "metadata": {},
   "outputs": [],
   "source": [
    "tclient.parameters[1].value = 0.3"
   ]
  },
  {
   "cell_type": "code",
   "execution_count": 70,
   "metadata": {},
   "outputs": [],
   "source": [
    "tclient.parameters[1].value = 0.01"
   ]
  },
  {
   "cell_type": "markdown",
   "metadata": {},
   "source": [
    "You can also address the parameters by their name and their group. The group is the parent SceneObject id."
   ]
  },
  {
   "cell_type": "code",
   "execution_count": 71,
   "metadata": {},
   "outputs": [
    {
     "data": {
      "text/plain": [
       "0.01"
      ]
     },
     "execution_count": 71,
     "metadata": {},
     "output_type": "execute_result"
    }
   ],
   "source": [
    "tclient.get_parameter(\"width\", \"trajectory\").value"
   ]
  },
  {
   "cell_type": "code",
   "execution_count": null,
   "metadata": {},
   "outputs": [],
   "source": []
  }
 ],
 "metadata": {
  "kernelspec": {
   "display_name": "Python 3",
   "language": "python",
   "name": "python3"
  },
  "language_info": {
   "codemirror_mode": {
    "name": "ipython",
    "version": 3
   },
   "file_extension": ".py",
   "mimetype": "text/x-python",
   "name": "python",
   "nbconvert_exporter": "python",
   "pygments_lexer": "ipython3",
   "version": "3.8.3"
  }
 },
 "nbformat": 4,
 "nbformat_minor": 4
}
