{
 "cells": [
  {
   "cell_type": "markdown",
   "metadata": {},
   "source": [
    "# Using Plotly graphs with TINC"
   ]
  },
  {
   "cell_type": "code",
   "execution_count": null,
   "metadata": {},
   "outputs": [],
   "source": [
    "import tinc\n",
    "from numpy import *"
   ]
  },
  {
   "cell_type": "code",
   "execution_count": null,
   "metadata": {},
   "outputs": [],
   "source": [
    "p = tinc.Parameter(\"param\", \"\", 0, 10, 1.5)\n",
    "p.values = linspace(0, 10, 21)"
   ]
  },
  {
   "cell_type": "code",
   "execution_count": null,
   "metadata": {},
   "outputs": [],
   "source": [
    "p.values"
   ]
  },
  {
   "cell_type": "code",
   "execution_count": null,
   "metadata": {},
   "outputs": [],
   "source": [
    "p2 = tinc.Parameter(\"param2\", \"\", 0, 10, 2.5)\n",
    "p2.values = linspace(0, 10, 21)"
   ]
  },
  {
   "cell_type": "code",
   "execution_count": null,
   "metadata": {},
   "outputs": [],
   "source": [
    "from ipywidgets import VBox"
   ]
  },
  {
   "cell_type": "markdown",
   "metadata": {},
   "source": [
    "Create a plotly ```FigureWidget``` and set the data to contain the plot you need:"
   ]
  },
  {
   "cell_type": "code",
   "execution_count": null,
   "metadata": {},
   "outputs": [],
   "source": [
    "import plotly.graph_objects as go\n",
    "x = linspace(0, 100, 101)\n",
    "y = linspace(0,100, 101)\n",
    "g = go.FigureWidget(data=[go.Scatter(x = x, y =y )])"
   ]
  },
  {
   "cell_type": "markdown",
   "metadata": {},
   "source": [
    "Write a callback function that gets the ```FigureWidget``` global object and change the data within the data objects for it:"
   ]
  },
  {
   "cell_type": "code",
   "execution_count": null,
   "metadata": {},
   "outputs": [],
   "source": [
    "def update_graph(ignored_value = 0):\n",
    "    global g\n",
    "    line = p.value * x * x + p2.value * x *50\n",
    "    g.data[0].y = line"
   ]
  },
  {
   "cell_type": "code",
   "execution_count": null,
   "metadata": {},
   "outputs": [],
   "source": [
    "p.register_callback(update_graph)\n",
    "p2.register_callback(update_graph)\n",
    "\n",
    "VBox([p.interactive_control(), p2.interactive_control(), g])"
   ]
  },
  {
   "cell_type": "code",
   "execution_count": null,
   "metadata": {},
   "outputs": [],
   "source": [
    "# clear the callbacks as we will be doing big changes\n",
    "p.clear_callbacks()\n",
    "p2.clear_callbacks()"
   ]
  },
  {
   "cell_type": "markdown",
   "metadata": {},
   "source": [
    "# 3D plot\n",
    "\n",
    "The only caveat when using TINC with plotly in this way is that you must initialize the ```FigureWidget``` with the same type an number of graph objects you plan to use. For example, to use "
   ]
  },
  {
   "cell_type": "code",
   "execution_count": null,
   "metadata": {},
   "outputs": [],
   "source": [
    "x = linspace(0, 100, 101)\n",
    "line = p.value * x * x + p2.value * x *50\n",
    "g = go.FigureWidget(data=[go.Mesh3d(x=x,\n",
    "                   y=line,\n",
    "                   z=-line + x,\n",
    "                   opacity=0.5,\n",
    "                   color='rgba(244,22,100,0.6)'\n",
    "                  ),go.Mesh3d(x=x,\n",
    "                   y=line,\n",
    "                   z=-line + x,\n",
    "                   opacity=0.5,\n",
    "                   color='rgba(244,22,100,0.6)'\n",
    "                  )])\n",
    "\n",
    "def update_graph(ignored_value = 0):\n",
    "    global g\n",
    "    x = linspace(0, 100, 101)\n",
    "    if p.value > 3:\n",
    "        line = p.value * x * x + p2.value * x *50\n",
    "        g.update(data = [go.Mesh3d(x=x,\n",
    "                   y=line,\n",
    "                   z=-line + x,\n",
    "                   opacity=0.5,\n",
    "                   color='rgba(244,22,100,0.6)'\n",
    "                  )])\n",
    "    else:\n",
    "        line = p.value * x * x + p2.value * x *50\n",
    "        g.update(data = [go.Mesh3d(x=x,\n",
    "                   y=line,\n",
    "                   z=-line + x,\n",
    "                   opacity=0.5,\n",
    "                   color='rgba(22,244,100,0.6)'\n",
    "                  ),go.Mesh3d(x=x,\n",
    "                   y=line + x + 100,\n",
    "                   z=-line + x,\n",
    "                   opacity=0.5,\n",
    "                   color='rgba(244,22,100,0.6)'\n",
    "                  )])\n",
    "        print(\"hello\")\n",
    "        "
   ]
  },
  {
   "cell_type": "code",
   "execution_count": null,
   "metadata": {},
   "outputs": [],
   "source": [
    "p.register_callback(update_graph)\n",
    "p2.register_callback(update_graph)\n",
    "\n",
    "VBox([p.interactive_control(), p2.interactive_control(), g])"
   ]
  },
  {
   "cell_type": "markdown",
   "metadata": {},
   "source": [
    "## Using cache for plotly plots"
   ]
  },
  {
   "cell_type": "code",
   "execution_count": null,
   "metadata": {},
   "outputs": [],
   "source": [
    "import time\n",
    "\n",
    "def generate_data(param, param2):\n",
    "    time.sleep(2.5) # Process takes time\n",
    "    x = linspace(0, 100, 101)\n",
    "    return param * x * x + param2 * x *50"
   ]
  },
  {
   "cell_type": "code",
   "execution_count": null,
   "metadata": {},
   "outputs": [],
   "source": [
    "ps = tinc.ParameterSpace('ps')\n",
    "\n",
    "ps.register_dimensions([p, p2])"
   ]
  },
  {
   "cell_type": "code",
   "execution_count": null,
   "metadata": {},
   "outputs": [],
   "source": [
    "ps.run_process(generate_data)"
   ]
  },
  {
   "cell_type": "code",
   "execution_count": null,
   "metadata": {},
   "outputs": [],
   "source": [
    "ps.enable_cache()"
   ]
  },
  {
   "cell_type": "code",
   "execution_count": null,
   "metadata": {},
   "outputs": [],
   "source": [
    "ps.run_process(generate_data)"
   ]
  },
  {
   "cell_type": "code",
   "execution_count": null,
   "metadata": {},
   "outputs": [],
   "source": [
    "import plotly.graph_objects as go\n",
    "x = linspace(0, 100, 101)\n",
    "y = linspace(0,100, 101)\n",
    "g = go.FigureWidget(data=[go.Scatter(x = x, y =y )])\n",
    "\n",
    "def update_graph(ignored_value = 0):\n",
    "    global g\n",
    "    g.data[0]['line']['color'] = \"#000000\" # Display black line while computation takes place\n",
    "    line = ps.run_process(generate_data)\n",
    "    g.data[0]['line']['color'] = \"#3333ff\" # Set color when done\n",
    "    g.data[0].y = line\n",
    "\n",
    "p.clear_callbacks()\n",
    "p2.clear_callbacks()\n",
    "\n",
    "p.register_callback(update_graph)\n",
    "p2.register_callback(update_graph)\n",
    "\n",
    "VBox([p.interactive_control(), p2.interactive_control(), g])"
   ]
  },
  {
   "cell_type": "code",
   "execution_count": null,
   "metadata": {},
   "outputs": [],
   "source": [
    "g.data[0]."
   ]
  },
  {
   "cell_type": "code",
   "execution_count": null,
   "metadata": {},
   "outputs": [],
   "source": []
  }
 ],
 "metadata": {
  "interpreter": {
   "hash": "c2a65986bea8fe10eba010c645dc57cb03f01c2d0ca86747cb7bb979b0300098"
  },
  "kernelspec": {
   "display_name": "Python 3",
   "language": "python",
   "name": "python3"
  },
  "language_info": {
   "codemirror_mode": {
    "name": "ipython",
    "version": 3
   },
   "file_extension": ".py",
   "mimetype": "text/x-python",
   "name": "python",
   "nbconvert_exporter": "python",
   "pygments_lexer": "ipython3",
   "version": "3.8.3"
  }
 },
 "nbformat": 4,
 "nbformat_minor": 2
}
