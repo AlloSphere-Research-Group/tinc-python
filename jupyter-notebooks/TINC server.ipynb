{
 "cells": [
  {
   "cell_type": "code",
   "execution_count": 1,
   "metadata": {},
   "outputs": [],
   "source": [
    "from tinc import *"
   ]
  },
  {
   "cell_type": "markdown",
   "metadata": {},
   "source": [
    "tinc_server application will likely not be in the path, so trying to create a server will likely fail, unless yopu set the path to the tinc_server executable through the \"TINC_BIN_DIR\" environment variable (this might be different on your system"
   ]
  },
  {
   "cell_type": "code",
   "execution_count": 2,
   "metadata": {},
   "outputs": [],
   "source": [
    "import os\n",
    "os.environ[\"TINC_BIN_DIR\"] = \"../../../../bin/\""
   ]
  },
  {
   "cell_type": "code",
   "execution_count": 3,
   "metadata": {},
   "outputs": [],
   "source": [
    "tserv = TincServer()"
   ]
  },
  {
   "cell_type": "markdown",
   "metadata": {},
   "source": [
    "Launch the docker container with a line like:\n",
    "\n",
    "```docker run -P --network casm_docker --hostname casm_ --rm -it -v c:\\Users\\Andres\\source\\repos:/shared casmcode/casm bash```\n",
    "\n",
    "You now need to define root path mappings (to map paths between the host system and a docker container for example):"
   ]
  },
  {
   "cell_type": "code",
   "execution_count": 4,
   "metadata": {},
   "outputs": [],
   "source": [
    "# The local path: \"C:/Users/Andres/source/repos\" is \"/shared\" in the docker container\n",
    "tserv.set_root_map_entry(\"C:/Users/Andres/source/repos\", \"/shared\")"
   ]
  },
  {
   "cell_type": "markdown",
   "metadata": {},
   "source": [
    "And start the TINC server and then start the TINC appliance application on the docker container."
   ]
  },
  {
   "cell_type": "code",
   "execution_count": 5,
   "metadata": {
    "scrolled": true
   },
   "outputs": [
    {
     "name": "stdout",
     "output_type": "stream",
     "text": [
      "Connected to localhost:34450. Server version 1 revision 0\n",
      "Set working path to C:\\Users\\Andres\\source\\repos\\casm_viewer\\external\\tinc\\tinc-python\\jupyter-notebooks\\\n"
     ]
    }
   ],
   "source": [
    "tserv.start()"
   ]
  },
  {
   "cell_type": "markdown",
   "metadata": {},
   "source": [
    "The TincServer and TincClient objects have the same API to access and register components."
   ]
  },
  {
   "cell_type": "code",
   "execution_count": 6,
   "metadata": {},
   "outputs": [
    {
     "name": "stdout",
     "output_type": "stream",
     "text": [
      "TINC Server\n",
      "CONNECTED\n",
      " ** Parameter settings_file_name group:  (<class 'str'>)\n",
      "    Default: genetic_alg_settings.json\n",
      " ** Parameter hall_of_fame_index group:  (<class 'int'>)\n",
      "    Default: 0\n",
      "    Min: 0\n",
      "    Max: 127\n",
      " ** Parameter fit_dir group:  (<class 'str'>)\n",
      "    Default: \n",
      " ** DiskBuffer: 'check_buffer' type 1\n",
      "      path: /shared/\\out/\\ basename: check.0\n",
      " ** DiskBuffer: 'select_buffer' type 1\n",
      "      path: /shared/\\out/\\ basename: select_fit_eci.out\n",
      " ** DiskBuffer: 'fit_eci_buffer' type 1\n",
      "      path: /shared/\\out/\\ basename: select_fit_eci.out\n"
     ]
    }
   ],
   "source": [
    "tserv.print()"
   ]
  },
  {
   "cell_type": "code",
   "execution_count": 7,
   "metadata": {},
   "outputs": [
    {
     "data": {
      "text/plain": [
       "<tinc.parameter.ParameterInt at 0x1b50ad9cbb0>"
      ]
     },
     "execution_count": 7,
     "metadata": {},
     "output_type": "execute_result"
    }
   ],
   "source": [
    "tserv.get_parameter(\"hall_of_fame_index\")"
   ]
  },
  {
   "cell_type": "code",
   "execution_count": 9,
   "metadata": {},
   "outputs": [],
   "source": [
    "fit_eci_buffer = tserv.get_disk_buffer(\"fit_eci_buffer\")"
   ]
  },
  {
   "cell_type": "code",
   "execution_count": 10,
   "metadata": {},
   "outputs": [],
   "source": [
    "def update(db):\n",
    "    print(\"updated buffer: \" + db.id)\n",
    "\n",
    "fit_eci_buffer.register_update_callback(update)"
   ]
  },
  {
   "cell_type": "code",
   "execution_count": 11,
   "metadata": {},
   "outputs": [],
   "source": [
    "tserv.get_parameter(\"hall_of_fame_index\").value = 10"
   ]
  },
  {
   "cell_type": "markdown",
   "metadata": {},
   "source": [
    "To close the server:"
   ]
  },
  {
   "cell_type": "code",
   "execution_count": null,
   "metadata": {},
   "outputs": [],
   "source": [
    "tserv.stop()"
   ]
  }
 ],
 "metadata": {
  "kernelspec": {
   "display_name": "Python 3",
   "language": "python",
   "name": "python3"
  },
  "language_info": {
   "codemirror_mode": {
    "name": "ipython",
    "version": 3
   },
   "file_extension": ".py",
   "mimetype": "text/x-python",
   "name": "python",
   "nbconvert_exporter": "python",
   "pygments_lexer": "ipython3",
   "version": "3.8.3"
  }
 },
 "nbformat": 4,
 "nbformat_minor": 4
}
