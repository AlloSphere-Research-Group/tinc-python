{
 "cells": [
  {
   "cell_type": "code",
   "execution_count": 1,
   "metadata": {},
   "outputs": [],
   "source": [
    "from tinc import *"
   ]
  },
  {
   "cell_type": "code",
   "execution_count": 2,
   "metadata": {},
   "outputs": [
    {
     "name": "stdout",
     "output_type": "stream",
     "text": [
      "Populating the interactive namespace from numpy and matplotlib\n"
     ]
    },
    {
     "name": "stderr",
     "output_type": "stream",
     "text": [
      "C:\\Users\\Andres\\AppData\\Local\\Packages\\PythonSoftwareFoundation.Python.3.9_qbz5n2kfra8p0\\LocalCache\\local-packages\\Python39\\site-packages\\IPython\\core\\magics\\pylab.py:159: UserWarning: pylab import has clobbered these variables: ['unique', 'interactive']\n",
      "`%matplotlib` prevents importing * from pylab and numpy\n",
      "  warn(\"pylab import has clobbered these variables: %s\"  % clobbered +\n"
     ]
    }
   ],
   "source": [
    "%pylab inline"
   ]
  },
  {
   "cell_type": "markdown",
   "metadata": {},
   "source": [
    "This notebook relies on the tinc-python unit test data folders. Clone the tinc-python repo from https://github.com/AlloSphere-Research-Group/tinc-python"
   ]
  },
  {
   "cell_type": "code",
   "execution_count": 3,
   "metadata": {},
   "outputs": [],
   "source": [
    "# Adjust this path to point to the location of tinc-python in your system\n",
    "tinc_path = \"../\""
   ]
  },
  {
   "cell_type": "markdown",
   "metadata": {},
   "source": [
    "To create a data pool, the first thing needed is a parameter space that defines the filesystem configuration of the data."
   ]
  },
  {
   "cell_type": "code",
   "execution_count": 4,
   "metadata": {},
   "outputs": [
    {
     "data": {
      "text/plain": [
       "['folder1', 'folder2', 'folder3']"
      ]
     },
     "execution_count": 4,
     "metadata": {},
     "output_type": "execute_result"
    }
   ],
   "source": [
    "import os\n",
    "os.listdir(tinc_path + \"tinc/tests/data\")"
   ]
  },
  {
   "cell_type": "markdown",
   "metadata": {},
   "source": [
    "All of these folders contain a file with the same name:"
   ]
  },
  {
   "cell_type": "code",
   "execution_count": 5,
   "metadata": {},
   "outputs": [
    {
     "data": {
      "text/plain": [
       "['results.json']"
      ]
     },
     "execution_count": 5,
     "metadata": {},
     "output_type": "execute_result"
    }
   ],
   "source": [
    "import os\n",
    "os.listdir(tinc_path + \"tinc/tests/data/folder1\")"
   ]
  },
  {
   "cell_type": "markdown",
   "metadata": {},
   "source": [
    "All these json files contain 3 fields with 8 elements each:"
   ]
  },
  {
   "cell_type": "code",
   "execution_count": 6,
   "metadata": {},
   "outputs": [
    {
     "name": "stdout",
     "output_type": "stream",
     "text": [
      "{'field1': [0, 1, 2, 3, 4, 5, 6, 7], 'field2': [1, 2, 3, 4, 5, 6, 7, 8], 'field3': [4, 5, 6, 7, 8, 9, 0, 1]}\n"
     ]
    }
   ],
   "source": [
    "with open(tinc_path + \"tinc/tests/data/folder1/results.json\") as f:\n",
    "    print(json.load(f))"
   ]
  },
  {
   "cell_type": "code",
   "execution_count": 7,
   "metadata": {},
   "outputs": [],
   "source": [
    "param1 = Parameter(\"param1\")\n",
    "param1.values = [0.1, 0.2, 0.3] # Arbitrarily defined here, but in a real dataset would represent the parameter values that map to folders\n",
    "param1.ids = [\"folder1\", \"folder2\", \"folder3\"]"
   ]
  },
  {
   "cell_type": "markdown",
   "metadata": {},
   "source": [
    "A second parameter can map to the internal \"columns\" in the fields within the results.json file:"
   ]
  },
  {
   "cell_type": "code",
   "execution_count": 8,
   "metadata": {},
   "outputs": [],
   "source": [
    "inner_param = Parameter(\"inner_param\")\n",
    "inner_param.values = linspace(0.1, 0.8, 8)\n"
   ]
  },
  {
   "cell_type": "code",
   "execution_count": 9,
   "metadata": {},
   "outputs": [],
   "source": [
    "ps = ParameterSpace()\n",
    "ps.register_parameters([param1, inner_param])\n",
    "ps.set_root_path(tinc_path)\n",
    "ps.set_current_path_template(\"tinc/tests/data/%%param1:ID%%\")"
   ]
  },
  {
   "cell_type": "markdown",
   "metadata": {},
   "source": [
    "To test things are working:"
   ]
  },
  {
   "cell_type": "code",
   "execution_count": 10,
   "metadata": {},
   "outputs": [
    {
     "data": {
      "application/vnd.jupyter.widget-view+json": {
       "model_id": "021f38b86db24bc99d9f8d0bc5ad18a9",
       "version_major": 2,
       "version_minor": 0
      },
      "text/plain": [
       "interactive(children=(FloatSlider(value=0.1, description='param1', max=0.3, min=0.1, readout_format='.7f', ste…"
      ]
     },
     "metadata": {},
     "output_type": "display_data"
    }
   ],
   "source": [
    "def print_current_path(discard_value = 0):\n",
    "    print(ps.get_current_relative_path())\n",
    "param1.register_callback(print_current_path)\n",
    "param1.interactive_widget()"
   ]
  },
  {
   "cell_type": "code",
   "execution_count": 11,
   "metadata": {},
   "outputs": [
    {
     "data": {
      "text/plain": [
       "'../'"
      ]
     },
     "execution_count": 11,
     "metadata": {},
     "output_type": "execute_result"
    }
   ],
   "source": [
    "ps.get_root_path()"
   ]
  },
  {
   "cell_type": "code",
   "execution_count": 12,
   "metadata": {},
   "outputs": [
    {
     "data": {
      "text/plain": [
       "['c:\\\\Users\\\\Andres\\\\source\\\\repos\\\\casm_viewer\\\\external\\\\tinc\\\\tinc-python\\\\tinc\\\\tests\\\\data\\\\folder1\\\\results.json']"
      ]
     },
     "execution_count": 12,
     "metadata": {},
     "output_type": "execute_result"
    }
   ],
   "source": [
    "dp = DataPoolJson(\"data\", ps)\n",
    "dp.register_data_file(\"results.json\", \"inner_param\")\n",
    "dp.get_current_files()"
   ]
  },
  {
   "cell_type": "code",
   "execution_count": 13,
   "metadata": {},
   "outputs": [
    {
     "data": {
      "text/plain": [
       "['field1', 'field2', 'field3']"
      ]
     },
     "execution_count": 13,
     "metadata": {},
     "output_type": "execute_result"
    }
   ],
   "source": [
    "dp.list_fields()"
   ]
  },
  {
   "cell_type": "code",
   "execution_count": 17,
   "metadata": {},
   "outputs": [
    {
     "data": {
      "text/plain": [
       "masked_array(data=[0., 1., 2., 3., 4., 5., 6., 7.],\n",
       "             mask=False,\n",
       "       fill_value=1e+20,\n",
       "            dtype=float32)"
      ]
     },
     "execution_count": 17,
     "metadata": {},
     "output_type": "execute_result"
    }
   ],
   "source": [
    "dp.get_slice(\"field1\",\"inner_param\")"
   ]
  },
  {
   "cell_type": "code",
   "execution_count": 18,
   "metadata": {},
   "outputs": [
    {
     "name": "stdout",
     "output_type": "stream",
     "text": [
      "tinc/tests/data/folder2\n"
     ]
    },
    {
     "data": {
      "text/plain": [
       "masked_array(data=[1., 2., 3., 4., 5., 6., 7., 8.],\n",
       "             mask=False,\n",
       "       fill_value=1e+20,\n",
       "            dtype=float32)"
      ]
     },
     "execution_count": 18,
     "metadata": {},
     "output_type": "execute_result"
    }
   ],
   "source": [
    "param1.value = 0.2\n",
    "dp.get_slice(\"field1\",\"inner_param\")"
   ]
  },
  {
   "cell_type": "markdown",
   "metadata": {},
   "source": [
    "Because param1 is now 0.2, the folder is \"folder2\":"
   ]
  },
  {
   "cell_type": "code",
   "execution_count": 19,
   "metadata": {},
   "outputs": [
    {
     "name": "stdout",
     "output_type": "stream",
     "text": [
      "{'field1': [1, 2, 3, 4, 5, 6, 7, 8], 'field2': [0, 1, 2, 3, 4, 5, 6, 7], 'field3': [5, 7, 8, 9, 0, 1, 6, 4]}\n"
     ]
    }
   ],
   "source": [
    "with open(tinc_path + \"tinc/tests/data/folder2/results.json\") as f:\n",
    "    print(json.load(f))"
   ]
  },
  {
   "cell_type": "markdown",
   "metadata": {},
   "source": [
    "We can also slice across directories by slicing across the \"param1\" dimension:"
   ]
  },
  {
   "cell_type": "code",
   "execution_count": 20,
   "metadata": {},
   "outputs": [
    {
     "data": {
      "text/plain": [
       "masked_array(data=[2., 3., 8.],\n",
       "             mask=False,\n",
       "       fill_value=1e+20,\n",
       "            dtype=float32)"
      ]
     },
     "execution_count": 20,
     "metadata": {},
     "output_type": "execute_result"
    }
   ],
   "source": [
    "dp.get_slice(\"field1\",\"param1\")"
   ]
  },
  {
   "cell_type": "code",
   "execution_count": 21,
   "metadata": {},
   "outputs": [
    {
     "data": {
      "text/plain": [
       "masked_array(data=[2., 3., 8.],\n",
       "             mask=False,\n",
       "       fill_value=1e+20,\n",
       "            dtype=float32)"
      ]
     },
     "execution_count": 21,
     "metadata": {},
     "output_type": "execute_result"
    }
   ],
   "source": [
    "inner_param.value = 0.3\n",
    "dp.get_slice(\"field1\",\"param1\")"
   ]
  },
  {
   "cell_type": "code",
   "execution_count": 22,
   "metadata": {},
   "outputs": [
    {
     "data": {
      "text/plain": [
       "masked_array(data=[0., 1., 5.],\n",
       "             mask=False,\n",
       "       fill_value=1e+20,\n",
       "            dtype=float32)"
      ]
     },
     "execution_count": 22,
     "metadata": {},
     "output_type": "execute_result"
    }
   ],
   "source": [
    "inner_param.value = 0.1\n",
    "dp.get_slice(\"field1\",\"param1\")"
   ]
  },
  {
   "cell_type": "markdown",
   "metadata": {},
   "source": [
    "## Data pools with multiple file system parameters"
   ]
  },
  {
   "cell_type": "code",
   "execution_count": 23,
   "metadata": {},
   "outputs": [
    {
     "data": {
      "text/plain": [
       "['folderA_1', 'folderA_2', 'folderB_1', 'folderB_2']"
      ]
     },
     "execution_count": 23,
     "metadata": {},
     "output_type": "execute_result"
    }
   ],
   "source": [
    "os.listdir(tinc_path + \"tinc/tests/data2\")"
   ]
  },
  {
   "cell_type": "markdown",
   "metadata": {},
   "source": [
    "In this dataset, two parameters determine the directory. One parameter determines the prefix (folderA/folderB) and another parameter the suffix (_1, _2). Notice that the number of directories must be the product of the two parameters' sizes."
   ]
  },
  {
   "cell_type": "code",
   "execution_count": 24,
   "metadata": {},
   "outputs": [
    {
     "name": "stdout",
     "output_type": "stream",
     "text": [
      "{'field1': [0, 1, 2, 3, 4, 5, 6, 7], 'field2': [1, 2, 3, 4, 5, 6, 7, 8], 'field3': [4, 5, 6, 7, 8, 9, 0, 1]}\n"
     ]
    }
   ],
   "source": [
    "with open(tinc_path + \"tinc/tests/data2/folderA_1/results.json\") as f:\n",
    "    print(json.load(f))"
   ]
  },
  {
   "cell_type": "code",
   "execution_count": 30,
   "metadata": {},
   "outputs": [],
   "source": [
    "param1 = Parameter(\"param1\")\n",
    "param1.values = [0.1, 0.1, 0.2, 0.2]\n",
    "param1.ids = [\"folderA_1\", \"folderA_2\", \"folderB_1\", \"folderB_2\"]\n",
    "\n",
    "param2 = Parameter(\"param2\")\n",
    "param2.values = [1,1,2,2]\n",
    "param2.ids = [\"folderA_1\", \"folderB_1\", \"folderA_2\", \"folderB_2\"]\n",
    "\n",
    "inner_param = Parameter(\"inner_param\")\n",
    "inner_param.values = linspace(0.1, 0.8, 8)"
   ]
  },
  {
   "cell_type": "code",
   "execution_count": 31,
   "metadata": {},
   "outputs": [],
   "source": [
    "ps = ParameterSpace()\n",
    "ps.register_parameters([param1, param2, inner_param])\n",
    "ps.set_root_path(tinc_path)\n",
    "ps.set_current_path_template(\"tinc/tests/data/%%param1,param2%%\")"
   ]
  },
  {
   "cell_type": "code",
   "execution_count": 32,
   "metadata": {},
   "outputs": [
    {
     "data": {
      "text/plain": [
       "'tinc/tests/data/folderA_1'"
      ]
     },
     "execution_count": 32,
     "metadata": {},
     "output_type": "execute_result"
    }
   ],
   "source": [
    "ps.get_current_relative_path()"
   ]
  },
  {
   "cell_type": "code",
   "execution_count": 35,
   "metadata": {},
   "outputs": [
    {
     "data": {
      "text/plain": [
       "'tinc/tests/data/folderB_1'"
      ]
     },
     "execution_count": 35,
     "metadata": {},
     "output_type": "execute_result"
    }
   ],
   "source": [
    "param1.value = 0.2\n",
    "param2.value = 1\n",
    "ps.get_current_relative_path()"
   ]
  },
  {
   "cell_type": "code",
   "execution_count": 34,
   "metadata": {},
   "outputs": [
    {
     "data": {
      "text/plain": [
       "'folderB_1'"
      ]
     },
     "execution_count": 34,
     "metadata": {},
     "output_type": "execute_result"
    }
   ],
   "source": [
    "ps.get_common_id([param1, param2])"
   ]
  },
  {
   "cell_type": "code",
   "execution_count": null,
   "metadata": {},
   "outputs": [],
   "source": []
  }
 ],
 "metadata": {
  "kernelspec": {
   "display_name": "Python 3.9.13 64-bit (windows store)",
   "language": "python",
   "name": "python3"
  },
  "language_info": {
   "codemirror_mode": {
    "name": "ipython",
    "version": 3
   },
   "file_extension": ".py",
   "mimetype": "text/x-python",
   "name": "python",
   "nbconvert_exporter": "python",
   "pygments_lexer": "ipython3",
   "version": "3.9.13"
  },
  "vscode": {
   "interpreter": {
    "hash": "ed244be5568431afe3ab567b48651d5568744eb3576c105256d0aa6a71dc2f94"
   }
  }
 },
 "nbformat": 4,
 "nbformat_minor": 4
}
