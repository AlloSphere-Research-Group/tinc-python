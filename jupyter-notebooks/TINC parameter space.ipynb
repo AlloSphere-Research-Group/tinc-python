{
 "cells": [
  {
   "cell_type": "markdown",
   "metadata": {},
   "source": [
    "# Parameter Space"
   ]
  },
  {
   "cell_type": "code",
   "execution_count": 1,
   "metadata": {},
   "outputs": [],
   "source": [
    "# Not needed if tinc-python is installed\n",
    "import sys\n",
    "sys.path.append('../tinc-python')"
   ]
  },
  {
   "cell_type": "code",
   "execution_count": 2,
   "metadata": {},
   "outputs": [],
   "source": [
    "from parameter_space import *"
   ]
  },
  {
   "cell_type": "code",
   "execution_count": 3,
   "metadata": {},
   "outputs": [],
   "source": [
    "ps = ParameterSpace(\"ps1\")"
   ]
  },
  {
   "cell_type": "code",
   "execution_count": 4,
   "metadata": {},
   "outputs": [
    {
     "data": {
      "text/plain": [
       "{'id': 'ps1', '_parameters': [], 'tinc_client': None, '_cache_manager': None}"
      ]
     },
     "execution_count": 4,
     "metadata": {},
     "output_type": "execute_result"
    }
   ],
   "source": [
    "ps.__dict__"
   ]
  },
  {
   "cell_type": "code",
   "execution_count": 4,
   "metadata": {},
   "outputs": [],
   "source": [
    "from tinc_client import *"
   ]
  },
  {
   "cell_type": "code",
   "execution_count": 15,
   "metadata": {},
   "outputs": [
    {
     "name": "stdout",
     "output_type": "stream",
     "text": [
      "Attempt connection. localhost:34450\n",
      "Connected, sending handshake.\n",
      "Got HANDSHAKE_ACK. Server version 0 revision 0\n"
     ]
    }
   ],
   "source": [
    "tclient = TincClient()"
   ]
  },
  {
   "cell_type": "code",
   "execution_count": 16,
   "metadata": {},
   "outputs": [
    {
     "name": "stdout",
     "output_type": "stream",
     "text": [
      "process_register_command 0\n",
      "Processed Byte_size 62:62\n",
      "process_configure_command 0\n",
      "_configure_parameter_from_message\n",
      "Processed Byte_size 105:105\n",
      "process_configure_command 0\n",
      "_configure_parameter_from_message\n",
      "Processed Byte_size 109:109\n",
      "process_configure_command 0\n",
      "_configure_parameter_from_message\n",
      "Processed Byte_size 103:103\n",
      "process_configure_command 0\n",
      "_configure_parameter_from_message\n",
      "Processed Byte_size 245:245\n",
      "process_register_command 0\n",
      "Processed Byte_size 69:69\n",
      "process_configure_command 0\n",
      "_configure_parameter_from_message\n",
      "Processed Byte_size 123:123\n",
      "process_configure_command 0\n",
      "_configure_parameter_from_message\n",
      "Processed Byte_size 123:123\n",
      "process_configure_command 0\n",
      "_configure_parameter_from_message\n",
      "Processed Byte_size 121:121\n",
      "process_configure_command 0\n",
      "_configure_parameter_from_message\n",
      "Processed Byte_size 169:169\n",
      "process_register_command 4\n",
      "NEW ParameterSpace: '<parameter_space.ParameterSpace object at 0x00000206A07D7A90>'\n",
      "Processed Byte_size 86:86\n",
      "process_register_command 0\n",
      "Processed Byte_size 62:62\n",
      "process_configure_command 0\n",
      "_configure_parameter_from_message\n",
      "Processed Byte_size 105:105\n",
      "process_configure_command 0\n",
      "_configure_parameter_from_message\n",
      "Processed Byte_size 109:109\n",
      "process_configure_command 0\n",
      "_configure_parameter_from_message\n",
      "Processed Byte_size 103:103\n",
      "process_configure_command 0\n",
      "_configure_parameter_from_message\n",
      "Processed Byte_size 245:245\n",
      "process_configure_command 4\n",
      "Processing _configure_parameter_space_from_message\n",
      "Registering for <parameter_space.ParameterSpace object at 0x00000206A07D7A90>\n",
      "register  for <parameter_space.ParameterSpace object at 0x00000206A07D7A90>\n",
      "Processed Byte_size 143:143\n",
      "process_register_command 0\n",
      "Processed Byte_size 69:69\n",
      "process_configure_command 0\n",
      "_configure_parameter_from_message\n",
      "Processed Byte_size 123:123\n",
      "process_configure_command 0\n",
      "_configure_parameter_from_message\n",
      "Processed Byte_size 123:123\n",
      "process_configure_command 0\n",
      "_configure_parameter_from_message\n",
      "Processed Byte_size 121:121\n",
      "process_configure_command 0\n",
      "_configure_parameter_from_message\n",
      "Processed Byte_size 169:169\n",
      "process_configure_command 4\n",
      "Processing _configure_parameter_space_from_message\n",
      "Registering for <parameter_space.ParameterSpace object at 0x00000206A07D7A90>\n",
      "register  for <parameter_space.ParameterSpace object at 0x00000206A07D7A90>\n",
      "Processed Byte_size 154:154\n"
     ]
    }
   ],
   "source": [
    "tclient.synchronize()"
   ]
  },
  {
   "cell_type": "code",
   "execution_count": 17,
   "metadata": {},
   "outputs": [],
   "source": [
    "tclient.register_parameter_space(ps)"
   ]
  },
  {
   "cell_type": "code",
   "execution_count": 18,
   "metadata": {},
   "outputs": [
    {
     "data": {
      "text/plain": [
       "[<parameter_space.ParameterSpace at 0x206a07d7a90>,\n",
       " <parameter_space.ParameterSpace at 0x20680d01b50>]"
      ]
     },
     "execution_count": 18,
     "metadata": {},
     "output_type": "execute_result"
    }
   ],
   "source": [
    "tclient.parameter_spaces"
   ]
  },
  {
   "cell_type": "code",
   "execution_count": 23,
   "metadata": {},
   "outputs": [
    {
     "data": {
      "text/plain": [
       "<parameter_space.ParameterSpace at 0x206a07d7a90>"
      ]
     },
     "execution_count": 23,
     "metadata": {},
     "output_type": "execute_result"
    }
   ],
   "source": [
    "ps = tclient.parameter_spaces[0]\n",
    "ps"
   ]
  },
  {
   "cell_type": "code",
   "execution_count": 863,
   "metadata": {},
   "outputs": [
    {
     "name": "stdout",
     "output_type": "stream",
     "text": [
      "Got reply for id 1760\n",
      "Processed Byte_size 137:137\n",
      "Got reply for id 1761\n",
      "Processed Byte_size 108:108\n",
      "Got reply for id 1762\n",
      "Processed Byte_size 137:137\n",
      "Got reply for id 1763\n",
      "Processed Byte_size 108:108\n"
     ]
    },
    {
     "data": {
      "text/plain": [
       "''"
      ]
     },
     "execution_count": 863,
     "metadata": {},
     "output_type": "execute_result"
    }
   ],
   "source": [
    "ps.get_current_path()\n",
    "ps.get_root_path()\n",
    "ps.get_current_path()\n",
    "ps.get_root_path()"
   ]
  },
  {
   "cell_type": "code",
   "execution_count": 833,
   "metadata": {},
   "outputs": [],
   "source": [
    "ps.get_parameters()[0].value = 4"
   ]
  },
  {
   "cell_type": "code",
   "execution_count": null,
   "metadata": {},
   "outputs": [],
   "source": []
  },
  {
   "cell_type": "code",
   "execution_count": null,
   "metadata": {},
   "outputs": [],
   "source": []
  },
  {
   "cell_type": "code",
   "execution_count": null,
   "metadata": {},
   "outputs": [],
   "source": []
  },
  {
   "cell_type": "code",
   "execution_count": null,
   "metadata": {},
   "outputs": [],
   "source": []
  },
  {
   "cell_type": "code",
   "execution_count": null,
   "metadata": {},
   "outputs": [],
   "source": []
  },
  {
   "cell_type": "code",
   "execution_count": null,
   "metadata": {},
   "outputs": [],
   "source": []
  },
  {
   "cell_type": "code",
   "execution_count": null,
   "metadata": {},
   "outputs": [],
   "source": []
  },
  {
   "cell_type": "code",
   "execution_count": null,
   "metadata": {},
   "outputs": [],
   "source": []
  },
  {
   "cell_type": "code",
   "execution_count": null,
   "metadata": {},
   "outputs": [],
   "source": []
  },
  {
   "cell_type": "code",
   "execution_count": null,
   "metadata": {},
   "outputs": [],
   "source": []
  },
  {
   "cell_type": "code",
   "execution_count": null,
   "metadata": {},
   "outputs": [],
   "source": []
  },
  {
   "cell_type": "code",
   "execution_count": null,
   "metadata": {},
   "outputs": [],
   "source": []
  }
 ],
 "metadata": {
  "kernelspec": {
   "display_name": "Python 3",
   "language": "python",
   "name": "python3"
  },
  "language_info": {
   "codemirror_mode": {
    "name": "ipython",
    "version": 3
   },
   "file_extension": ".py",
   "mimetype": "text/x-python",
   "name": "python",
   "nbconvert_exporter": "python",
   "pygments_lexer": "ipython3",
   "version": "3.8.3"
  }
 },
 "nbformat": 4,
 "nbformat_minor": 4
}
