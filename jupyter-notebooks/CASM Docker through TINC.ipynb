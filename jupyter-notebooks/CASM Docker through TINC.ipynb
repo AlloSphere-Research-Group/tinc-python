{
 "cells": [
  {
   "cell_type": "markdown",
   "metadata": {},
   "source": [
    "# CASM docker controlled through TINC"
   ]
  },
  {
   "cell_type": "markdown",
   "metadata": {},
   "source": [
    "Start the CASM docker container with a command like:\n",
    "\n",
    "```docker run -P --network casm_docker --hostname casm_ --rm -it -v c:\\Users\\Andres\\source\\repos:/shared casmcode/casm bash```\n",
    "\n",
    "(You need to have created the docker bridge network 'casm_docker' running: ```casm network create casm_docker```) \n",
    "\n",
    "Find running casm docker container:"
   ]
  },
  {
   "cell_type": "code",
   "execution_count": null,
   "metadata": {},
   "outputs": [],
   "source": [
    "from subprocess import check_output\n",
    "docker_list = check_output([\"docker\", \"ps\", '--format', '{{.ID}}\\t{{.Image}}\\t{{.Names}}']).decode('ascii').splitlines()\n",
    "for c in docker_list:\n",
    "    if c.split('\\t')[1]== 'casmcode/casm':\n",
    "        container_name = c.split('\\t')[2]\n",
    "        \n",
    "container_name"
   ]
  },
  {
   "cell_type": "code",
   "execution_count": null,
   "metadata": {},
   "outputs": [],
   "source": [
    "from tinc import *"
   ]
  },
  {
   "cell_type": "code",
   "execution_count": null,
   "metadata": {},
   "outputs": [],
   "source": [
    "tclient = TincClient()"
   ]
  },
  {
   "cell_type": "markdown",
   "metadata": {},
   "source": [
    "Set up parameters"
   ]
  },
  {
   "cell_type": "code",
   "execution_count": null,
   "metadata": {},
   "outputs": [],
   "source": [
    "settings_file_name = tclient.create_parameter(ParameterString, \"settings_file_name\", default_value=\"genetic_alg_settings.json\")\n",
    "hall_of_fame_index = tclient.create_parameter(ParameterInt,\"hall_of_fame_index\", default_value=0)\n",
    "fit_dir = tclient.create_parameter(ParameterString,\"fit_dir\", default_value='')"
   ]
  },
  {
   "cell_type": "markdown",
   "metadata": {},
   "source": [
    "Prepare first processor"
   ]
  },
  {
   "cell_type": "code",
   "execution_count": null,
   "metadata": {},
   "outputs": [],
   "source": [
    "proc = ProcessorScript(\"check\")\n",
    "proc.command = \"docker exec \" + container_name + \" casm-learn\"\n",
    "# Capture the output of the command to file\n",
    "proc.capture_output()\n",
    "# Register paramters with processor. Changes trigger computation\n",
    "proc.register_parameter(hall_of_fame_index)\n",
    "proc.register_parameter(settings_file_name)\n",
    "# Define the command line argument template\n",
    "# names within '%%' that match parameter names will be replaced by their value\n",
    "proc.set_argument_template(\"-s %%settings_file_name%% --checkhull --indiv %%hall_of_fame_index%%\")\n",
    "\n",
    "# The output will be managed by a diskbuffer, to update data everywhere\n",
    "db = DiskBufferText(\"check_buffer\", \"check.0\", \"out/\", \"/shared\")\n",
    "tclient.register_disk_buffer(db)\n",
    "# You can set a disk buffer to be the output of a Processor\n",
    "proc.output_files = [db]\n",
    "\n",
    "# Because we want to change directory and output file on every run,\n",
    "# We define a 'prepare' function\n",
    "def prepare_check(p):\n",
    "    p.running_dir = fit_dir.value\n",
    "    db.set_base_filename(f\"check.{hall_of_fame_index.value}\")\n",
    "    print(f\"Set output to: {p.output_files[0]}\")\n",
    "    #print(p._get_arguments())\n",
    "    return True\n",
    "# This function will be called right before calling the command for ProcessorScript\n",
    "proc.prepare = prepare_check\n",
    "#proc.debug = True"
   ]
  },
  {
   "cell_type": "code",
   "execution_count": null,
   "metadata": {},
   "outputs": [],
   "source": [
    "# Processor 2\n",
    "proc2 = ProcessorScript(\"select\")\n",
    "proc2.command = \"docker exec \" + container_name + \" casm-learn\"\n",
    "proc2.capture_output()\n",
    "db2 = DiskBufferText(\"select_buffer\",\"select_fit_eci.out\", \"out/\", \"/shared\")\n",
    "tclient.register_disk_buffer(db2)\n",
    "proc2.set_argument_template(\"-s %%settings_file_name%% --select %%hall_of_fame_index%%\")\n",
    "proc2.register_parameter(hall_of_fame_index)\n",
    "proc2.register_parameter(settings_file_name)\n",
    "\n",
    "def prepare_select(p):\n",
    "    p.running_dir = fit_dir.value\n",
    "    return True\n",
    "\n",
    "proc2.prepare = prepare_select\n",
    "#proc2.debug = True"
   ]
  },
  {
   "cell_type": "code",
   "execution_count": null,
   "metadata": {},
   "outputs": [],
   "source": [
    "# Processor 3\n",
    "proc3 = ProcessorScript(\"fit_eci\")\n",
    "proc3.command = \"docker exec \" + container_name + \" casm\"\n",
    "db3 = DiskBufferText(\"fit_eci_buffer\",\"select_fit_eci.out\", \"out/\", \"/shared\")\n",
    "tclient.register_disk_buffer(db3)\n",
    "proc3.output_files = [db]\n",
    "proc3.set_argument_template(\"query -k comp formation_energy hull_dist clex clex_hulldist -o %%:OUTFILE:0%%\")\n",
    "proc3.register_parameter(hall_of_fame_index)\n",
    "proc3.register_parameter(settings_file_name)\n",
    "\n",
    "def prepare_fit(p):\n",
    "    p.running_dir = fit_dir.value\n",
    "    return True\n",
    "proc3.prepare = prepare_fit\n",
    "#proc3.debug = True"
   ]
  },
  {
   "cell_type": "code",
   "execution_count": null,
   "metadata": {},
   "outputs": [],
   "source": [
    "from ipywidgets import VBox\n",
    "\n",
    "v = VBox([settings_file_name.interactive_widget(), hall_of_fame_index.interactive_widget(), fit_dir.interactive_widget() ])\n",
    "v"
   ]
  },
  {
   "cell_type": "code",
   "execution_count": null,
   "metadata": {},
   "outputs": [],
   "source": []
  }
 ],
 "metadata": {
  "kernelspec": {
   "display_name": "Python 3",
   "language": "python",
   "name": "python3"
  },
  "language_info": {
   "codemirror_mode": {
    "name": "ipython",
    "version": 3
   },
   "file_extension": ".py",
   "mimetype": "text/x-python",
   "name": "python",
   "nbconvert_exporter": "python",
   "pygments_lexer": "ipython3",
   "version": "3.8.3"
  }
 },
 "nbformat": 4,
 "nbformat_minor": 4
}
