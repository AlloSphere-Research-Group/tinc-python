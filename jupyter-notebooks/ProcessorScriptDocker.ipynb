{
 "cells": [
  {
   "cell_type": "markdown",
   "metadata": {},
   "source": [
    "# Using ProcessorScriptDocker"
   ]
  },
  {
   "cell_type": "code",
   "execution_count": null,
   "metadata": {},
   "outputs": [],
   "source": [
    "# Define now the host path maps to the docker container path.\n",
    "#This must match the docker command line to start the container\n",
    "path_map = {}\n",
    "path_map[r\"C:\\Users\\Andres\\source\\repos\"] = '/shared'"
   ]
  },
  {
   "cell_type": "markdown",
   "metadata": {},
   "source": [
    "Start the CASM docker container with a command like (the path for the mapping of filesystem must match to the one set above):\n",
    "\n",
    "    docker run -P --rm -it -v c:\\Users\\Andres\\source\\repos:/shared casmcode/casm bash "
   ]
  },
  {
   "cell_type": "code",
   "execution_count": null,
   "metadata": {},
   "outputs": [],
   "source": [
    "!docker ps"
   ]
  },
  {
   "cell_type": "code",
   "execution_count": null,
   "metadata": {},
   "outputs": [],
   "source": [
    "from tinc import *"
   ]
  },
  {
   "cell_type": "markdown",
   "metadata": {},
   "source": [
    "We will use the ```ProcessorScriptDocker``` class to execute on demand computation on the container."
   ]
  },
  {
   "cell_type": "code",
   "execution_count": null,
   "metadata": {
    "scrolled": true
   },
   "outputs": [],
   "source": [
    "proc = ProcessorScriptDocker(\"test\")\n",
    "# set the container to run on:\n",
    "proc.set_container_id(proc.find_container_id(\"casmcode/casm\"))\n",
    "# set the command line to run:\n",
    "proc.set_command_line(\"ls /\")\n",
    "proc.capture_output(r\"C:\\Users\\Andres\\source\\repos\\test.txt\") # Store the output of stdout to a file\n",
    "# Execute\n",
    "# proc.debug = True # This will give more detailed information of what's happening\n",
    "proc.process()"
   ]
  },
  {
   "cell_type": "code",
   "execution_count": null,
   "metadata": {},
   "outputs": [],
   "source": [
    "!cat \"C:/Users/Andres/source/repos/test.txt\""
   ]
  },
  {
   "cell_type": "markdown",
   "metadata": {},
   "source": [
    "You can create a parameter that will trigger execution on docker whenever it changes:"
   ]
  },
  {
   "cell_type": "code",
   "execution_count": null,
   "metadata": {},
   "outputs": [],
   "source": [
    "path = ParameterString(\"path\")\n",
    "proc.register_parameter(path)"
   ]
  },
  {
   "cell_type": "markdown",
   "metadata": {},
   "source": [
    "You can also make the command line depend on the parameter value by passing the parameter name surrounded by '%%' to the argument template:"
   ]
  },
  {
   "cell_type": "code",
   "execution_count": null,
   "metadata": {},
   "outputs": [],
   "source": [
    "proc.set_argument_template(\"%%path%%\")"
   ]
  },
  {
   "cell_type": "markdown",
   "metadata": {},
   "source": [
    "Whenever you change the value, the command will be run in the docker container:"
   ]
  },
  {
   "cell_type": "code",
   "execution_count": null,
   "metadata": {},
   "outputs": [],
   "source": [
    "path.interactive_widget()"
   ]
  },
  {
   "cell_type": "markdown",
   "metadata": {},
   "source": [
    "Finally if you want something to happen when the processor is done, you can register a 'done_callback' or you can use a DiskBuffer for the output"
   ]
  },
  {
   "cell_type": "code",
   "execution_count": null,
   "metadata": {},
   "outputs": [],
   "source": [
    "def done_callback(processor, ok):\n",
    "    if ok:\n",
    "        print(f\" --- Done writing to: {processor.output_files[0]}\")\n",
    "    else:\n",
    "        print(\" --- Something went wrong\")\n",
    "\n",
    "proc.done_callback = done_callback"
   ]
  },
  {
   "cell_type": "code",
   "execution_count": null,
   "metadata": {},
   "outputs": [],
   "source": [
    "path.value = \"/usr/lib\""
   ]
  },
  {
   "cell_type": "code",
   "execution_count": null,
   "metadata": {},
   "outputs": [],
   "source": [
    "path.value = \"/usr/error\""
   ]
  },
  {
   "cell_type": "markdown",
   "metadata": {},
   "source": [
    "Now using a DiskBuffer:"
   ]
  },
  {
   "cell_type": "code",
   "execution_count": null,
   "metadata": {},
   "outputs": [],
   "source": [
    "#proc.debug = True\n",
    "proc.done_callback = None\n",
    "db = DiskBufferText(\"ls_text\", \"db_out.txt\", '', \"C:/Users/Andres/source/repos/\" )\n",
    "proc.output_files = [db]"
   ]
  },
  {
   "cell_type": "code",
   "execution_count": null,
   "metadata": {},
   "outputs": [],
   "source": [
    "path.value = \"/usr/local\""
   ]
  },
  {
   "cell_type": "markdown",
   "metadata": {},
   "source": [
    "You can assign a callback to the disk buffer, or use it as an interactive widget in ipython if the disk buffer type supports it."
   ]
  },
  {
   "cell_type": "code",
   "execution_count": null,
   "metadata": {
    "scrolled": true
   },
   "outputs": [],
   "source": [
    "from ipywidgets import VBox\n",
    "\n",
    "v = VBox([path.interactive_widget(), db.interactive_widget()])\n",
    "v"
   ]
  },
  {
   "cell_type": "markdown",
   "metadata": {},
   "source": [
    "## CASM docker container tools"
   ]
  },
  {
   "cell_type": "markdown",
   "metadata": {},
   "source": [
    "Create parameters:"
   ]
  },
  {
   "cell_type": "code",
   "execution_count": null,
   "metadata": {},
   "outputs": [],
   "source": [
    "settings_file_name = ParameterString(\"settings_file_name\", default_value=\"genetic_alg_settings.json\")\n",
    "hall_of_fame_index = ParameterInt(\"hall_of_fame_index\", default_value=0)\n",
    "fit_dir = ParameterString(\"fit_dir\", default_value='')"
   ]
  },
  {
   "cell_type": "markdown",
   "metadata": {},
   "source": [
    "These parameters will trigger computation on the docker container whenever they change. "
   ]
  },
  {
   "cell_type": "code",
   "execution_count": null,
   "metadata": {},
   "outputs": [],
   "source": [
    "proc = ProcessorScriptDocker(\"check\")\n",
    "# names within '%%' that match parameter names will be replaced by their value\n",
    "proc.set_command_line(\"casm-learn -s %%settings_file_name%% --checkhull --indiv %%hall_of_fame_index%%\")\n",
    "proc.set_container_id(proc.find_container_id(\"casmcode/casm\"))\n",
    "# Capture the std output of the command to file\n",
    "proc.capture_output()\n",
    "# Register paramters with processor. Changes trigger computation\n",
    "proc.register_parameter(hall_of_fame_index)\n",
    "proc.register_parameter(settings_file_name)\n",
    "\n",
    "# The output will be managed by a diskbuffer, to update data everywhere\n",
    "db = DiskBufferText(\"check_buffer\", \"check.0\", \"out/\", \"/shared\")\n",
    "#tclient.register_disk_buffer(db)\n",
    "# You can set a disk buffer to be the output of a Processor\n",
    "proc.output_files = [db]\n",
    "\n",
    "# Because we want to change directory and output file on every run,\n",
    "# We define a 'prepare' function\n",
    "def prepare_check(p):\n",
    "    p.running_dir = fit_dir.value\n",
    "    db.set_base_filename(f\"check.{hall_of_fame_index.value}\")\n",
    "    print(f\"Set output to: {p.output_files[0]}\")\n",
    "    #print(p._get_arguments())\n",
    "    return True\n",
    "# This function will be called right before calling the command for ProcessorScript\n",
    "proc.prepare = prepare_check\n",
    "#proc.debug = True"
   ]
  },
  {
   "cell_type": "code",
   "execution_count": null,
   "metadata": {},
   "outputs": [],
   "source": [
    "# Processor 2\n",
    "proc2 = ProcessorScriptDocker(\"select\")\n",
    "proc2.set_container_id(proc.find_container_id(\"casmcode/casm\"))\n",
    "proc2.set_command_line(\"casm-learn-s %%settings_file_name%% --select %%hall_of_fame_index%%\")\n",
    "proc2.capture_output()\n",
    "db2 = DiskBufferText(\"select_buffer\",\"select_fit_eci.out\", \"out/\", \"/shared\")\n",
    "#tclient.register_disk_buffer(db2)\n",
    "proc2.register_parameter(hall_of_fame_index)\n",
    "proc2.register_parameter(settings_file_name)\n",
    "\n",
    "def prepare_select(p):\n",
    "    p.running_dir = fit_dir.value\n",
    "    return True\n",
    "\n",
    "proc2.prepare = prepare_select\n",
    "#proc2.debug = True"
   ]
  },
  {
   "cell_type": "code",
   "execution_count": null,
   "metadata": {},
   "outputs": [],
   "source": [
    "# Processor 3\n",
    "proc3 = ProcessorScriptDocker(\"fit_eci\")\n",
    "proc3.set_command_line(\"casm query -k comp formation_energy hull_dist clex clex_hulldist -o %%:OUTFILE:0%%\");\n",
    "proc3.set_container_id(proc3.find_container_id(\"casmcode/casm\"))\n",
    "db3 = DiskBufferText(\"fit_eci_buffer\",\"select_fit_eci.out\", \"out/\", \"/shared\")\n",
    "#tclient.register_disk_buffer(db3)\n",
    "proc3.output_files = [db]\n",
    "proc3.register_parameter(hall_of_fame_index)\n",
    "proc3.register_parameter(settings_file_name)\n",
    "\n",
    "def prepare_fit(p):\n",
    "    p.running_dir = fit_dir.value\n",
    "    return True\n",
    "proc3.prepare = prepare_fit\n",
    "#proc3.debug = True"
   ]
  },
  {
   "cell_type": "code",
   "execution_count": null,
   "metadata": {},
   "outputs": [],
   "source": [
    "from ipywidgets import VBox\n",
    "\n",
    "v = VBox([settings_file_name.interactive_widget(), hall_of_fame_index.interactive_widget(), fit_dir.interactive_widget() ])\n",
    "v"
   ]
  },
  {
   "cell_type": "code",
   "execution_count": null,
   "metadata": {},
   "outputs": [],
   "source": []
  }
 ],
 "metadata": {
  "kernelspec": {
   "display_name": "Python 3",
   "language": "python",
   "name": "python3"
  },
  "language_info": {
   "codemirror_mode": {
    "name": "ipython",
    "version": 3
   },
   "file_extension": ".py",
   "mimetype": "text/x-python",
   "name": "python",
   "nbconvert_exporter": "python",
   "pygments_lexer": "ipython3",
   "version": "3.8.3"
  }
 },
 "nbformat": 4,
 "nbformat_minor": 4
}
