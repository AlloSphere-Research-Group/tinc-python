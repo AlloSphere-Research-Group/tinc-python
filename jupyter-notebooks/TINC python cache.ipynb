{
 "cells": [
  {
   "cell_type": "code",
   "execution_count": 1,
   "metadata": {},
   "outputs": [],
   "source": [
    "# Not needed if tinc-python is installed\n",
    "import sys\n",
    "sys.path.append('../tinc-python')"
   ]
  },
  {
   "cell_type": "markdown",
   "metadata": {},
   "source": [
    "# Using cache in python"
   ]
  },
  {
   "cell_type": "markdown",
   "metadata": {},
   "source": [
    "Build the parameter space"
   ]
  },
  {
   "cell_type": "code",
   "execution_count": 2,
   "metadata": {},
   "outputs": [],
   "source": [
    "from parameter import Parameter, ParameterInt"
   ]
  },
  {
   "cell_type": "code",
   "execution_count": 3,
   "metadata": {},
   "outputs": [],
   "source": [
    "p1 = Parameter(\"param1\")\n",
    "p1.set_values([0.1, 0.2, 0.3, 0.4, 0.5, 0.6])\n",
    "\n",
    "p2 = ParameterInt(\"param2\")\n",
    "p2.set_values([i for i in range(50)])\n",
    "\n",
    "p3 = Parameter(\"param3\")\n",
    "p3.set_values([i * 0.2 for i in range(20)])"
   ]
  },
  {
   "cell_type": "code",
   "execution_count": 4,
   "metadata": {},
   "outputs": [],
   "source": [
    "from parameter_space import ParameterSpace"
   ]
  },
  {
   "cell_type": "code",
   "execution_count": 5,
   "metadata": {},
   "outputs": [],
   "source": [
    "ps = ParameterSpace(\"cache_test\")"
   ]
  },
  {
   "cell_type": "code",
   "execution_count": 6,
   "metadata": {},
   "outputs": [],
   "source": [
    "ps.register_parameters([p1, p2, p3])"
   ]
  },
  {
   "cell_type": "code",
   "execution_count": 7,
   "metadata": {},
   "outputs": [],
   "source": [
    "import time\n",
    "\n",
    "# You should use the same names for the variables here as the names for\n",
    "# the parameters.\n",
    "# The function needs to be written only in terms of variables in the\n",
    "# parameter space. Any other values should be passed globally.\n",
    "\n",
    "def my_fantastic_process(param1, param2, param3):\n",
    "    print(f\"processing data {param1} {param2} {param3}\")\n",
    "    time.sleep(3) # Very complex function\n",
    "    return [param1 + param2 + param3, {\"more_data\": [param1 + param2, param2 + param3]}]\n",
    "    "
   ]
  },
  {
   "cell_type": "code",
   "execution_count": 8,
   "metadata": {},
   "outputs": [],
   "source": [
    "ps.enable_caching()"
   ]
  },
  {
   "cell_type": "code",
   "execution_count": 9,
   "metadata": {},
   "outputs": [
    {
     "name": "stdout",
     "output_type": "stream",
     "text": [
      "Using cache\n",
      "Wall time: 4.46 ms\n"
     ]
    },
    {
     "data": {
      "text/plain": [
       "[0.5, {'more_data': [0.1, 0.4]}]"
      ]
     },
     "execution_count": 9,
     "metadata": {},
     "output_type": "execute_result"
    }
   ],
   "source": [
    "%%time\n",
    "# First time should be slow\n",
    "p3.value = 0.4\n",
    "ps.process(my_fantastic_process)"
   ]
  },
  {
   "cell_type": "code",
   "execution_count": 10,
   "metadata": {},
   "outputs": [
    {
     "name": "stdout",
     "output_type": "stream",
     "text": [
      "Using cache\n",
      "Wall time: 0 ns\n"
     ]
    },
    {
     "data": {
      "text/plain": [
       "[0.5, {'more_data': [0.1, 0.4]}]"
      ]
     },
     "execution_count": 10,
     "metadata": {},
     "output_type": "execute_result"
    }
   ],
   "source": [
    "%%time\n",
    "# Second time should be fast\n",
    "ps.process(my_fantastic_process)"
   ]
  },
  {
   "cell_type": "code",
   "execution_count": 11,
   "metadata": {},
   "outputs": [
    {
     "name": "stdout",
     "output_type": "stream",
     "text": [
      "removing python_cache/cache_0.1_0_0.4\n"
     ]
    }
   ],
   "source": [
    "ps.clear_cache()"
   ]
  },
  {
   "cell_type": "code",
   "execution_count": 12,
   "metadata": {},
   "outputs": [
    {
     "name": "stdout",
     "output_type": "stream",
     "text": [
      "processing data 0.1 0 0.4\n",
      "Wall time: 3.01 s\n"
     ]
    },
    {
     "data": {
      "text/plain": [
       "[0.5, {'more_data': [0.1, 0.4]}]"
      ]
     },
     "execution_count": 12,
     "metadata": {},
     "output_type": "execute_result"
    }
   ],
   "source": [
    "%%time\n",
    "# Slow, as will need to r3ecreate cache\n",
    "p3.value = 0.4\n",
    "ps.process(my_fantastic_process)"
   ]
  },
  {
   "cell_type": "markdown",
   "metadata": {},
   "source": [
    "Run this cell, and then interrupt it."
   ]
  },
  {
   "cell_type": "code",
   "execution_count": 13,
   "metadata": {},
   "outputs": [
    {
     "name": "stdout",
     "output_type": "stream",
     "text": [
      "  9           0 LOAD_GLOBAL              0 (print)\n",
      "              2 LOAD_CONST               1 ('processing data ')\n",
      "              4 LOAD_FAST                0 (param1)\n",
      "              6 FORMAT_VALUE             0\n",
      "              8 LOAD_CONST               2 (' ')\n",
      "             10 LOAD_FAST                1 (param2)\n",
      "             12 FORMAT_VALUE             0\n",
      "             14 LOAD_CONST               2 (' ')\n",
      "             16 LOAD_FAST                2 (param3)\n",
      "             18 FORMAT_VALUE             0\n",
      "             20 BUILD_STRING             6\n",
      "             22 CALL_FUNCTION            1\n",
      "             24 POP_TOP\n",
      "\n",
      " 10          26 LOAD_GLOBAL              1 (time)\n",
      "             28 LOAD_METHOD              2 (sleep)\n",
      "             30 LOAD_CONST               3 (3)\n",
      "             32 CALL_METHOD              1\n",
      "             34 POP_TOP\n",
      "\n",
      " 11          36 LOAD_FAST                0 (param1)\n",
      "             38 LOAD_FAST                1 (param2)\n",
      "             40 BINARY_ADD\n",
      "             42 LOAD_FAST                2 (param3)\n",
      "             44 BINARY_ADD\n",
      "             46 LOAD_CONST               4 ('more_data')\n",
      "             48 LOAD_FAST                0 (param1)\n",
      "             50 LOAD_FAST                1 (param2)\n",
      "             52 BINARY_ADD\n",
      "             54 LOAD_FAST                1 (param2)\n",
      "             56 LOAD_FAST                2 (param3)\n",
      "             58 BINARY_ADD\n",
      "             60 BUILD_LIST               2\n",
      "             62 BUILD_MAP                1\n",
      "             64 BUILD_LIST               2\n",
      "             66 RETURN_VALUE\n",
      "None\n",
      "def my_fantastic_process(param1, param2, param3):\n",
      "    print(f\"processing data {param1} {param2} {param3}\")\n",
      "    time.sleep(3) # Very complex function\n",
      "    return [param1 + param2 + param3, {\"more_data\": [param1 + param2, param2 + param3]}]\n",
      "\n",
      "processing data 0.1 0 0.0\n",
      "processing data 0.2 0 0.0\n",
      "processing data 0.3 0 0.0\n",
      "processing data 0.4 0 0.0\n",
      "processing data 0.5 0 0.0\n",
      "processing data 0.6 0 0.0\n",
      "processing data 0.1 1 0.0\n",
      "processing data 0.2 1 0.0\n",
      "processing data 0.3 1 0.0\n",
      "processing data 0.4 1 0.0\n",
      "processing data 0.5 1 0.0\n",
      "processing data 0.6 1 0.0\n",
      "processing data 0.1 2 0.0\n",
      "processing data 0.2 2 0.0\n",
      "processing data 0.3 2 0.0\n",
      "processing data 0.4 2 0.0\n",
      "processing data 0.5 2 0.0\n",
      "processing data 0.6 2 0.0\n",
      "processing data 0.1 3 0.0\n"
     ]
    },
    {
     "ename": "KeyboardInterrupt",
     "evalue": "",
     "output_type": "error",
     "traceback": [
      "\u001b[1;31m---------------------------------------------------------------------------\u001b[0m",
      "\u001b[1;31mKeyboardInterrupt\u001b[0m                         Traceback (most recent call last)",
      "\u001b[1;32m<ipython-input-13-e1af7c8fb636>\u001b[0m in \u001b[0;36m<module>\u001b[1;34m\u001b[0m\n\u001b[1;32m----> 1\u001b[1;33m \u001b[0mps\u001b[0m\u001b[1;33m.\u001b[0m\u001b[0msweep\u001b[0m\u001b[1;33m(\u001b[0m\u001b[0mmy_fantastic_process\u001b[0m\u001b[1;33m)\u001b[0m\u001b[1;33m\u001b[0m\u001b[1;33m\u001b[0m\u001b[0m\n\u001b[0m",
      "\u001b[1;32m~\\source\\repos\\casm_viewer\\external\\tinc\\tinc-python\\tinc-python\\parameter_space.py\u001b[0m in \u001b[0;36msweep\u001b[1;34m(self, function)\u001b[0m\n\u001b[0;32m     83\u001b[0m         \u001b[1;32mwhile\u001b[0m \u001b[1;32mnot\u001b[0m \u001b[0mdone\u001b[0m\u001b[1;33m:\u001b[0m\u001b[1;33m\u001b[0m\u001b[1;33m\u001b[0m\u001b[0m\n\u001b[0;32m     84\u001b[0m             \u001b[0margs\u001b[0m \u001b[1;33m=\u001b[0m \u001b[1;33m{\u001b[0m\u001b[0mp\u001b[0m\u001b[1;33m.\u001b[0m\u001b[0mid\u001b[0m\u001b[1;33m:\u001b[0m\u001b[0mp\u001b[0m\u001b[1;33m.\u001b[0m\u001b[0mvalues\u001b[0m\u001b[1;33m[\u001b[0m\u001b[0mindeces\u001b[0m\u001b[1;33m[\u001b[0m\u001b[0mi\u001b[0m\u001b[1;33m]\u001b[0m\u001b[1;33m]\u001b[0m \u001b[1;32mfor\u001b[0m \u001b[0mi\u001b[0m\u001b[1;33m,\u001b[0m\u001b[0mp\u001b[0m \u001b[1;32min\u001b[0m \u001b[0menumerate\u001b[0m\u001b[1;33m(\u001b[0m\u001b[0mself\u001b[0m\u001b[1;33m.\u001b[0m\u001b[0m_parameters\u001b[0m\u001b[1;33m)\u001b[0m\u001b[1;33m}\u001b[0m\u001b[1;33m\u001b[0m\u001b[1;33m\u001b[0m\u001b[0m\n\u001b[1;32m---> 85\u001b[1;33m             \u001b[0mself\u001b[0m\u001b[1;33m.\u001b[0m\u001b[0m_process\u001b[0m\u001b[1;33m(\u001b[0m\u001b[0mfunction\u001b[0m\u001b[1;33m,\u001b[0m \u001b[0margs\u001b[0m\u001b[1;33m)\u001b[0m\u001b[1;33m\u001b[0m\u001b[1;33m\u001b[0m\u001b[0m\n\u001b[0m\u001b[0;32m     86\u001b[0m             \u001b[0mindeces\u001b[0m\u001b[1;33m[\u001b[0m\u001b[1;36m0\u001b[0m\u001b[1;33m]\u001b[0m \u001b[1;33m+=\u001b[0m \u001b[1;36m1\u001b[0m\u001b[1;33m\u001b[0m\u001b[1;33m\u001b[0m\u001b[0m\n\u001b[0;32m     87\u001b[0m             \u001b[0mcurrent_p\u001b[0m \u001b[1;33m=\u001b[0m \u001b[1;36m0\u001b[0m\u001b[1;33m\u001b[0m\u001b[1;33m\u001b[0m\u001b[0m\n",
      "\u001b[1;32m~\\source\\repos\\casm_viewer\\external\\tinc\\tinc-python\\tinc-python\\parameter_space.py\u001b[0m in \u001b[0;36m_process\u001b[1;34m(self, function, args)\u001b[0m\n\u001b[0;32m    109\u001b[0m                 \u001b[1;32mreturn\u001b[0m \u001b[0mout\u001b[0m\u001b[1;33m\u001b[0m\u001b[1;33m\u001b[0m\u001b[0m\n\u001b[0;32m    110\u001b[0m \u001b[1;33m\u001b[0m\u001b[0m\n\u001b[1;32m--> 111\u001b[1;33m         \u001b[0mout\u001b[0m \u001b[1;33m=\u001b[0m \u001b[0mfunction\u001b[0m\u001b[1;33m(\u001b[0m\u001b[1;33m**\u001b[0m\u001b[0margs\u001b[0m\u001b[1;33m)\u001b[0m\u001b[1;33m\u001b[0m\u001b[1;33m\u001b[0m\u001b[0m\n\u001b[0m\u001b[0;32m    112\u001b[0m         \u001b[1;32mif\u001b[0m \u001b[0mself\u001b[0m\u001b[1;33m.\u001b[0m\u001b[0m_cache_manager\u001b[0m\u001b[1;33m:\u001b[0m\u001b[1;33m\u001b[0m\u001b[1;33m\u001b[0m\u001b[0m\n\u001b[0;32m    113\u001b[0m             \u001b[0mself\u001b[0m\u001b[1;33m.\u001b[0m\u001b[0m_cache_manager\u001b[0m\u001b[1;33m.\u001b[0m\u001b[0mstore_cache\u001b[0m\u001b[1;33m(\u001b[0m\u001b[0mout\u001b[0m\u001b[1;33m,\u001b[0m \u001b[0margs\u001b[0m\u001b[1;33m)\u001b[0m\u001b[1;33m\u001b[0m\u001b[1;33m\u001b[0m\u001b[0m\n",
      "\u001b[1;32m<ipython-input-7-20ace4174780>\u001b[0m in \u001b[0;36mmy_fantastic_process\u001b[1;34m(param1, param2, param3)\u001b[0m\n\u001b[0;32m      8\u001b[0m \u001b[1;32mdef\u001b[0m \u001b[0mmy_fantastic_process\u001b[0m\u001b[1;33m(\u001b[0m\u001b[0mparam1\u001b[0m\u001b[1;33m,\u001b[0m \u001b[0mparam2\u001b[0m\u001b[1;33m,\u001b[0m \u001b[0mparam3\u001b[0m\u001b[1;33m)\u001b[0m\u001b[1;33m:\u001b[0m\u001b[1;33m\u001b[0m\u001b[1;33m\u001b[0m\u001b[0m\n\u001b[0;32m      9\u001b[0m     \u001b[0mprint\u001b[0m\u001b[1;33m(\u001b[0m\u001b[1;34mf\"processing data {param1} {param2} {param3}\"\u001b[0m\u001b[1;33m)\u001b[0m\u001b[1;33m\u001b[0m\u001b[1;33m\u001b[0m\u001b[0m\n\u001b[1;32m---> 10\u001b[1;33m     \u001b[0mtime\u001b[0m\u001b[1;33m.\u001b[0m\u001b[0msleep\u001b[0m\u001b[1;33m(\u001b[0m\u001b[1;36m3\u001b[0m\u001b[1;33m)\u001b[0m \u001b[1;31m# Very complex function\u001b[0m\u001b[1;33m\u001b[0m\u001b[1;33m\u001b[0m\u001b[0m\n\u001b[0m\u001b[0;32m     11\u001b[0m     \u001b[1;32mreturn\u001b[0m \u001b[1;33m[\u001b[0m\u001b[0mparam1\u001b[0m \u001b[1;33m+\u001b[0m \u001b[0mparam2\u001b[0m \u001b[1;33m+\u001b[0m \u001b[0mparam3\u001b[0m\u001b[1;33m,\u001b[0m \u001b[1;33m{\u001b[0m\u001b[1;34m\"more_data\"\u001b[0m\u001b[1;33m:\u001b[0m \u001b[1;33m[\u001b[0m\u001b[0mparam1\u001b[0m \u001b[1;33m+\u001b[0m \u001b[0mparam2\u001b[0m\u001b[1;33m,\u001b[0m \u001b[0mparam2\u001b[0m \u001b[1;33m+\u001b[0m \u001b[0mparam3\u001b[0m\u001b[1;33m]\u001b[0m\u001b[1;33m}\u001b[0m\u001b[1;33m]\u001b[0m\u001b[1;33m\u001b[0m\u001b[1;33m\u001b[0m\u001b[0m\n\u001b[0;32m     12\u001b[0m \u001b[1;33m\u001b[0m\u001b[0m\n",
      "\u001b[1;31mKeyboardInterrupt\u001b[0m: "
     ]
    }
   ],
   "source": [
    "ps.sweep(my_fantastic_process)"
   ]
  },
  {
   "cell_type": "markdown",
   "metadata": {},
   "source": [
    "When you run it again, the values that have already been computed, will not take time as they are cached."
   ]
  },
  {
   "cell_type": "code",
   "execution_count": 14,
   "metadata": {},
   "outputs": [
    {
     "name": "stdout",
     "output_type": "stream",
     "text": [
      "  9           0 LOAD_GLOBAL              0 (print)\n",
      "              2 LOAD_CONST               1 ('processing data ')\n",
      "              4 LOAD_FAST                0 (param1)\n",
      "              6 FORMAT_VALUE             0\n",
      "              8 LOAD_CONST               2 (' ')\n",
      "             10 LOAD_FAST                1 (param2)\n",
      "             12 FORMAT_VALUE             0\n",
      "             14 LOAD_CONST               2 (' ')\n",
      "             16 LOAD_FAST                2 (param3)\n",
      "             18 FORMAT_VALUE             0\n",
      "             20 BUILD_STRING             6\n",
      "             22 CALL_FUNCTION            1\n",
      "             24 POP_TOP\n",
      "\n",
      " 10          26 LOAD_GLOBAL              1 (time)\n",
      "             28 LOAD_METHOD              2 (sleep)\n",
      "             30 LOAD_CONST               3 (3)\n",
      "             32 CALL_METHOD              1\n",
      "             34 POP_TOP\n",
      "\n",
      " 11          36 LOAD_FAST                0 (param1)\n",
      "             38 LOAD_FAST                1 (param2)\n",
      "             40 BINARY_ADD\n",
      "             42 LOAD_FAST                2 (param3)\n",
      "             44 BINARY_ADD\n",
      "             46 LOAD_CONST               4 ('more_data')\n",
      "             48 LOAD_FAST                0 (param1)\n",
      "             50 LOAD_FAST                1 (param2)\n",
      "             52 BINARY_ADD\n",
      "             54 LOAD_FAST                1 (param2)\n",
      "             56 LOAD_FAST                2 (param3)\n",
      "             58 BINARY_ADD\n",
      "             60 BUILD_LIST               2\n",
      "             62 BUILD_MAP                1\n",
      "             64 BUILD_LIST               2\n",
      "             66 RETURN_VALUE\n",
      "None\n",
      "def my_fantastic_process(param1, param2, param3):\n",
      "    print(f\"processing data {param1} {param2} {param3}\")\n",
      "    time.sleep(3) # Very complex function\n",
      "    return [param1 + param2 + param3, {\"more_data\": [param1 + param2, param2 + param3]}]\n",
      "\n",
      "Using cache\n",
      "Using cache\n",
      "Using cache\n",
      "Using cache\n",
      "Using cache\n",
      "Using cache\n",
      "Using cache\n",
      "Using cache\n",
      "Using cache\n",
      "Using cache\n",
      "Using cache\n",
      "Using cache\n",
      "Using cache\n",
      "Using cache\n",
      "Using cache\n",
      "Using cache\n",
      "Using cache\n",
      "Using cache\n",
      "processing data 0.1 3 0.0\n",
      "processing data 0.2 3 0.0\n"
     ]
    },
    {
     "ename": "KeyboardInterrupt",
     "evalue": "",
     "output_type": "error",
     "traceback": [
      "\u001b[1;31m---------------------------------------------------------------------------\u001b[0m",
      "\u001b[1;31mKeyboardInterrupt\u001b[0m                         Traceback (most recent call last)",
      "\u001b[1;32m<ipython-input-14-e1af7c8fb636>\u001b[0m in \u001b[0;36m<module>\u001b[1;34m\u001b[0m\n\u001b[1;32m----> 1\u001b[1;33m \u001b[0mps\u001b[0m\u001b[1;33m.\u001b[0m\u001b[0msweep\u001b[0m\u001b[1;33m(\u001b[0m\u001b[0mmy_fantastic_process\u001b[0m\u001b[1;33m)\u001b[0m\u001b[1;33m\u001b[0m\u001b[1;33m\u001b[0m\u001b[0m\n\u001b[0m",
      "\u001b[1;32m~\\source\\repos\\casm_viewer\\external\\tinc\\tinc-python\\tinc-python\\parameter_space.py\u001b[0m in \u001b[0;36msweep\u001b[1;34m(self, function)\u001b[0m\n\u001b[0;32m     83\u001b[0m         \u001b[1;32mwhile\u001b[0m \u001b[1;32mnot\u001b[0m \u001b[0mdone\u001b[0m\u001b[1;33m:\u001b[0m\u001b[1;33m\u001b[0m\u001b[1;33m\u001b[0m\u001b[0m\n\u001b[0;32m     84\u001b[0m             \u001b[0margs\u001b[0m \u001b[1;33m=\u001b[0m \u001b[1;33m{\u001b[0m\u001b[0mp\u001b[0m\u001b[1;33m.\u001b[0m\u001b[0mid\u001b[0m\u001b[1;33m:\u001b[0m\u001b[0mp\u001b[0m\u001b[1;33m.\u001b[0m\u001b[0mvalues\u001b[0m\u001b[1;33m[\u001b[0m\u001b[0mindeces\u001b[0m\u001b[1;33m[\u001b[0m\u001b[0mi\u001b[0m\u001b[1;33m]\u001b[0m\u001b[1;33m]\u001b[0m \u001b[1;32mfor\u001b[0m \u001b[0mi\u001b[0m\u001b[1;33m,\u001b[0m\u001b[0mp\u001b[0m \u001b[1;32min\u001b[0m \u001b[0menumerate\u001b[0m\u001b[1;33m(\u001b[0m\u001b[0mself\u001b[0m\u001b[1;33m.\u001b[0m\u001b[0m_parameters\u001b[0m\u001b[1;33m)\u001b[0m\u001b[1;33m}\u001b[0m\u001b[1;33m\u001b[0m\u001b[1;33m\u001b[0m\u001b[0m\n\u001b[1;32m---> 85\u001b[1;33m             \u001b[0mself\u001b[0m\u001b[1;33m.\u001b[0m\u001b[0m_process\u001b[0m\u001b[1;33m(\u001b[0m\u001b[0mfunction\u001b[0m\u001b[1;33m,\u001b[0m \u001b[0margs\u001b[0m\u001b[1;33m)\u001b[0m\u001b[1;33m\u001b[0m\u001b[1;33m\u001b[0m\u001b[0m\n\u001b[0m\u001b[0;32m     86\u001b[0m             \u001b[0mindeces\u001b[0m\u001b[1;33m[\u001b[0m\u001b[1;36m0\u001b[0m\u001b[1;33m]\u001b[0m \u001b[1;33m+=\u001b[0m \u001b[1;36m1\u001b[0m\u001b[1;33m\u001b[0m\u001b[1;33m\u001b[0m\u001b[0m\n\u001b[0;32m     87\u001b[0m             \u001b[0mcurrent_p\u001b[0m \u001b[1;33m=\u001b[0m \u001b[1;36m0\u001b[0m\u001b[1;33m\u001b[0m\u001b[1;33m\u001b[0m\u001b[0m\n",
      "\u001b[1;32m~\\source\\repos\\casm_viewer\\external\\tinc\\tinc-python\\tinc-python\\parameter_space.py\u001b[0m in \u001b[0;36m_process\u001b[1;34m(self, function, args)\u001b[0m\n\u001b[0;32m    109\u001b[0m                 \u001b[1;32mreturn\u001b[0m \u001b[0mout\u001b[0m\u001b[1;33m\u001b[0m\u001b[1;33m\u001b[0m\u001b[0m\n\u001b[0;32m    110\u001b[0m \u001b[1;33m\u001b[0m\u001b[0m\n\u001b[1;32m--> 111\u001b[1;33m         \u001b[0mout\u001b[0m \u001b[1;33m=\u001b[0m \u001b[0mfunction\u001b[0m\u001b[1;33m(\u001b[0m\u001b[1;33m**\u001b[0m\u001b[0margs\u001b[0m\u001b[1;33m)\u001b[0m\u001b[1;33m\u001b[0m\u001b[1;33m\u001b[0m\u001b[0m\n\u001b[0m\u001b[0;32m    112\u001b[0m         \u001b[1;32mif\u001b[0m \u001b[0mself\u001b[0m\u001b[1;33m.\u001b[0m\u001b[0m_cache_manager\u001b[0m\u001b[1;33m:\u001b[0m\u001b[1;33m\u001b[0m\u001b[1;33m\u001b[0m\u001b[0m\n\u001b[0;32m    113\u001b[0m             \u001b[0mself\u001b[0m\u001b[1;33m.\u001b[0m\u001b[0m_cache_manager\u001b[0m\u001b[1;33m.\u001b[0m\u001b[0mstore_cache\u001b[0m\u001b[1;33m(\u001b[0m\u001b[0mout\u001b[0m\u001b[1;33m,\u001b[0m \u001b[0margs\u001b[0m\u001b[1;33m)\u001b[0m\u001b[1;33m\u001b[0m\u001b[1;33m\u001b[0m\u001b[0m\n",
      "\u001b[1;32m<ipython-input-7-20ace4174780>\u001b[0m in \u001b[0;36mmy_fantastic_process\u001b[1;34m(param1, param2, param3)\u001b[0m\n\u001b[0;32m      8\u001b[0m \u001b[1;32mdef\u001b[0m \u001b[0mmy_fantastic_process\u001b[0m\u001b[1;33m(\u001b[0m\u001b[0mparam1\u001b[0m\u001b[1;33m,\u001b[0m \u001b[0mparam2\u001b[0m\u001b[1;33m,\u001b[0m \u001b[0mparam3\u001b[0m\u001b[1;33m)\u001b[0m\u001b[1;33m:\u001b[0m\u001b[1;33m\u001b[0m\u001b[1;33m\u001b[0m\u001b[0m\n\u001b[0;32m      9\u001b[0m     \u001b[0mprint\u001b[0m\u001b[1;33m(\u001b[0m\u001b[1;34mf\"processing data {param1} {param2} {param3}\"\u001b[0m\u001b[1;33m)\u001b[0m\u001b[1;33m\u001b[0m\u001b[1;33m\u001b[0m\u001b[0m\n\u001b[1;32m---> 10\u001b[1;33m     \u001b[0mtime\u001b[0m\u001b[1;33m.\u001b[0m\u001b[0msleep\u001b[0m\u001b[1;33m(\u001b[0m\u001b[1;36m3\u001b[0m\u001b[1;33m)\u001b[0m \u001b[1;31m# Very complex function\u001b[0m\u001b[1;33m\u001b[0m\u001b[1;33m\u001b[0m\u001b[0m\n\u001b[0m\u001b[0;32m     11\u001b[0m     \u001b[1;32mreturn\u001b[0m \u001b[1;33m[\u001b[0m\u001b[0mparam1\u001b[0m \u001b[1;33m+\u001b[0m \u001b[0mparam2\u001b[0m \u001b[1;33m+\u001b[0m \u001b[0mparam3\u001b[0m\u001b[1;33m,\u001b[0m \u001b[1;33m{\u001b[0m\u001b[1;34m\"more_data\"\u001b[0m\u001b[1;33m:\u001b[0m \u001b[1;33m[\u001b[0m\u001b[0mparam1\u001b[0m \u001b[1;33m+\u001b[0m \u001b[0mparam2\u001b[0m\u001b[1;33m,\u001b[0m \u001b[0mparam2\u001b[0m \u001b[1;33m+\u001b[0m \u001b[0mparam3\u001b[0m\u001b[1;33m]\u001b[0m\u001b[1;33m}\u001b[0m\u001b[1;33m]\u001b[0m\u001b[1;33m\u001b[0m\u001b[1;33m\u001b[0m\u001b[0m\n\u001b[0;32m     12\u001b[0m \u001b[1;33m\u001b[0m\u001b[0m\n",
      "\u001b[1;31mKeyboardInterrupt\u001b[0m: "
     ]
    }
   ],
   "source": [
    "ps.sweep(my_fantastic_process)"
   ]
  },
  {
   "cell_type": "code",
   "execution_count": null,
   "metadata": {},
   "outputs": [],
   "source": []
  }
 ],
 "metadata": {
  "kernelspec": {
   "display_name": "Python 3",
   "language": "python",
   "name": "python3"
  },
  "language_info": {
   "codemirror_mode": {
    "name": "ipython",
    "version": 3
   },
   "file_extension": ".py",
   "mimetype": "text/x-python",
   "name": "python",
   "nbconvert_exporter": "python",
   "pygments_lexer": "ipython3",
   "version": "3.8.3"
  }
 },
 "nbformat": 4,
 "nbformat_minor": 4
}
