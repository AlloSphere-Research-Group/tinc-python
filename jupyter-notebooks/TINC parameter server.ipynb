{
 "cells": [
  {
   "cell_type": "code",
   "execution_count": 1,
   "metadata": {},
   "outputs": [],
   "source": [
    "from parameter_server import *"
   ]
  },
  {
   "cell_type": "code",
   "execution_count": 2,
   "metadata": {},
   "outputs": [
    {
     "name": "stdout",
     "output_type": "stream",
     "text": [
      "Parameter server started on ('127.0.0.1', 9011)\n",
      "Command server: Serving on ('127.0.0.1', 14001)\n"
     ]
    }
   ],
   "source": [
    "pserver = ParameterServer()"
   ]
  },
  {
   "cell_type": "code",
   "execution_count": 3,
   "metadata": {},
   "outputs": [
    {
     "name": "stdout",
     "output_type": "stream",
     "text": [
      "Parameter Server running at localhost:9011\n",
      "Command Server at ('127.0.0.1', 14001)\n",
      "APP CONNECTED\n",
      " --- Listeners ---\n",
      "127.0.0.1:9010\n"
     ]
    }
   ],
   "source": [
    "pserver.print()"
   ]
  },
  {
   "cell_type": "code",
   "execution_count": 4,
   "metadata": {},
   "outputs": [
    {
     "name": "stdout",
     "output_type": "stream",
     "text": [
      "Closed command server\n",
      "Closed parameter server\n"
     ]
    }
   ],
   "source": [
    "pserver.stop()"
   ]
  },
  {
   "cell_type": "code",
   "execution_count": 5,
   "metadata": {},
   "outputs": [
    {
     "name": "stdout",
     "output_type": "stream",
     "text": [
      "Parameter server not running. Use start()\n"
     ]
    }
   ],
   "source": [
    "pserver.print()"
   ]
  },
  {
   "cell_type": "code",
   "execution_count": 6,
   "metadata": {},
   "outputs": [
    {
     "name": "stdout",
     "output_type": "stream",
     "text": [
      "Parameter server started on ('127.0.0.1', 9011)\n",
      "Command server: Serving on ('127.0.0.1', 14001)\n"
     ]
    }
   ],
   "source": [
    "pserver.start()"
   ]
  },
  {
   "cell_type": "code",
   "execution_count": 7,
   "metadata": {},
   "outputs": [
    {
     "name": "stdout",
     "output_type": "stream",
     "text": [
      "Register listener 127.0.0.1:9010\n",
      "Already registered ignoring request.\n",
      "Parameter Server running at localhost:9011\n",
      "Command Server at ('127.0.0.1', 14001)\n",
      "APP CONNECTED\n",
      " --- Listeners ---\n",
      "127.0.0.1:9010\n"
     ]
    }
   ],
   "source": [
    "pserver.print()"
   ]
  },
  {
   "cell_type": "code",
   "execution_count": 10,
   "metadata": {},
   "outputs": [
    {
     "name": "stdout",
     "output_type": "stream",
     "text": [
      "Parameter gain already registeredParameter value already registered\n",
      "\n"
     ]
    },
    {
     "name": "stderr",
     "output_type": "stream",
     "text": [
      "----------------------------------------\n",
      "Exception happened during processing of request from ('127.0.0.1', 49600)\n",
      "Traceback (most recent call last):\n",
      "  File \"/usr/local/opt/python/Frameworks/Python.framework/Versions/3.7/lib/python3.7/socketserver.py\", line 650, in process_request_thread\n",
      "    self.finish_request(request, client_address)\n",
      "  File \"/usr/local/opt/python/Frameworks/Python.framework/Versions/3.7/lib/python3.7/socketserver.py\", line 360, in finish_request\n",
      "    self.RequestHandlerClass(request, client_address, self)\n",
      "  File \"/usr/local/opt/python/Frameworks/Python.framework/Versions/3.7/lib/python3.7/socketserver.py\", line 720, in __init__\n",
      "    self.handle()\n",
      "  File \"/usr/local/Cellar/jupyterlab/2.1.0/libexec/lib/python3.7/site-packages/pythonosc/osc_server.py\", line 29, in handle\n",
      "    self.server.dispatcher.call_handlers_for_packet(self.request[0], self.client_address)\n",
      "  File \"/usr/local/Cellar/jupyterlab/2.1.0/libexec/lib/python3.7/site-packages/pythonosc/dispatcher.py\", line 194, in call_handlers_for_packet\n",
      "    handler.invoke(client_address, timed_msg.message)\n",
      "  File \"/usr/local/Cellar/jupyterlab/2.1.0/libexec/lib/python3.7/site-packages/pythonosc/dispatcher.py\", line 52, in invoke\n",
      "    self.callback(client_address, message.address, *message)\n",
      "  File \"/Users/lt01/code/allolib_playground/al_ext/tinc/examples/parameter_server.py\", line 73, in register_parameter\n",
      "    new_param = ParameterString(name, group, default, prefix, minimum, maximum)\n",
      "TypeError: __init__() takes from 2 to 5 positional arguments but 7 were given\n",
      "----------------------------------------\n"
     ]
    }
   ],
   "source": [
    "pserver.request_parameters()\n",
    "import time\n",
    "time.sleep(1)"
   ]
  },
  {
   "cell_type": "code",
   "execution_count": 5,
   "metadata": {},
   "outputs": [
    {
     "name": "stdout",
     "output_type": "stream",
     "text": [
      "Parameter Server running at localhost:9011\n",
      "Command Server at ('127.0.0.1', 14001)\n",
      "APP CONNECTED\n",
      " --- Listeners ---\n",
      "127.0.0.1:9010\n",
      " --- Parameters ---\n",
      "/alloapp/sound/gain -- 1.0\n",
      "/value -- 0.0\n"
     ]
    }
   ],
   "source": [
    "pserver.print()"
   ]
  },
  {
   "cell_type": "code",
   "execution_count": 7,
   "metadata": {},
   "outputs": [],
   "source": [
    "pserver.parameters = []"
   ]
  },
  {
   "cell_type": "code",
   "execution_count": 15,
   "metadata": {},
   "outputs": [
    {
     "name": "stdout",
     "output_type": "stream",
     "text": [
      "Parameter Server running at localhost:9011\n",
      "Command Server at ('127.0.0.1', 14001)\n",
      "APP CONNECTED\n",
      " --- Listeners ---\n",
      "127.0.0.1:9010\n",
      " --- Parameters ---\n",
      "/alloapp/sound/gain -- 1.0\n",
      "/value -- 0.6000000238418579\n"
     ]
    }
   ],
   "source": [
    "pserver.print()"
   ]
  },
  {
   "cell_type": "code",
   "execution_count": null,
   "metadata": {},
   "outputs": [],
   "source": [
    "pserver.request_parameters()"
   ]
  },
  {
   "cell_type": "markdown",
   "metadata": {},
   "source": [
    "Change the value of the parameter in the app. It will "
   ]
  },
  {
   "cell_type": "code",
   "execution_count": 16,
   "metadata": {},
   "outputs": [
    {
     "name": "stdout",
     "output_type": "stream",
     "text": [
      "Parameter Server running at localhost:9011\n",
      "Command Server at ('127.0.0.1', 14001)\n",
      "APP CONNECTED\n",
      " --- Listeners ---\n",
      "127.0.0.1:9010\n",
      " --- Parameters ---\n",
      "/alloapp/sound/gain -- 1.0\n",
      "/value -- 0.6000000238418579\n"
     ]
    }
   ],
   "source": [
    "pserver.print()"
   ]
  },
  {
   "cell_type": "code",
   "execution_count": 12,
   "metadata": {},
   "outputs": [],
   "source": [
    "pserver.request_all_parameter_values()"
   ]
  },
  {
   "cell_type": "code",
   "execution_count": 14,
   "metadata": {},
   "outputs": [
    {
     "name": "stdout",
     "output_type": "stream",
     "text": [
      "Parameter Server running at localhost:9011\n",
      "Command Server at ('127.0.0.1', 14001)\n",
      "APP CONNECTED\n",
      " --- Listeners ---\n",
      "127.0.0.1:9010\n",
      " --- Parameters ---\n",
      "/alloapp/sound/gain -- 1.0\n",
      "/value -- 0.6000000238418579\n"
     ]
    }
   ],
   "source": [
    "pserver.print()"
   ]
  },
  {
   "cell_type": "code",
   "execution_count": 6,
   "metadata": {},
   "outputs": [
    {
     "ename": "KeyboardInterrupt",
     "evalue": "",
     "output_type": "error",
     "traceback": [
      "\u001b[0;31m---------------------------------------------------------------------------\u001b[0m",
      "\u001b[0;31mKeyboardInterrupt\u001b[0m                         Traceback (most recent call last)",
      "\u001b[0;32m<ipython-input-6-3b32fc4be937>\u001b[0m in \u001b[0;36m<module>\u001b[0;34m\u001b[0m\n\u001b[0;32m----> 1\u001b[0;31m \u001b[0mpserver\u001b[0m\u001b[0;34m.\u001b[0m\u001b[0mmonitor_server\u001b[0m\u001b[0;34m(\u001b[0m\u001b[0;34m)\u001b[0m\u001b[0;34m\u001b[0m\u001b[0;34m\u001b[0m\u001b[0m\n\u001b[0m",
      "\u001b[0;32m~/code/allolib_playground/al_ext/tinc/examples/parameter_server.py\u001b[0m in \u001b[0;36mmonitor_server\u001b[0;34m(self, timeout)\u001b[0m\n\u001b[1;32m    272\u001b[0m         \u001b[0;32mwhile\u001b[0m \u001b[0mtimeAccum\u001b[0m \u001b[0;34m<\u001b[0m \u001b[0mtimeout\u001b[0m \u001b[0;32mor\u001b[0m \u001b[0mtimeout\u001b[0m \u001b[0;34m==\u001b[0m \u001b[0;36m0\u001b[0m\u001b[0;34m:\u001b[0m\u001b[0;34m\u001b[0m\u001b[0;34m\u001b[0m\u001b[0m\n\u001b[1;32m    273\u001b[0m             \u001b[0mtimeAccum\u001b[0m \u001b[0;34m+=\u001b[0m \u001b[0;36m0.1\u001b[0m\u001b[0;34m\u001b[0m\u001b[0;34m\u001b[0m\u001b[0m\n\u001b[0;32m--> 274\u001b[0;31m             \u001b[0mtime\u001b[0m\u001b[0;34m.\u001b[0m\u001b[0msleep\u001b[0m\u001b[0;34m(\u001b[0m\u001b[0;36m0.1\u001b[0m\u001b[0;34m)\u001b[0m\u001b[0;34m\u001b[0m\u001b[0;34m\u001b[0m\u001b[0m\n\u001b[0m\u001b[1;32m    275\u001b[0m \u001b[0;31m#             yield\u001b[0m\u001b[0;34m\u001b[0m\u001b[0;34m\u001b[0m\u001b[0;34m\u001b[0m\u001b[0m\n\u001b[1;32m    276\u001b[0m \u001b[0;34m\u001b[0m\u001b[0m\n",
      "\u001b[0;31mKeyboardInterrupt\u001b[0m: "
     ]
    }
   ],
   "source": [
    "pserver.monitor_server()"
   ]
  },
  {
   "cell_type": "code",
   "execution_count": null,
   "metadata": {},
   "outputs": [],
   "source": []
  }
 ],
 "metadata": {
  "kernelspec": {
   "display_name": "Python 3",
   "language": "python",
   "name": "python3"
  },
  "language_info": {
   "codemirror_mode": {
    "name": "ipython",
    "version": 3
   },
   "file_extension": ".py",
   "mimetype": "text/x-python",
   "name": "python",
   "nbconvert_exporter": "python",
   "pygments_lexer": "ipython3",
   "version": "3.7.7"
  }
 },
 "nbformat": 4,
 "nbformat_minor": 4
}
