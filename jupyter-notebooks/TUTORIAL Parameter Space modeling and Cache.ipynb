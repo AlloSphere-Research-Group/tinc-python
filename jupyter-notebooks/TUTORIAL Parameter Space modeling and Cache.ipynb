{
 "cells": [
  {
   "cell_type": "markdown",
   "metadata": {},
   "source": [
    "This notebook follows the tutorial in the TINC python documentation: \n",
    "[TINC Python Tutorial](https://tinc-python.readthedocs.io/en/latest/tutorial.html)\n"
   ]
  },
  {
   "cell_type": "code",
   "execution_count": null,
   "metadata": {},
   "outputs": [],
   "source": [
    "%pylab inline"
   ]
  },
  {
   "cell_type": "code",
   "execution_count": null,
   "metadata": {},
   "outputs": [],
   "source": [
    "from tinc import *"
   ]
  },
  {
   "cell_type": "code",
   "execution_count": null,
   "metadata": {},
   "outputs": [],
   "source": [
    "l = Parameter(\"length\", \"dimensions\")\n",
    "w = Parameter(\"width\", \"dimensions\")\n",
    "l.values = linspace(0, 10, 11)\n",
    "w.values = linspace(0, 10, 11)\n",
    "\n",
    "pos = Parameter(\"position\")\n",
    "pos.values = linspace(0, 1, 21)"
   ]
  },
  {
   "cell_type": "code",
   "execution_count": null,
   "metadata": {},
   "outputs": [],
   "source": [
    "ps = ParameterSpace()\n",
    "ps.register_parameters([l,w,pos])"
   ]
  },
  {
   "cell_type": "code",
   "execution_count": null,
   "metadata": {},
   "outputs": [],
   "source": [
    "ps.set_root_path(\"/data/\")\n",
    "ps.set_current_path_template(\"w%%width%%_l%%length%%\")"
   ]
  },
  {
   "cell_type": "code",
   "execution_count": null,
   "metadata": {},
   "outputs": [],
   "source": [
    "ps.get_current_relative_path()"
   ]
  },
  {
   "cell_type": "code",
   "execution_count": null,
   "metadata": {},
   "outputs": [],
   "source": [
    "l.ids = [str(i) for i in range(11)]\n",
    "w.ids = [str(i) for i in range(11)]"
   ]
  },
  {
   "cell_type": "code",
   "execution_count": null,
   "metadata": {},
   "outputs": [],
   "source": [
    "l.value = 4\n",
    "w.value = 3\n",
    "ps.set_current_path_template(\"w%%width:ID%%_l%%length:ID%%\")\n",
    "ps.get_current_relative_path()"
   ]
  },
  {
   "cell_type": "code",
   "execution_count": null,
   "metadata": {},
   "outputs": [],
   "source": [
    "ps.get_parameter(\"width\")"
   ]
  },
  {
   "cell_type": "markdown",
   "metadata": {},
   "source": [
    "## Presets"
   ]
  },
  {
   "cell_type": "code",
   "execution_count": null,
   "metadata": {},
   "outputs": [],
   "source": [
    "presets = PresetHandler()\n",
    "presets.register_parameter(l)\n",
    "presets.register_parameter(w)"
   ]
  },
  {
   "cell_type": "code",
   "execution_count": null,
   "metadata": {},
   "outputs": [],
   "source": [
    "l.value = 2\n",
    "w.value = 1\n",
    "presets.store_preset(\"test1\")"
   ]
  },
  {
   "cell_type": "code",
   "execution_count": null,
   "metadata": {},
   "outputs": [],
   "source": [
    "l.value = 5\n",
    "w.value = 3\n",
    "presets.recall_preset(\"test1\")\n",
    "print(l.value, w.value)"
   ]
  },
  {
   "cell_type": "code",
   "execution_count": null,
   "metadata": {},
   "outputs": [],
   "source": [
    "!cat presets/test1.preset"
   ]
  },
  {
   "cell_type": "markdown",
   "metadata": {},
   "source": [
    "## Parameter callbacks"
   ]
  },
  {
   "cell_type": "code",
   "execution_count": null,
   "metadata": {},
   "outputs": [],
   "source": [
    "def max_circle(value = 0):\n",
    "    m = min(l.value, w.value)\n",
    "    print(m)\n",
    "    return m"
   ]
  },
  {
   "cell_type": "code",
   "execution_count": null,
   "metadata": {},
   "outputs": [],
   "source": [
    "l.value = 4\n",
    "w.value = 7\n",
    "max_circle()"
   ]
  },
  {
   "cell_type": "code",
   "execution_count": null,
   "metadata": {},
   "outputs": [],
   "source": [
    "l.register_callback(max_circle)\n",
    "w.register_callback(max_circle)"
   ]
  },
  {
   "cell_type": "code",
   "execution_count": null,
   "metadata": {},
   "outputs": [],
   "source": [
    "w.value = 5\n",
    "l.interactive_widget()"
   ]
  },
  {
   "cell_type": "markdown",
   "metadata": {},
   "source": [
    "## Parameter Sweeps"
   ]
  },
  {
   "cell_type": "code",
   "execution_count": null,
   "metadata": {},
   "outputs": [],
   "source": [
    "import matplotlib.pyplot as plt\n",
    "def graph(length, width, pos):    \n",
    "    plt.axes()\n",
    "    \n",
    "    # Draw rectangle\n",
    "    points = [[0, 0], [length, 0], [length, width], [0, width], [0,0]]\n",
    "    polygon = plt.Polygon(points)\n",
    "    plt.gca().add_patch(polygon)\n",
    "\n",
    "    # Draw circle\n",
    "    diameter = min(length, width)\n",
    "    \n",
    "    center = (diameter* 0.5 + (pos *(length - diameter)), diameter* 0.5 + (pos *(width - diameter)))\n",
    "    \n",
    "    circle = plt.Circle(center, radius=diameter* 0.5, fc='y')\n",
    "    plt.gca().add_patch(circle)\n",
    "    plt.axis('scaled')\n",
    "    plt.xlim(0, 10)\n",
    "    plt.ylim(0, 10)"
   ]
  },
  {
   "cell_type": "code",
   "execution_count": null,
   "metadata": {},
   "outputs": [],
   "source": [
    "graph(4, 7, 0.5)"
   ]
  },
  {
   "cell_type": "code",
   "execution_count": null,
   "metadata": {},
   "outputs": [],
   "source": [
    "graph(6,2, 0.8)"
   ]
  },
  {
   "cell_type": "code",
   "execution_count": null,
   "metadata": {},
   "outputs": [],
   "source": [
    "def save_graph():\n",
    "    graph(l.value, w.value, pos.value)\n",
    "\n",
    "    filename = f\"graph_{l.value}_{w.value}_{pos.value}.png\"\n",
    "    print(\"saving \" + filename)\n",
    "    savefig(filename)\n",
    "    plt.close()"
   ]
  },
  {
   "cell_type": "code",
   "execution_count": null,
   "metadata": {},
   "outputs": [],
   "source": [
    "save_graph()"
   ]
  },
  {
   "cell_type": "code",
   "execution_count": null,
   "metadata": {
    "scrolled": true
   },
   "outputs": [],
   "source": [
    "ps.sweep(save_graph, force_values=True)"
   ]
  },
  {
   "cell_type": "code",
   "execution_count": null,
   "metadata": {},
   "outputs": [],
   "source": [
    "l.remove_callback(max_circle)\n",
    "w.remove_callback(max_circle)"
   ]
  },
  {
   "cell_type": "code",
   "execution_count": null,
   "metadata": {},
   "outputs": [],
   "source": [
    "ps.stop_sweep()"
   ]
  },
  {
   "cell_type": "code",
   "execution_count": null,
   "metadata": {},
   "outputs": [],
   "source": [
    "ps.sweep(save_graph, force_values=True)"
   ]
  },
  {
   "cell_type": "code",
   "execution_count": null,
   "metadata": {},
   "outputs": [],
   "source": [
    "ps.stop_sweep()"
   ]
  },
  {
   "cell_type": "code",
   "execution_count": null,
   "metadata": {},
   "outputs": [],
   "source": [
    "def save_graph2(length, width, position):\n",
    "    graph(length, width, position)\n",
    "\n",
    "    filename = f\"graph_{length}_{width}_{position}.png\"\n",
    "    print(\"saving \" + filename)\n",
    "    savefig(filename)"
   ]
  },
  {
   "cell_type": "code",
   "execution_count": null,
   "metadata": {},
   "outputs": [],
   "source": [
    "ps.sweep(save_graph2)"
   ]
  },
  {
   "cell_type": "code",
   "execution_count": null,
   "metadata": {},
   "outputs": [],
   "source": [
    "ps.stop_sweep()"
   ]
  },
  {
   "cell_type": "markdown",
   "metadata": {},
   "source": [
    "## Cache\n"
   ]
  },
  {
   "cell_type": "code",
   "execution_count": null,
   "metadata": {},
   "outputs": [],
   "source": [
    "ps.enable_cache()"
   ]
  },
  {
   "cell_type": "code",
   "execution_count": null,
   "metadata": {},
   "outputs": [],
   "source": [
    "from matplotlib.backends.backend_agg import FigureCanvasAgg as FigureCanvas\n",
    "import time\n",
    "def create_graph(length, width, position):\n",
    "    graph(length, width, position)\n",
    "    f = gcf()\n",
    "#     f.set_figwidth(5)\n",
    "#     f.set_figheight(5)\n",
    "    canvas = FigureCanvas(f)\n",
    "    canvas.draw()\n",
    "    image = np.frombuffer(canvas.tostring_rgb(), dtype='uint8')\n",
    "    plt.close()\n",
    "    \n",
    "    print(f\"{length}_{width}_{position}\")\n",
    "    time.sleep(2) # Fake a time consuming process\n",
    "    return image.reshape((int(f.get_figheight()*f.get_dpi()), int(f.get_figwidth()*f.get_dpi()), 3))"
   ]
  },
  {
   "cell_type": "code",
   "execution_count": null,
   "metadata": {},
   "outputs": [],
   "source": [
    "im = create_graph(1,3,0.3)"
   ]
  },
  {
   "cell_type": "code",
   "execution_count": null,
   "metadata": {
    "scrolled": true
   },
   "outputs": [],
   "source": [
    "import IPython.display\n",
    "import PIL.Image\n",
    "IPython.display.display(PIL.Image.fromarray(im))"
   ]
  },
  {
   "cell_type": "code",
   "execution_count": null,
   "metadata": {},
   "outputs": [],
   "source": [
    "ps.stop_sweep()\n",
    "ps.sweep(create_graph)"
   ]
  },
  {
   "cell_type": "code",
   "execution_count": null,
   "metadata": {},
   "outputs": [],
   "source": [
    "%%time\n",
    "im = ps.run_process(create_graph)"
   ]
  },
  {
   "cell_type": "code",
   "execution_count": null,
   "metadata": {},
   "outputs": [],
   "source": [
    "%%time\n",
    "im = ps.run_process(create_graph)"
   ]
  },
  {
   "cell_type": "code",
   "execution_count": null,
   "metadata": {},
   "outputs": [],
   "source": [
    "ps.clear_cache()"
   ]
  }
 ],
 "metadata": {
  "kernelspec": {
   "display_name": "Python 3",
   "language": "python",
   "name": "python3"
  },
  "language_info": {
   "codemirror_mode": {
    "name": "ipython",
    "version": 3
   },
   "file_extension": ".py",
   "mimetype": "text/x-python",
   "name": "python",
   "nbconvert_exporter": "python",
   "pygments_lexer": "ipython3",
   "version": "3.8.3"
  }
 },
 "nbformat": 4,
 "nbformat_minor": 4
}
