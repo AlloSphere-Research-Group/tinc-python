{
 "cells": [
  {
   "cell_type": "markdown",
   "metadata": {},
   "source": [
    "This notebook shows the functions provided by TINC to create parameter spaces and data pools from configuration and output files. There are two methods:\n",
    "\n",
    "  * Using the output data\n",
    "  * Using configuration files\n",
    "  \n",
    "Using the output can be very convenient as you can create a DataPool automatically to explore the data, but there are cases where you might need to extract the parameter space from configuration files instead, in cases where the parameters are not present in the output data."
   ]
  },
  {
   "cell_type": "code",
   "execution_count": 1,
   "metadata": {},
   "outputs": [
    {
     "name": "stdout",
     "output_type": "stream",
     "text": [
      "Populating the interactive namespace from numpy and matplotlib\n"
     ]
    },
    {
     "name": "stderr",
     "output_type": "stream",
     "text": [
      "C:\\Users\\Andres\\anaconda3\\lib\\site-packages\\IPython\\core\\magics\\pylab.py:159: UserWarning: pylab import has clobbered these variables: ['unique', 'interactive']\n",
      "`%matplotlib` prevents importing * from pylab and numpy\n",
      "  warn(\"pylab import has clobbered these variables: %s\"  % clobbered +\n"
     ]
    }
   ],
   "source": [
    "from tinc import *\n",
    "%pylab inline"
   ]
  },
  {
   "cell_type": "markdown",
   "metadata": {},
   "source": [
    "## tl;dr Create datapools from output\n",
    "\n",
    "You can create a data pool directly from results using ```create_datapool_from_output()```. This function returns the datapool and parameter space extracted from the data files."
   ]
  },
  {
   "cell_type": "code",
   "execution_count": 43,
   "metadata": {},
   "outputs": [
    {
     "name": "stdout",
     "output_type": "stream",
     "text": [
      "Found more than one potential parameter in files:['Beta', 'T'] \n",
      "Using:T \n"
     ]
    },
    {
     "data": {
      "image/png": "[encoded data removed]",
      "text/plain": [
       "<Figure size 864x288 with 2 Axes>"
      ]
     },
     "metadata": {
      "needs_background": "light"
     },
     "output_type": "display_data"
    }
   ],
   "source": [
    "data_dir = r'C:\\Users\\Andres\\source\\repos\\vdv_data\\nbO_2chempot'\n",
    "dp,ps  = create_datapool_from_output(data_dir, \"results.json\", ignore_params=['Beta'])\n",
    "\n",
    "figure(figsize=(12,4))\n",
    "subplot(1,2, 1)\n",
    "xlabel(\"T\")\n",
    "ps.get_dimension(\"param_chem_pot(a)\").value = 3.8\n",
    "plot(ps.get_parameter(\"T\").values, dp.get_slice(\"<formation_energy>\", \"T\"))\n",
    "ps.get_parameter(\"param_chem_pot(a)\").value = 3.9\n",
    "plot(ps.get_parameter(\"T\").values, dp.get_slice(\"<formation_energy>\", \"T\"))\n",
    "legend([3.8, 3.9])\n",
    "\n",
    "subplot(1,2, 2)\n",
    "xlabel(\"param_chem_pot(a)\")\n",
    "temp_values = linspace(100, 2800, 5)\n",
    "\n",
    "for temp_val in temp_values:\n",
    "    ps.get_dimension(\"T\").value = temp_val\n",
    "    plot(ps.get_parameter(\"param_chem_pot(a)\").get_values(), dp.get_slice(\"<formation_energy>\", \"param_chem_pot(a)\"), marker='o')\n",
    "    \n",
    "legend(temp_values);\n"
   ]
  },
  {
   "cell_type": "markdown",
   "metadata": {},
   "source": [
    "# Extracting from configuration files\n",
    "\n",
    "To extract a parameter space from configuration files, you must provide a data root directory and the name of the configuration file that can be found in subdirectories. This assumes all configuration file names are the same.\n",
    "\n",
    "You will also need to describe how to extract the information from the configuration files. This is done by specifying the keys where the parameter data is found. For example if the configuration files look like:\n",
    "\n",
    "```json\n",
    "{\n",
    "  \"driver\" : {\n",
    "    \"mode\" : \"incremental\", \n",
    "    \"motif\" : {\n",
    "      \"configname\" : \"restricted_auto\",\n",
    "      \"_configname\" : \"SCEL1_1_1_1_0_0_0/0\",\n",
    "      \"_configdof\" : \"$HOME/laptop_share/NbO_rocksalt_gs/mc_runs/fit_13.02/coarse_grid/set2_cooling_grid2/A_3.9B_-19.1/conditions.298/tto/final_state.json\"\n",
    "    },\n",
    "    \"initial_conditions\" : {\n",
    "      \"param_chem_pot\" : {\n",
    "        \"a\" : 3.90,\n",
    "        \"b\" : -19.80\n",
    "      },\n",
    "      \"temperature\" : 20.0,\n",
    "      \"tolerance\" : 0.001\n",
    "    },\n",
    "    \"final_conditions\" : {\n",
    "      \"param_chem_pot\" : {\n",
    "        \"a\" : 3.90,\n",
    "        \"b\" : -19.80\n",
    "      },\n",
    "      \"temperature\" :2800.0,\n",
    "      \"tolerance\" : 0.001\n",
    "    },\n",
    "    \"incremental_conditions\" : {\n",
    "      \"param_chem_pot\" : {\n",
    "        \"a\" : 0.0,\n",
    "        \"b\" : 0.0\n",
    "      },\n",
    "      \"temperature\" : 10.0,\n",
    "      \"tolerance\" : 0.001\n",
    "    }\n",
    "  }\n",
    "}\n",
    "\n",
    "```\n",
    "\n",
    "You specify the starting value key as: ```driver/initial_conditions/*``` because the starting values are a list within the \"driver\" and \" initial_conditions\" keys. A similar string needs to be constructed for end and increment keys.\n",
    "\n",
    "\n",
    "Current limitations:\n",
    "  * JSON only\n",
    "  * space must be described by its boundaries and the incremement\n",
    "  * Limited format to describe how to extract the information. Currently values must be leaf nodes."
   ]
  },
  {
   "cell_type": "markdown",
   "metadata": {},
   "source": [
    "## Extracting parameter space values\n",
    "\n",
    "The function ```extract_parameter_space_data``` will extract the parameter values as a dictionary. This can be useful as a initial step to ensure values are being extracted correctly."
   ]
  },
  {
   "cell_type": "code",
   "execution_count": 3,
   "metadata": {},
   "outputs": [
    {
     "data": {
      "text/plain": [
       "{'param_chem_pot(a)': array([3.8, 3.9]),\n",
       " 'param_chem_pot(b)': array([-19.9, -19.8]),\n",
       " 'temperature': array([  20.,   30.,   40.,   50.,   60.,   70.,   80.,   90.,  100.,\n",
       "         110.,  120.,  130.,  140.,  150.,  160.,  170.,  180.,  190.,\n",
       "         200.,  210.,  220.,  230.,  240.,  250.,  260.,  270.,  280.,\n",
       "         290.,  300.,  310.,  320.,  330.,  340.,  350.,  360.,  370.,\n",
       "         380.,  390.,  400.,  410.,  420.,  430.,  440.,  450.,  460.,\n",
       "         470.,  480.,  490.,  500.,  510.,  520.,  530.,  540.,  550.,\n",
       "         560.,  570.,  580.,  590.,  600.,  610.,  620.,  630.,  640.,\n",
       "         650.,  660.,  670.,  680.,  690.,  700.,  710.,  720.,  730.,\n",
       "         740.,  750.,  760.,  770.,  780.,  790.,  800.,  810.,  820.,\n",
       "         830.,  840.,  850.,  860.,  870.,  880.,  890.,  900.,  910.,\n",
       "         920.,  930.,  940.,  950.,  960.,  970.,  980.,  990., 1000.,\n",
       "        1010., 1020., 1030., 1040., 1050., 1060., 1070., 1080., 1090.,\n",
       "        1100., 1110., 1120., 1130., 1140., 1150., 1160., 1170., 1180.,\n",
       "        1190., 1200., 1210., 1220., 1230., 1240., 1250., 1260., 1270.,\n",
       "        1280., 1290., 1300., 1310., 1320., 1330., 1340., 1350., 1360.,\n",
       "        1370., 1380., 1390., 1400., 1410., 1420., 1430., 1440., 1450.,\n",
       "        1460., 1470., 1480., 1490., 1500., 1510., 1520., 1530., 1540.,\n",
       "        1550., 1560., 1570., 1580., 1590., 1600., 1610., 1620., 1630.,\n",
       "        1640., 1650., 1660., 1670., 1680., 1690., 1700., 1710., 1720.,\n",
       "        1730., 1740., 1750., 1760., 1770., 1780., 1790., 1800., 1810.,\n",
       "        1820., 1830., 1840., 1850., 1860., 1870., 1880., 1890., 1900.,\n",
       "        1910., 1920., 1930., 1940., 1950., 1960., 1970., 1980., 1990.,\n",
       "        2000., 2010., 2020., 2030., 2040., 2050., 2060., 2070., 2080.,\n",
       "        2090., 2100., 2110., 2120., 2130., 2140., 2150., 2160., 2170.,\n",
       "        2180., 2190., 2200., 2210., 2220., 2230., 2240., 2250., 2260.,\n",
       "        2270., 2280., 2290., 2300., 2310., 2320., 2330., 2340., 2350.,\n",
       "        2360., 2370., 2380., 2390., 2400., 2410., 2420., 2430., 2440.,\n",
       "        2450., 2460., 2470., 2480., 2490., 2500., 2510., 2520., 2530.,\n",
       "        2540., 2550., 2560., 2570., 2580., 2590., 2600., 2610., 2620.,\n",
       "        2630., 2640., 2650., 2660., 2670., 2680., 2690., 2700., 2710.,\n",
       "        2720., 2730., 2740., 2750., 2760., 2770., 2780., 2790., 2800.])}"
      ]
     },
     "execution_count": 3,
     "metadata": {},
     "output_type": "execute_result"
    }
   ],
   "source": [
    "data_dir = r'C:\\Users\\Andres\\source\\repos\\vdv_data\\nbO_2chempot'\n",
    "config_file = 'mc_settings.json'\n",
    "parameter_start_key = 'driver/initial_conditions/*'\n",
    "parameter_end_key = 'driver/final_conditions/*'\n",
    "parameter_increment_key = 'driver/incremental_conditions/*'\n",
    "\n",
    "extract_parameter_space_data(data_dir, config_file, parameter_start_key, parameter_end_key, parameter_increment_key)"
   ]
  },
  {
   "cell_type": "markdown",
   "metadata": {},
   "source": [
    "## Creating parameter spaces\n",
    "\n",
    "The ```make_parameter_space``` function returns a fully created parameter space from the configuration files. The only remaining step to perform to make the parameter space usable is to set the path template using ```set_current_path_template```. This template describes how the parameter values map to the filesystem."
   ]
  },
  {
   "cell_type": "code",
   "execution_count": 4,
   "metadata": {},
   "outputs": [
    {
     "name": "stdout",
     "output_type": "stream",
     "text": [
      " ** ParameterSpace 'None'\n",
      "   -- Parameter param_chem_pot(a) 3.8 ... 3.9\n",
      "   -- Parameter param_chem_pot(b) -19.9 ... -19.8\n",
      "   -- Parameter temperature 20.0 ... 2800.0\n",
      "\n",
      "\n"
     ]
    }
   ],
   "source": [
    "data_dir = r'C:\\Users\\Andres\\source\\repos\\vdv_data\\nbO_2chempot'\n",
    "config_file = 'mc_settings.json'\n",
    "parameter_start_key = 'driver/initial_conditions/*'\n",
    "parameter_end_key = 'driver/final_conditions/*'\n",
    "parameter_increment_key = 'driver/incremental_conditions/*'\n",
    "\n",
    "ps = make_parameter_space(data_dir, config_file, parameter_start_key, parameter_end_key, parameter_increment_key, ps_name=\"casmParams\")\n",
    "\n",
    "ps.set_current_path_template(\"A_%%param_chem_pot(a)%%B_%%param_chem_pot(b)%%\")\n",
    "ps.print()"
   ]
  },
  {
   "cell_type": "markdown",
   "metadata": {},
   "source": [
    "## Data pools for the new parameter space\n",
    "\n",
    "Once the parameter space has been extracted, a DataPool can be created to access the data across all the directories. After creating the data pool, you need to register the files that contain the data, in this case, the \"results.json\" file spans the temperature parameter. These data files must be located in the path defined through ```set_current_path_template()``` above."
   ]
  },
  {
   "cell_type": "code",
   "execution_count": 5,
   "metadata": {},
   "outputs": [],
   "source": [
    "dp = DataPoolJson(\"results\", ps, \"slice_dir\")\n",
    "dp.register_data_file(\"results.json\", \"temperature\")"
   ]
  },
  {
   "cell_type": "code",
   "execution_count": 6,
   "metadata": {},
   "outputs": [
    {
     "data": {
      "text/plain": [
       "['C:\\\\Users\\\\Andres\\\\source\\\\repos\\\\vdv_data\\\\nbO_2chempot/A_3.8B_-19.8/results.json']"
      ]
     },
     "execution_count": 6,
     "metadata": {},
     "output_type": "execute_result"
    }
   ],
   "source": [
    "dp.get_current_files()"
   ]
  },
  {
   "cell_type": "code",
   "execution_count": 7,
   "metadata": {},
   "outputs": [
    {
     "data": {
      "text/plain": [
       "'A_3.8B_-19.8'"
      ]
     },
     "execution_count": 7,
     "metadata": {},
     "output_type": "execute_result"
    }
   ],
   "source": [
    "ps.get_current_relative_path()"
   ]
  },
  {
   "cell_type": "markdown",
   "metadata": {},
   "source": [
    "You can query the fields available in the data files:"
   ]
  },
  {
   "cell_type": "code",
   "execution_count": 8,
   "metadata": {},
   "outputs": [
    {
     "data": {
      "text/plain": [
       "['<atom_frac(Nb)>',\n",
       " '<atom_frac(O)>',\n",
       " '<comp(a)>',\n",
       " '<comp(b)>',\n",
       " '<comp_n(Nb)>',\n",
       " '<comp_n(O)>',\n",
       " '<comp_n(Va)>',\n",
       " '<formation_energy>',\n",
       " '<potential_energy>',\n",
       " '<site_frac(Nb)>',\n",
       " '<site_frac(O)>',\n",
       " '<site_frac(Va)>',\n",
       " 'Beta',\n",
       " 'N_avg_samples',\n",
       " 'N_equil_samples',\n",
       " 'T',\n",
       " 'heat_capacity',\n",
       " 'is_converged',\n",
       " 'is_equilibrated',\n",
       " 'param_chem_pot(a)',\n",
       " 'param_chem_pot(b)',\n",
       " 'prec(<atom_frac(Nb)>)',\n",
       " 'prec(<atom_frac(O)>)',\n",
       " 'prec(<comp(a)>)',\n",
       " 'prec(<comp(b)>)',\n",
       " 'prec(<comp_n(Nb)>)',\n",
       " 'prec(<comp_n(O)>)',\n",
       " 'prec(<comp_n(Va)>)',\n",
       " 'prec(<formation_energy>)',\n",
       " 'prec(<potential_energy>)',\n",
       " 'prec(<site_frac(Nb)>)',\n",
       " 'prec(<site_frac(O)>)',\n",
       " 'prec(<site_frac(Va)>)',\n",
       " 'susc_n(Nb,Nb)',\n",
       " 'susc_n(Nb,O)',\n",
       " 'susc_n(Nb,Va)',\n",
       " 'susc_n(O,O)',\n",
       " 'susc_n(S,Nb)',\n",
       " 'susc_n(S,O)',\n",
       " 'susc_n(S,Va)',\n",
       " 'susc_n(Va,O)',\n",
       " 'susc_n(Va,Va)',\n",
       " 'susc_x(S,a)',\n",
       " 'susc_x(S,b)',\n",
       " 'susc_x(a,a)',\n",
       " 'susc_x(a,b)',\n",
       " 'susc_x(b,b)']"
      ]
     },
     "execution_count": 8,
     "metadata": {},
     "output_type": "execute_result"
    }
   ],
   "source": [
    "dp.list_fields()"
   ]
  },
  {
   "cell_type": "code",
   "execution_count": 9,
   "metadata": {},
   "outputs": [],
   "source": [
    "ps.get_dimension(\"temperature\").value = 1500\n",
    "ps.get_dimension(\"param_chem_pot(b)\").value = -19.9"
   ]
  },
  {
   "cell_type": "markdown",
   "metadata": {},
   "source": [
    "You can request slices of data, from a single data file (temperature is the parameter contained in the individual files):"
   ]
  },
  {
   "cell_type": "code",
   "execution_count": 10,
   "metadata": {
    "scrolled": true
   },
   "outputs": [
    {
     "data": {
      "text/plain": [
       "<matplotlib.legend.Legend at 0x243d3076f10>"
      ]
     },
     "execution_count": 10,
     "metadata": {},
     "output_type": "execute_result"
    },
    {
     "data": {
      "image/png": "[encoded data removed]",
      "text/plain": [
       "<Figure size 432x288 with 1 Axes>"
      ]
     },
     "metadata": {
      "needs_background": "light"
     },
     "output_type": "display_data"
    }
   ],
   "source": [
    "#dp.debug = True\n",
    "ps.get_dimension(\"param_chem_pot(a)\").value = 3.8\n",
    "plot(ps.get_parameter(\"temperature\").values, dp.get_slice(\"<formation_energy>\", \"temperature\"))\n",
    "ps.get_parameter(\"param_chem_pot(a)\").value = 3.9\n",
    "plot(ps.get_parameter(\"temperature\").values, dp.get_slice(\"<formation_energy>\", \"temperature\"))\n",
    "legend(ps.get_dimension(\"param_chem_pot(a)\").values)"
   ]
  },
  {
   "cell_type": "code",
   "execution_count": 11,
   "metadata": {},
   "outputs": [
    {
     "data": {
      "text/plain": [
       "(279, 279)"
      ]
     },
     "execution_count": 11,
     "metadata": {},
     "output_type": "execute_result"
    }
   ],
   "source": [
    "len(dp.get_slice(\"<formation_energy>\", \"temperature\")), len(ps.get_parameter('temperature').values)"
   ]
  },
  {
   "cell_type": "markdown",
   "metadata": {},
   "source": [
    "Or you can request slices that take a single value from a number of results file, when the requested slicing dimension is a dimension that affects the current path:"
   ]
  },
  {
   "cell_type": "code",
   "execution_count": 12,
   "metadata": {},
   "outputs": [
    {
     "data": {
      "text/plain": [
       "array([3.8, 3.9])"
      ]
     },
     "execution_count": 12,
     "metadata": {},
     "output_type": "execute_result"
    }
   ],
   "source": [
    "ps.get_parameter(\"param_chem_pot(a)\").values"
   ]
  },
  {
   "cell_type": "code",
   "execution_count": 13,
   "metadata": {},
   "outputs": [
    {
     "data": {
      "text/plain": [
       "masked_array(data=[-20.17524, -20.17302],\n",
       "             mask=False,\n",
       "       fill_value=1e+20,\n",
       "            dtype=float32)"
      ]
     },
     "execution_count": 13,
     "metadata": {},
     "output_type": "execute_result"
    }
   ],
   "source": [
    "dp.get_slice(\"<formation_energy>\", \"param_chem_pot(a)\")"
   ]
  },
  {
   "cell_type": "code",
   "execution_count": 14,
   "metadata": {},
   "outputs": [
    {
     "data": {
      "text/plain": [
       "'A_%%param_chem_pot(a)%%B_%%param_chem_pot(b)%%'"
      ]
     },
     "execution_count": 14,
     "metadata": {},
     "output_type": "execute_result"
    }
   ],
   "source": [
    "ps._path_template"
   ]
  },
  {
   "cell_type": "code",
   "execution_count": 15,
   "metadata": {},
   "outputs": [
    {
     "data": {
      "image/png": "[encoded data removed]",
      "text/plain": [
       "<Figure size 432x288 with 1 Axes>"
      ]
     },
     "metadata": {
      "needs_background": "light"
     },
     "output_type": "display_data"
    }
   ],
   "source": [
    "temp_values = linspace(100, 2800, 10)\n",
    "\n",
    "for temp_val in temp_values:\n",
    "    ps.get_dimension(\"temperature\").value = temp_val\n",
    "    plot(ps.get_parameter(\"param_chem_pot(a)\").values, dp.get_slice(\"<formation_energy>\", \"param_chem_pot(a)\"), marker='o')\n",
    "    \n",
    "legend(temp_values);"
   ]
  },
  {
   "cell_type": "code",
   "execution_count": 16,
   "metadata": {},
   "outputs": [
    {
     "data": {
      "text/plain": [
       "(2, 2)"
      ]
     },
     "execution_count": 16,
     "metadata": {},
     "output_type": "execute_result"
    }
   ],
   "source": [
    "len(dp.get_slice(\"<formation_energy>\", \"param_chem_pot(a)\")), len(ps.get_parameter('param_chem_pot(a)').values)"
   ]
  },
  {
   "cell_type": "markdown",
   "metadata": {},
   "source": [
    "# Making parameter space from output files\n",
    "\n",
    "You can also extract parameter spaces from output files, to analyze output data, or when the input parameters are available in output data files.\n",
    "\n",
    "To do this, you must provide a root path and define a function that reads the a data file and returns a dictionary with the possible values each parameter can take according to the data file. The format should be the same provided by the ```extract_parameter_space_data``` function above."
   ]
  },
  {
   "cell_type": "code",
   "execution_count": 17,
   "metadata": {
    "scrolled": true
   },
   "outputs": [
    {
     "name": "stdout",
     "output_type": "stream",
     "text": [
      "Found more than one potential parameter in files:['Beta', 'T'] \n",
      "Using:Beta \n",
      " ** ParameterSpace 'ps'\n",
      "   -- Parameter Beta 4.144466410982 ... 580.225297537502\n",
      "   -- Parameter param_chem_pot(a) 3.8 ... 3.9\n",
      "   -- Parameter param_chem_pot(b) -19.9 ... -19.8\n",
      "\n",
      "\n"
     ]
    }
   ],
   "source": [
    "def read_func(path):\n",
    "    with open(path) as f:\n",
    "        j = json.load(f)\n",
    "    return j\n",
    "\n",
    "data_dir = r'C:\\Users\\Andres\\source\\repos\\vdv_data\\nbO_2chempot'\n",
    "ps = extract_parameter_space_from_output(data_dir, \"results.json\", read_func)\n",
    "ps.print()"
   ]
  },
  {
   "cell_type": "markdown",
   "metadata": {},
   "source": [
    "If there are two potential parameters inside the result files, the first one found will be used. You can instruct which ones to ignore using the ```ignore_params=``` argument:"
   ]
  },
  {
   "cell_type": "code",
   "execution_count": 18,
   "metadata": {},
   "outputs": [
    {
     "name": "stdout",
     "output_type": "stream",
     "text": [
      "Found more than one potential parameter in files:['Beta', 'T'] \n",
      "Using:T \n",
      " ** ParameterSpace 'ps'\n",
      "   -- Parameter T 20.0 ... 2800.0\n",
      "   -- Parameter param_chem_pot(a) 3.8 ... 3.9\n",
      "   -- Parameter param_chem_pot(b) -19.9 ... -19.8\n",
      "\n",
      "\n"
     ]
    }
   ],
   "source": [
    "ps = extract_parameter_space_from_output(data_dir, \"results.json\", read_func, ignore_params=['Beta'])\n",
    "ps.print()"
   ]
  },
  {
   "cell_type": "markdown",
   "metadata": {},
   "source": [
    "## Creating Datapools from output "
   ]
  },
  {
   "cell_type": "markdown",
   "metadata": {},
   "source": [
    "You can create a data pool directly from results using ```create_datapool_from_output()```. This function outputs the datapool and parameter space extracted from the data files."
   ]
  },
  {
   "cell_type": "code",
   "execution_count": 19,
   "metadata": {},
   "outputs": [
    {
     "name": "stdout",
     "output_type": "stream",
     "text": [
      "Found more than one potential parameter in files:['Beta', 'T'] \n",
      "Using:T \n"
     ]
    }
   ],
   "source": [
    "dp,ps = create_datapool_from_output(data_dir, \"results.json\", read_func, ignore_params=['Beta'])"
   ]
  },
  {
   "cell_type": "code",
   "execution_count": 20,
   "metadata": {},
   "outputs": [
    {
     "data": {
      "text/plain": [
       "(-19.9,\n",
       " [-19.9, -19.9, -19.8, -19.8],\n",
       " ['C:\\\\Users\\\\Andres\\\\source\\\\repos\\\\vdv_data\\\\nbO_2chempot\\\\A_3.8B_-19.9',\n",
       "  'C:\\\\Users\\\\Andres\\\\source\\\\repos\\\\vdv_data\\\\nbO_2chempot\\\\A_3.9B_-19.9',\n",
       "  'C:\\\\Users\\\\Andres\\\\source\\\\repos\\\\vdv_data\\\\nbO_2chempot\\\\A_3.8B_-19.8',\n",
       "  'C:\\\\Users\\\\Andres\\\\source\\\\repos\\\\vdv_data\\\\nbO_2chempot\\\\A_3.9B_-19.8'],\n",
       " 2)"
      ]
     },
     "execution_count": 20,
     "metadata": {},
     "output_type": "execute_result"
    }
   ],
   "source": [
    "ps.get_parameter(\"param_chem_pot(b)\").value, ps.get_parameter(\"param_chem_pot(b)\").values, ps.get_parameter(\"param_chem_pot(b)\").ids, ps.get_parameter(\"param_chem_pot(b)\").get_space_stride()"
   ]
  },
  {
   "cell_type": "code",
   "execution_count": 21,
   "metadata": {},
   "outputs": [
    {
     "data": {
      "text/plain": [
       "['<atom_frac(Nb)>',\n",
       " '<atom_frac(O)>',\n",
       " '<comp(a)>',\n",
       " '<comp(b)>',\n",
       " '<comp_n(Nb)>',\n",
       " '<comp_n(O)>',\n",
       " '<comp_n(Va)>',\n",
       " '<formation_energy>',\n",
       " '<potential_energy>',\n",
       " '<site_frac(Nb)>',\n",
       " '<site_frac(O)>',\n",
       " '<site_frac(Va)>',\n",
       " 'Beta',\n",
       " 'N_avg_samples',\n",
       " 'N_equil_samples',\n",
       " 'T',\n",
       " 'heat_capacity',\n",
       " 'is_converged',\n",
       " 'is_equilibrated',\n",
       " 'param_chem_pot(a)',\n",
       " 'param_chem_pot(b)',\n",
       " 'prec(<atom_frac(Nb)>)',\n",
       " 'prec(<atom_frac(O)>)',\n",
       " 'prec(<comp(a)>)',\n",
       " 'prec(<comp(b)>)',\n",
       " 'prec(<comp_n(Nb)>)',\n",
       " 'prec(<comp_n(O)>)',\n",
       " 'prec(<comp_n(Va)>)',\n",
       " 'prec(<formation_energy>)',\n",
       " 'prec(<potential_energy>)',\n",
       " 'prec(<site_frac(Nb)>)',\n",
       " 'prec(<site_frac(O)>)',\n",
       " 'prec(<site_frac(Va)>)',\n",
       " 'susc_n(Nb,Nb)',\n",
       " 'susc_n(Nb,O)',\n",
       " 'susc_n(Nb,Va)',\n",
       " 'susc_n(O,O)',\n",
       " 'susc_n(S,Nb)',\n",
       " 'susc_n(S,O)',\n",
       " 'susc_n(S,Va)',\n",
       " 'susc_n(Va,O)',\n",
       " 'susc_n(Va,Va)',\n",
       " 'susc_x(S,a)',\n",
       " 'susc_x(S,b)',\n",
       " 'susc_x(a,a)',\n",
       " 'susc_x(a,b)',\n",
       " 'susc_x(b,b)']"
      ]
     },
     "execution_count": 21,
     "metadata": {},
     "output_type": "execute_result"
    }
   ],
   "source": [
    "dp.list_fields()"
   ]
  },
  {
   "cell_type": "code",
   "execution_count": 22,
   "metadata": {},
   "outputs": [],
   "source": [
    "ps = dp.get_parameter_space()"
   ]
  },
  {
   "cell_type": "code",
   "execution_count": 23,
   "metadata": {},
   "outputs": [
    {
     "data": {
      "text/plain": [
       "'C:\\\\Users\\\\Andres\\\\source\\\\repos\\\\vdv_data\\\\nbO_2chempot\\\\A_3.8B_-19.9'"
      ]
     },
     "execution_count": 23,
     "metadata": {},
     "output_type": "execute_result"
    }
   ],
   "source": [
    "ps.get_current_relative_path()"
   ]
  },
  {
   "cell_type": "code",
   "execution_count": 24,
   "metadata": {},
   "outputs": [
    {
     "data": {
      "text/plain": [
       "''"
      ]
     },
     "execution_count": 24,
     "metadata": {},
     "output_type": "execute_result"
    }
   ],
   "source": [
    "ps.get_root_path()"
   ]
  },
  {
   "cell_type": "code",
   "execution_count": 25,
   "metadata": {},
   "outputs": [
    {
     "data": {
      "image/png": "[encoded data removed]",
      "text/plain": [
       "<Figure size 432x288 with 1 Axes>"
      ]
     },
     "metadata": {
      "needs_background": "light"
     },
     "output_type": "display_data"
    }
   ],
   "source": [
    "#dp.debug = True\n",
    "plot(ps.get_parameter(\"T\").get_values(), dp.get_slice(\"<formation_energy>\", \"T\"));"
   ]
  },
  {
   "cell_type": "code",
   "execution_count": 26,
   "metadata": {
    "scrolled": true
   },
   "outputs": [
    {
     "data": {
      "text/plain": [
       "[3.8, 3.8, 3.9, 3.9]"
      ]
     },
     "execution_count": 26,
     "metadata": {},
     "output_type": "execute_result"
    }
   ],
   "source": [
    "ps.get_parameter(\"param_chem_pot(a)\").ids\n",
    "ps.get_current_relative_path()\n",
    "ps.is_filesystem_dimension(\"param_chem_pot(a)\")\n",
    "ps.get_parameter(\"param_chem_pot(a)\").values"
   ]
  },
  {
   "cell_type": "code",
   "execution_count": 27,
   "metadata": {},
   "outputs": [
    {
     "data": {
      "text/plain": [
       "'C:\\\\Users\\\\Andres\\\\source\\\\repos\\\\vdv_data\\\\nbO_2chempot\\\\A_3.8B_-19.9'"
      ]
     },
     "execution_count": 27,
     "metadata": {},
     "output_type": "execute_result"
    }
   ],
   "source": [
    "ps.get_common_id([ps.get_parameter(\"param_chem_pot(a)\"),ps.get_parameter(\"param_chem_pot(b)\")], {'T': 0, 'param_chem_pot(a)': 0, 'param_chem_pot(b)': 0})"
   ]
  },
  {
   "cell_type": "code",
   "execution_count": 28,
   "metadata": {},
   "outputs": [
    {
     "data": {
      "text/plain": [
       "True"
      ]
     },
     "execution_count": 28,
     "metadata": {},
     "output_type": "execute_result"
    }
   ],
   "source": [
    "ps.is_filesystem_dimension('param_chem_pot(a)')"
   ]
  },
  {
   "cell_type": "code",
   "execution_count": 29,
   "metadata": {},
   "outputs": [
    {
     "data": {
      "text/plain": [
       "'C:\\\\Users\\\\Andres\\\\source\\\\repos\\\\vdv_data\\\\nbO_2chempot\\\\A_3.9B_-19.9'"
      ]
     },
     "execution_count": 29,
     "metadata": {},
     "output_type": "execute_result"
    }
   ],
   "source": [
    "ps.resolve_template(ps._path_template, {'T': 0, 'param_chem_pot(a)': 3, 'param_chem_pot(b)': 0})"
   ]
  },
  {
   "cell_type": "code",
   "execution_count": 30,
   "metadata": {
    "scrolled": true
   },
   "outputs": [
    {
     "data": {
      "text/plain": [
       "masked_array(data=[580.2253, 580.2253],\n",
       "             mask=False,\n",
       "       fill_value=1e+20,\n",
       "            dtype=float32)"
      ]
     },
     "execution_count": 30,
     "metadata": {},
     "output_type": "execute_result"
    }
   ],
   "source": [
    "dp.get_slice(\"Beta\", \"param_chem_pot(a)\")"
   ]
  },
  {
   "cell_type": "code",
   "execution_count": 31,
   "metadata": {},
   "outputs": [
    {
     "data": {
      "text/plain": [
       "{3.8, 3.9}"
      ]
     },
     "execution_count": 31,
     "metadata": {},
     "output_type": "execute_result"
    }
   ],
   "source": [
    "set(ps.get_parameter(\"param_chem_pot(a)\").values)"
   ]
  },
  {
   "cell_type": "code",
   "execution_count": 32,
   "metadata": {},
   "outputs": [
    {
     "data": {
      "text/plain": [
       "[<matplotlib.lines.Line2D at 0x243d53ae430>]"
      ]
     },
     "execution_count": 32,
     "metadata": {},
     "output_type": "execute_result"
    },
    {
     "data": {
      "image/png": "[encoded data removed]",
      "text/plain": [
       "<Figure size 432x288 with 1 Axes>"
      ]
     },
     "metadata": {
      "needs_background": "light"
     },
     "output_type": "display_data"
    }
   ],
   "source": [
    "plot(ps.get_parameter(\"param_chem_pot(a)\").get_values(), dp.get_slice(\"Beta\", \"param_chem_pot(a)\"), marker='o')"
   ]
  },
  {
   "cell_type": "code",
   "execution_count": null,
   "metadata": {},
   "outputs": [],
   "source": []
  },
  {
   "cell_type": "code",
   "execution_count": null,
   "metadata": {},
   "outputs": [],
   "source": []
  },
  {
   "cell_type": "code",
   "execution_count": null,
   "metadata": {},
   "outputs": [],
   "source": []
  },
  {
   "cell_type": "markdown",
   "metadata": {},
   "source": [
    "TODO... Ignore below..."
   ]
  },
  {
   "cell_type": "code",
   "execution_count": 33,
   "metadata": {},
   "outputs": [
    {
     "ename": "NameError",
     "evalue": "name 'sub_dirs' is not defined",
     "output_type": "error",
     "traceback": [
      "\u001b[1;31m---------------------------------------------------------------------------\u001b[0m",
      "\u001b[1;31mNameError\u001b[0m                                 Traceback (most recent call last)",
      "\u001b[1;32m<ipython-input-33-cce89322f4a8>\u001b[0m in \u001b[0;36m<module>\u001b[1;34m\u001b[0m\n\u001b[0;32m      2\u001b[0m \u001b[1;33m\u001b[0m\u001b[0m\n\u001b[0;32m      3\u001b[0m \u001b[0mps_filename\u001b[0m \u001b[1;33m=\u001b[0m \u001b[1;34m\"parameter_space.nc\"\u001b[0m\u001b[1;33m\u001b[0m\u001b[1;33m\u001b[0m\u001b[0m\n\u001b[1;32m----> 4\u001b[1;33m \u001b[0msub_dir\u001b[0m \u001b[1;33m=\u001b[0m \u001b[0msub_dirs\u001b[0m\u001b[1;33m[\u001b[0m\u001b[1;36m0\u001b[0m\u001b[1;33m]\u001b[0m\u001b[1;33m\u001b[0m\u001b[1;33m\u001b[0m\u001b[0m\n\u001b[0m\u001b[0;32m      5\u001b[0m \u001b[0mfull_path\u001b[0m \u001b[1;33m=\u001b[0m \u001b[0mdata_dir\u001b[0m \u001b[1;33m+\u001b[0m \u001b[0msubdir\u001b[0m \u001b[1;33m+\u001b[0m \u001b[0mps_filename\u001b[0m\u001b[1;33m\u001b[0m\u001b[1;33m\u001b[0m\u001b[0m\n\u001b[0;32m      6\u001b[0m \u001b[0mps_file\u001b[0m \u001b[1;33m=\u001b[0m \u001b[0mnetCDF4\u001b[0m\u001b[1;33m.\u001b[0m\u001b[0mDataset\u001b[0m\u001b[1;33m(\u001b[0m\u001b[0mfull_path\u001b[0m\u001b[1;33m,\u001b[0m \u001b[1;34m\"w\"\u001b[0m\u001b[1;33m,\u001b[0m \u001b[0mformat\u001b[0m\u001b[1;33m=\u001b[0m\u001b[1;34m\"NETCDF4\"\u001b[0m\u001b[1;33m)\u001b[0m\u001b[1;33m\u001b[0m\u001b[1;33m\u001b[0m\u001b[0m\n",
      "\u001b[1;31mNameError\u001b[0m: name 'sub_dirs' is not defined"
     ]
    }
   ],
   "source": [
    "import netCDF4\n",
    "\n",
    "ps_filename = \"parameter_space.nc\"\n",
    "sub_dir = sub_dirs[0]\n",
    "full_path = data_dir + subdir + ps_filename\n",
    "ps_file = netCDF4.Dataset(full_path, \"w\", format=\"NETCDF4\")\n",
    "\n",
    "params = ps_file.createGroup(\"internal_parameters\")\n",
    "mapped_params = ps_file.createGroup(\"mapped_parameters\")\n",
    "index_params = ps_file.createGroup(\"index_parameters\")\n",
    "\n",
    "for param_name, space in param_space.items():\n",
    "    param_group = rootgrp.createVariable(\"values\",\"f8\",(\"internal_parameters\",))\n",
    "    mapped_group = rootgrp.createVariable(\"values\",\"f8\",(\"mapped_parameters\",))\n",
    "    mapped_var_ids = rootgrp.createVariable(\"ids\",\"s\",(\"mapped_parameters\",))\n",
    "    index_group = rootgrp.createVariable(\"values\",\"f8\",(\"index_parameters\",))\n",
    "\n",
    "\n",
    "param_var = rootgrp.createVariable(\"values\",\"f8\",(\"internal_parameters\",))\n",
    "mapped_var = rootgrp.createVariable(\"values\",\"f8\",(\"mapped_parameters\",))\n",
    "mapped_var_ids = rootgrp.createVariable(\"ids\",\"s\",(\"mapped_parameters\",))\n",
    "index_params = rootgrp.createVariable(\"values\",\"f8\",(\"index_parameters\",))\n",
    "\n",
    "ps_file.close()"
   ]
  },
  {
   "cell_type": "code",
   "execution_count": null,
   "metadata": {},
   "outputs": [],
   "source": []
  },
  {
   "cell_type": "code",
   "execution_count": null,
   "metadata": {},
   "outputs": [],
   "source": []
  },
  {
   "cell_type": "markdown",
   "metadata": {},
   "source": [
    "Testing single filesystem parameter:"
   ]
  },
  {
   "cell_type": "code",
   "execution_count": null,
   "metadata": {},
   "outputs": [],
   "source": [
    "data_dir = r'C:\\Users\\Andres\\source\\repos\\vdv_data\\MonteCarlo_0'\n",
    "dp,ps = create_datapool_from_output(data_dir, \"results.json\", ignore_params=[\"Beta\"] )\n",
    "ps = dp.get_parameter_space()\n",
    "ps.print()"
   ]
  },
  {
   "cell_type": "code",
   "execution_count": null,
   "metadata": {},
   "outputs": [],
   "source": [
    "ps._path_template"
   ]
  },
  {
   "cell_type": "code",
   "execution_count": null,
   "metadata": {},
   "outputs": [],
   "source": [
    "ps.get_current_relative_path()"
   ]
  },
  {
   "cell_type": "code",
   "execution_count": null,
   "metadata": {},
   "outputs": [],
   "source": [
    "dp.list_fields()"
   ]
  },
  {
   "cell_type": "code",
   "execution_count": null,
   "metadata": {},
   "outputs": [],
   "source": [
    "dp.get_slice(\"<formation_energy>\", \"T\")"
   ]
  },
  {
   "cell_type": "code",
   "execution_count": null,
   "metadata": {},
   "outputs": [],
   "source": [
    "dp.get_slice(\"<formation_energy>\", \"param_chem_pot(a)\")"
   ]
  },
  {
   "cell_type": "code",
   "execution_count": null,
   "metadata": {},
   "outputs": [],
   "source": [
    "ps.is_filesystem_dimension(\"T\")"
   ]
  },
  {
   "cell_type": "code",
   "execution_count": null,
   "metadata": {},
   "outputs": [],
   "source": []
  }
 ],
 "metadata": {
  "kernelspec": {
   "display_name": "Python 3",
   "language": "python",
   "name": "python3"
  },
  "language_info": {
   "codemirror_mode": {
    "name": "ipython",
    "version": 3
   },
   "file_extension": ".py",
   "mimetype": "text/x-python",
   "name": "python",
   "nbconvert_exporter": "python",
   "pygments_lexer": "ipython3",
   "version": "3.8.3"
  }
 },
 "nbformat": 4,
 "nbformat_minor": 4
}
