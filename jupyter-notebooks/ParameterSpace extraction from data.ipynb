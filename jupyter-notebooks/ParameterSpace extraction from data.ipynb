{
 "cells": [
  {
   "cell_type": "code",
   "execution_count": 1,
   "metadata": {},
   "outputs": [],
   "source": [
    "from tinc import *"
   ]
  },
  {
   "cell_type": "code",
   "execution_count": 2,
   "metadata": {},
   "outputs": [
    {
     "data": {
      "text/plain": [
       "{'param_chem_pot(a)': {'space': array([3.8, 3.9])},\n",
       " 'param_chem_pot(b)': {'space': array([-19.9, -19.8])},\n",
       " 'temperature': {'space': array([  20.,   30.,   40.,   50.,   60.,   70.,   80.,   90.,  100.,\n",
       "          110.,  120.,  130.,  140.,  150.,  160.,  170.,  180.,  190.,\n",
       "          200.,  210.,  220.,  230.,  240.,  250.,  260.,  270.,  280.,\n",
       "          290.,  300.,  310.,  320.,  330.,  340.,  350.,  360.,  370.,\n",
       "          380.,  390.,  400.,  410.,  420.,  430.,  440.,  450.,  460.,\n",
       "          470.,  480.,  490.,  500.,  510.,  520.,  530.,  540.,  550.,\n",
       "          560.,  570.,  580.,  590.,  600.,  610.,  620.,  630.,  640.,\n",
       "          650.,  660.,  670.,  680.,  690.,  700.,  710.,  720.,  730.,\n",
       "          740.,  750.,  760.,  770.,  780.,  790.,  800.,  810.,  820.,\n",
       "          830.,  840.,  850.,  860.,  870.,  880.,  890.,  900.,  910.,\n",
       "          920.,  930.,  940.,  950.,  960.,  970.,  980.,  990., 1000.,\n",
       "         1010., 1020., 1030., 1040., 1050., 1060., 1070., 1080., 1090.,\n",
       "         1100., 1110., 1120., 1130., 1140., 1150., 1160., 1170., 1180.,\n",
       "         1190., 1200., 1210., 1220., 1230., 1240., 1250., 1260., 1270.,\n",
       "         1280., 1290., 1300., 1310., 1320., 1330., 1340., 1350., 1360.,\n",
       "         1370., 1380., 1390., 1400., 1410., 1420., 1430., 1440., 1450.,\n",
       "         1460., 1470., 1480., 1490., 1500., 1510., 1520., 1530., 1540.,\n",
       "         1550., 1560., 1570., 1580., 1590., 1600., 1610., 1620., 1630.,\n",
       "         1640., 1650., 1660., 1670., 1680., 1690., 1700., 1710., 1720.,\n",
       "         1730., 1740., 1750., 1760., 1770., 1780., 1790., 1800., 1810.,\n",
       "         1820., 1830., 1840., 1850., 1860., 1870., 1880., 1890., 1900.,\n",
       "         1910., 1920., 1930., 1940., 1950., 1960., 1970., 1980., 1990.,\n",
       "         2000., 2010., 2020., 2030., 2040., 2050., 2060., 2070., 2080.,\n",
       "         2090., 2100., 2110., 2120., 2130., 2140., 2150., 2160., 2170.,\n",
       "         2180., 2190., 2200., 2210., 2220., 2230., 2240., 2250., 2260.,\n",
       "         2270., 2280., 2290., 2300., 2310., 2320., 2330., 2340., 2350.,\n",
       "         2360., 2370., 2380., 2390., 2400., 2410., 2420., 2430., 2440.,\n",
       "         2450., 2460., 2470., 2480., 2490., 2500., 2510., 2520., 2530.,\n",
       "         2540., 2550., 2560., 2570., 2580., 2590., 2600., 2610., 2620.,\n",
       "         2630., 2640., 2650., 2660., 2670., 2680., 2690., 2700., 2710.,\n",
       "         2720., 2730., 2740., 2750., 2760., 2770., 2780., 2790., 2800.])}}"
      ]
     },
     "execution_count": 2,
     "metadata": {},
     "output_type": "execute_result"
    }
   ],
   "source": [
    "data_dir = r'C:\\Users\\Andres\\source\\repos\\vdv_data\\nbO_2chempot'\n",
    "config_file = 'mc_settings.json'\n",
    "parameter_start_key = 'driver/initial_conditions/*'\n",
    "parameter_end_key = 'driver/final_conditions/*'\n",
    "parameter_increment_key = 'driver/incremental_conditions/*'\n",
    "\n",
    "extract_parameter_space_data(data_dir, config_file, parameter_start_key, parameter_end_key, parameter_increment_key)"
   ]
  },
  {
   "cell_type": "code",
   "execution_count": 3,
   "metadata": {},
   "outputs": [
    {
     "name": "stdout",
     "output_type": "stream",
     "text": [
      " ** ParameterSpace casmParams: <tinc.parameter_space.ParameterSpace object at 0x000001EC927BD310>\n",
      "   -- Parameter param_chem_pot(a) /param_chem_pot(a)\n",
      "   -- Parameter param_chem_pot(b) /param_chem_pot(b)\n",
      "   -- Parameter temperature /temperature\n"
     ]
    }
   ],
   "source": [
    "data_dir = r'C:\\Users\\Andres\\source\\repos\\vdv_data\\nbO_2chempot'\n",
    "config_file = 'mc_settings.json'\n",
    "parameter_start_key = 'driver/initial_conditions/*'\n",
    "parameter_end_key = 'driver/final_conditions/*'\n",
    "parameter_increment_key = 'driver/incremental_conditions/*'\n",
    "\n",
    "ps = make_parameter_space(data_dir, config_file, parameter_start_key, parameter_end_key, parameter_increment_key, ps_name=\"casmParams\")\n",
    "\n",
    "ps.set_current_path_template(\"A_%%param_chem_pot(a)%%B_%%param_chem_pot(b)%%\")\n",
    "ps.print()"
   ]
  },
  {
   "cell_type": "code",
   "execution_count": 4,
   "metadata": {},
   "outputs": [],
   "source": [
    "dp = DataPoolJson(\"results\", ps, \"slice_dir\")\n",
    "dp.register_data_file(\"results.json\", \"temperature\")"
   ]
  },
  {
   "cell_type": "code",
   "execution_count": 5,
   "metadata": {},
   "outputs": [
    {
     "data": {
      "text/plain": [
       "['C:\\\\Users\\\\Andres\\\\source\\\\repos\\\\vdv_data\\\\nbO_2chempot\\\\A_3.8B_-19.8\\\\results.json']"
      ]
     },
     "execution_count": 5,
     "metadata": {},
     "output_type": "execute_result"
    }
   ],
   "source": [
    "dp.get_current_files()"
   ]
  },
  {
   "cell_type": "code",
   "execution_count": 6,
   "metadata": {},
   "outputs": [
    {
     "data": {
      "text/plain": [
       "'A_3.8B_-19.8'"
      ]
     },
     "execution_count": 6,
     "metadata": {},
     "output_type": "execute_result"
    }
   ],
   "source": [
    "ps.get_current_relative_path()"
   ]
  },
  {
   "cell_type": "code",
   "execution_count": 7,
   "metadata": {},
   "outputs": [
    {
     "data": {
      "text/plain": [
       "['<atom_frac(Nb)>',\n",
       " '<atom_frac(O)>',\n",
       " '<comp(a)>',\n",
       " '<comp(b)>',\n",
       " '<comp_n(Nb)>',\n",
       " '<comp_n(O)>',\n",
       " '<comp_n(Va)>',\n",
       " '<formation_energy>',\n",
       " '<potential_energy>',\n",
       " '<site_frac(Nb)>',\n",
       " '<site_frac(O)>',\n",
       " '<site_frac(Va)>',\n",
       " 'Beta',\n",
       " 'N_avg_samples',\n",
       " 'N_equil_samples',\n",
       " 'T',\n",
       " 'heat_capacity',\n",
       " 'is_converged',\n",
       " 'is_equilibrated',\n",
       " 'param_chem_pot(a)',\n",
       " 'param_chem_pot(b)',\n",
       " 'prec(<atom_frac(Nb)>)',\n",
       " 'prec(<atom_frac(O)>)',\n",
       " 'prec(<comp(a)>)',\n",
       " 'prec(<comp(b)>)',\n",
       " 'prec(<comp_n(Nb)>)',\n",
       " 'prec(<comp_n(O)>)',\n",
       " 'prec(<comp_n(Va)>)',\n",
       " 'prec(<formation_energy>)',\n",
       " 'prec(<potential_energy>)',\n",
       " 'prec(<site_frac(Nb)>)',\n",
       " 'prec(<site_frac(O)>)',\n",
       " 'prec(<site_frac(Va)>)',\n",
       " 'susc_n(Nb,Nb)',\n",
       " 'susc_n(Nb,O)',\n",
       " 'susc_n(Nb,Va)',\n",
       " 'susc_n(O,O)',\n",
       " 'susc_n(S,Nb)',\n",
       " 'susc_n(S,O)',\n",
       " 'susc_n(S,Va)',\n",
       " 'susc_n(Va,O)',\n",
       " 'susc_n(Va,Va)',\n",
       " 'susc_x(S,a)',\n",
       " 'susc_x(S,b)',\n",
       " 'susc_x(a,a)',\n",
       " 'susc_x(a,b)',\n",
       " 'susc_x(b,b)']"
      ]
     },
     "execution_count": 7,
     "metadata": {},
     "output_type": "execute_result"
    }
   ],
   "source": [
    "dp.list_fields()"
   ]
  },
  {
   "cell_type": "code",
   "execution_count": 8,
   "metadata": {},
   "outputs": [],
   "source": [
    "ps.get_dimension(\"param_chem_pot(a)\").value = 3.9"
   ]
  },
  {
   "cell_type": "code",
   "execution_count": 9,
   "metadata": {
    "scrolled": true
   },
   "outputs": [
    {
     "data": {
      "text/plain": [
       "masked_array(data=[-20.115568, -20.115568, -20.115568, -20.115568,\n",
       "                   -20.115568, -20.115568, -20.115568, -20.115568,\n",
       "                   -20.115568, -20.115568, -20.115568, -20.115568,\n",
       "                   -20.115568, -20.115568, -20.115568, -20.115568,\n",
       "                   -20.115568, -20.115568, -20.115568, -20.115568,\n",
       "                   -20.115568, -20.115568, -20.115568, -20.115568,\n",
       "                   -20.115568, -20.115568, -20.115568, -20.115568,\n",
       "                   -20.115568, -20.115568, -20.115568, -20.115568,\n",
       "                   -20.115568, -20.115568, -20.115568, -20.115568,\n",
       "                   -20.115568, -20.115568, -20.115568, -20.115568,\n",
       "                   -20.115568, -20.115568, -20.115576, -20.11559 ,\n",
       "                   -20.115597, -20.115618, -20.11561 , -20.115568,\n",
       "                   -20.115623, -20.115692, -20.115662, -20.1156  ,\n",
       "                   -20.115719, -20.11563 , -20.115742, -20.11576 ,\n",
       "                   -20.115826, -20.11572 , -20.115856, -20.115757,\n",
       "                   -20.115822, -20.115927, -20.116032, -20.116148,\n",
       "                   -20.116205, -20.116148, -20.116264, -20.116425,\n",
       "                   -20.116734, -20.11674 , -20.116997, -20.116919,\n",
       "                   -20.11724 , -20.117516, -20.11805 , -20.117884,\n",
       "                   -20.118084, -20.11809 , -20.11855 , -20.118834,\n",
       "                   -20.119541, -20.119118, -20.119   , -20.119802,\n",
       "                   -20.12069 , -20.120626, -20.121298, -20.12168 ,\n",
       "                   -20.121584, -20.122393, -20.12307 , -20.12368 ,\n",
       "                   -20.123924, -20.12447 , -20.12568 , -20.125664,\n",
       "                   -20.126541, -20.127209, -20.1283  , -20.128044,\n",
       "                   -20.129547, -20.129473, -20.130255, -20.131536,\n",
       "                   -20.13179 , -20.133078, -20.133263, -20.13479 ,\n",
       "                   -20.135748, -20.136293, -20.137655, -20.138239,\n",
       "                   -20.139366, -20.140211, -20.141533, -20.142065,\n",
       "                   -20.143507, -20.144722, -20.145397, -20.146942,\n",
       "                   -20.14781 , -20.14951 , -20.15047 , -20.151882,\n",
       "                   -20.152245, -20.153776, -20.15581 , -20.157166,\n",
       "                   -20.157413, -20.158516, -20.15987 , -20.16109 ,\n",
       "                   -20.162954, -20.163183, -20.165052, -20.168062,\n",
       "                   -20.167673, -20.16975 , -20.170788, -20.172894,\n",
       "                   -20.173346, -20.17534 , -20.177109, -20.177753,\n",
       "                   -20.178453, -20.18131 , -20.183073, -20.18365 ,\n",
       "                   -20.185163, -20.187061, -20.18919 , -20.190874,\n",
       "                   -20.192278, -20.194254, -20.19485 , -20.195889,\n",
       "                   -20.196611, -20.197691, -20.200743, -20.201654,\n",
       "                   -20.204727, -20.205853, -20.20705 , -20.206656,\n",
       "                   -20.209808, -20.212635, -20.213396, -20.214956,\n",
       "                   -20.218258, -20.217566, -20.219776, -20.220955,\n",
       "                   -20.221325, -20.223997, -20.226387, -20.227234,\n",
       "                   -20.227581, -20.228754, -20.231825, -20.231487,\n",
       "                   -20.234257, -20.235655, -20.23567 , -20.238659,\n",
       "                   -20.240963, -20.241798, -20.243153, -20.244331,\n",
       "                   -20.245646, -20.248789, -20.249432, -20.25123 ,\n",
       "                   -20.251236, -20.254166, -20.253767, -20.257704,\n",
       "                   -20.257566, -20.259157, -20.259773, -20.262772,\n",
       "                   -20.262846, -20.265759, -20.266611, -20.267538,\n",
       "                   -20.267742, -20.27044 , -20.270493, -20.271788,\n",
       "                   -20.274239, -20.274918, -20.276453, -20.278778,\n",
       "                   -20.279842, -20.28072 , -20.283459, -20.286137,\n",
       "                   -20.284647, -20.286238, -20.28504 , -20.289045,\n",
       "                   -20.28827 , -20.291498, -20.29374 , -20.29125 ,\n",
       "                   -20.29406 , -20.295002, -20.295046, -20.297577,\n",
       "                   -20.298016, -20.300457, -20.300337, -20.306505,\n",
       "                   -20.302727, -20.304396, -20.305153, -20.304914,\n",
       "                   -20.307098, -20.308397, -20.30679 , -20.311401,\n",
       "                   -20.311266, -20.312233, -20.312464, -20.313843,\n",
       "                   -20.315924, -20.315643, -20.319489, -20.319946,\n",
       "                   -20.319456, -20.319983, -20.322222, -20.323336,\n",
       "                   -20.31933 , -20.324184, -20.324041, -20.32461 ,\n",
       "                   -20.325516, -20.326965, -20.329153, -20.324335,\n",
       "                   -20.327091, -20.331734, -20.33056 , -20.330536,\n",
       "                   -20.334972, -20.333036, -20.33468 , -20.3329  ,\n",
       "                   -20.33524 , -20.335894, -20.337587, -20.336718,\n",
       "                   -20.3404  , -20.339994, -20.338772, -20.339766,\n",
       "                   -20.341022, -20.342436, -20.34405 ],\n",
       "             mask=False,\n",
       "       fill_value=1e+20,\n",
       "            dtype=float32)"
      ]
     },
     "execution_count": 9,
     "metadata": {},
     "output_type": "execute_result"
    }
   ],
   "source": [
    "#dp.debug = True\n",
    "dp.get_slice(\"<formation_energy>\", \"temperature\")"
   ]
  },
  {
   "cell_type": "code",
   "execution_count": 10,
   "metadata": {},
   "outputs": [
    {
     "data": {
      "text/plain": [
       "(279, 279)"
      ]
     },
     "execution_count": 10,
     "metadata": {},
     "output_type": "execute_result"
    }
   ],
   "source": [
    "len(dp.get_slice(\"<formation_energy>\", \"temperature\")), len(ps.get_parameter('temperature').values)"
   ]
  },
  {
   "cell_type": "code",
   "execution_count": 11,
   "metadata": {},
   "outputs": [
    {
     "data": {
      "text/plain": [
       "masked_array(data=[-20.115568, -20.115568],\n",
       "             mask=False,\n",
       "       fill_value=1e+20,\n",
       "            dtype=float32)"
      ]
     },
     "execution_count": 11,
     "metadata": {},
     "output_type": "execute_result"
    }
   ],
   "source": [
    "dp.get_slice(\"<formation_energy>\", \"param_chem_pot(a)\")"
   ]
  },
  {
   "cell_type": "code",
   "execution_count": 12,
   "metadata": {},
   "outputs": [
    {
     "data": {
      "text/plain": [
       "(2, 2)"
      ]
     },
     "execution_count": 12,
     "metadata": {},
     "output_type": "execute_result"
    }
   ],
   "source": [
    "len(dp.get_slice(\"<formation_energy>\", \"param_chem_pot(a)\")), len(ps.get_parameter('param_chem_pot(a)').values)"
   ]
  },
  {
   "cell_type": "code",
   "execution_count": null,
   "metadata": {},
   "outputs": [],
   "source": []
  },
  {
   "cell_type": "code",
   "execution_count": null,
   "metadata": {},
   "outputs": [],
   "source": []
  },
  {
   "cell_type": "code",
   "execution_count": 13,
   "metadata": {},
   "outputs": [
    {
     "ename": "NameError",
     "evalue": "name 'sub_dirs' is not defined",
     "output_type": "error",
     "traceback": [
      "\u001b[1;31m---------------------------------------------------------------------------\u001b[0m",
      "\u001b[1;31mNameError\u001b[0m                                 Traceback (most recent call last)",
      "\u001b[1;32m<ipython-input-13-cce89322f4a8>\u001b[0m in \u001b[0;36m<module>\u001b[1;34m\u001b[0m\n\u001b[0;32m      2\u001b[0m \u001b[1;33m\u001b[0m\u001b[0m\n\u001b[0;32m      3\u001b[0m \u001b[0mps_filename\u001b[0m \u001b[1;33m=\u001b[0m \u001b[1;34m\"parameter_space.nc\"\u001b[0m\u001b[1;33m\u001b[0m\u001b[1;33m\u001b[0m\u001b[0m\n\u001b[1;32m----> 4\u001b[1;33m \u001b[0msub_dir\u001b[0m \u001b[1;33m=\u001b[0m \u001b[0msub_dirs\u001b[0m\u001b[1;33m[\u001b[0m\u001b[1;36m0\u001b[0m\u001b[1;33m]\u001b[0m\u001b[1;33m\u001b[0m\u001b[1;33m\u001b[0m\u001b[0m\n\u001b[0m\u001b[0;32m      5\u001b[0m \u001b[0mfull_path\u001b[0m \u001b[1;33m=\u001b[0m \u001b[0mdata_dir\u001b[0m \u001b[1;33m+\u001b[0m \u001b[0msubdir\u001b[0m \u001b[1;33m+\u001b[0m \u001b[0mps_filename\u001b[0m\u001b[1;33m\u001b[0m\u001b[1;33m\u001b[0m\u001b[0m\n\u001b[0;32m      6\u001b[0m \u001b[0mps_file\u001b[0m \u001b[1;33m=\u001b[0m \u001b[0mnetCDF4\u001b[0m\u001b[1;33m.\u001b[0m\u001b[0mDataset\u001b[0m\u001b[1;33m(\u001b[0m\u001b[0mfull_path\u001b[0m\u001b[1;33m,\u001b[0m \u001b[1;34m\"w\"\u001b[0m\u001b[1;33m,\u001b[0m \u001b[0mformat\u001b[0m\u001b[1;33m=\u001b[0m\u001b[1;34m\"NETCDF4\"\u001b[0m\u001b[1;33m)\u001b[0m\u001b[1;33m\u001b[0m\u001b[1;33m\u001b[0m\u001b[0m\n",
      "\u001b[1;31mNameError\u001b[0m: name 'sub_dirs' is not defined"
     ]
    }
   ],
   "source": [
    "import netCDF4\n",
    "\n",
    "ps_filename = \"parameter_space.nc\"\n",
    "sub_dir = sub_dirs[0]\n",
    "full_path = data_dir + subdir + ps_filename\n",
    "ps_file = netCDF4.Dataset(full_path, \"w\", format=\"NETCDF4\")\n",
    "\n",
    "params = ps_file.createGroup(\"internal_parameters\")\n",
    "mapped_params = ps_file.createGroup(\"mapped_parameters\")\n",
    "index_params = ps_file.createGroup(\"index_parameters\")\n",
    "\n",
    "for param_name, space in param_space.items():\n",
    "    param_group = rootgrp.createVariable(\"values\",\"f8\",(\"internal_parameters\",))\n",
    "    mapped_group = rootgrp.createVariable(\"values\",\"f8\",(\"mapped_parameters\",))\n",
    "    mapped_var_ids = rootgrp.createVariable(\"ids\",\"s\",(\"mapped_parameters\",))\n",
    "    index_group = rootgrp.createVariable(\"values\",\"f8\",(\"index_parameters\",))\n",
    "\n",
    "\n",
    "param_var = rootgrp.createVariable(\"values\",\"f8\",(\"internal_parameters\",))\n",
    "mapped_var = rootgrp.createVariable(\"values\",\"f8\",(\"mapped_parameters\",))\n",
    "mapped_var_ids = rootgrp.createVariable(\"ids\",\"s\",(\"mapped_parameters\",))\n",
    "index_params = rootgrp.createVariable(\"values\",\"f8\",(\"index_parameters\",))\n",
    "\n",
    "ps_file.close()"
   ]
  },
  {
   "cell_type": "code",
   "execution_count": null,
   "metadata": {},
   "outputs": [],
   "source": []
  },
  {
   "cell_type": "code",
   "execution_count": null,
   "metadata": {},
   "outputs": [],
   "source": []
  },
  {
   "cell_type": "code",
   "execution_count": null,
   "metadata": {},
   "outputs": [],
   "source": []
  }
 ],
 "metadata": {
  "kernelspec": {
   "display_name": "Python 3",
   "language": "python",
   "name": "python3"
  },
  "language_info": {
   "codemirror_mode": {
    "name": "ipython",
    "version": 3
   },
   "file_extension": ".py",
   "mimetype": "text/x-python",
   "name": "python",
   "nbconvert_exporter": "python",
   "pygments_lexer": "ipython3",
   "version": "3.8.3"
  }
 },
 "nbformat": 4,
 "nbformat_minor": 4
}
