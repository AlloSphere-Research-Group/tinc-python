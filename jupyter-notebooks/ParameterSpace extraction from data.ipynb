{
 "cells": [
  {
   "cell_type": "markdown",
   "metadata": {},
   "source": [
    "This notebook shows the functions provided by TINC to create parameter spaces and data pools from configuration and output files. There are two methods:\n",
    "\n",
    "  * Using the output data\n",
    "  * Using configuration files\n",
    "  \n",
    "Using the output can be very convenient as you can create a DataPool automatically to explore the data, but there are cases where you might need to extract the parameter space from configuration files instead, in cases where the parameters are not present in the output data."
   ]
  },
  {
   "cell_type": "code",
   "execution_count": 1,
   "metadata": {},
   "outputs": [
    {
     "name": "stdout",
     "output_type": "stream",
     "text": [
      "Populating the interactive namespace from numpy and matplotlib\n"
     ]
    },
    {
     "name": "stderr",
     "output_type": "stream",
     "text": [
      "C:\\Users\\Andres\\anaconda3\\lib\\site-packages\\IPython\\core\\magics\\pylab.py:159: UserWarning: pylab import has clobbered these variables: ['interactive', 'unique']\n",
      "`%matplotlib` prevents importing * from pylab and numpy\n",
      "  warn(\"pylab import has clobbered these variables: %s\"  % clobbered +\n"
     ]
    }
   ],
   "source": [
    "from tinc import *\n",
    "%pylab inline"
   ]
  },
  {
   "cell_type": "markdown",
   "metadata": {},
   "source": [
    "## tl;dr Create datapools from output\n",
    "\n",
    "You can create a data pool directly from results using ```create_datapool_from_output()```. This function returns the datapool and parameter space extracted from the data files."
   ]
  },
  {
   "cell_type": "code",
   "execution_count": 2,
   "metadata": {},
   "outputs": [
    {
     "name": "stdout",
     "output_type": "stream",
     "text": [
      "Found more than one potential parameter in files:['Beta', 'T'] \n",
      "Using:T \n"
     ]
    },
    {
     "data": {
      "image/png": "[encoded data removed]",
      "text/plain": [
       "<Figure size 864x288 with 2 Axes>"
      ]
     },
     "metadata": {
      "needs_background": "light"
     },
     "output_type": "display_data"
    }
   ],
   "source": [
    "data_dir = r'C:\\Users\\Andres\\source\\repos\\vdv_data\\nbO_2chempot'\n",
    "dp,ps  = create_datapool_from_output(data_dir, \"results.json\", ignore_params=['Beta'], debug = False)\n",
    "\n",
    "figure(figsize=(12,4))\n",
    "subplot(1,2, 1)\n",
    "xlabel(\"T\")\n",
    "ps.get_dimension(\"param_chem_pot(a)\").value = 3.8\n",
    "plot(ps.get_parameter(\"T\").values, dp.get_slice(\"<formation_energy>\", \"T\"))\n",
    "ps.get_parameter(\"param_chem_pot(a)\").value = 3.9\n",
    "plot(ps.get_parameter(\"T\").values, dp.get_slice(\"<formation_energy>\", \"T\"))\n",
    "legend([3.8, 3.9])\n",
    "\n",
    "subplot(1,2, 2)\n",
    "xlabel(\"param_chem_pot(a)\")\n",
    "temp_values = linspace(100, 2800, 5)\n",
    "\n",
    "for temp_val in temp_values:\n",
    "    ps.get_dimension(\"T\").value = temp_val\n",
    "    plot(ps.get_parameter(\"param_chem_pot(a)\").get_values(), dp.get_slice(\"<formation_energy>\", \"param_chem_pot(a)\"), marker='o')\n",
    "    \n",
    "legend(temp_values);\n"
   ]
  },
  {
   "cell_type": "markdown",
   "metadata": {},
   "source": [
    "# Extracting from configuration files\n",
    "\n",
    "To extract a parameter space from configuration files, you must provide a data root directory and the name of the configuration file that can be found in subdirectories. This assumes all configuration file names are the same.\n",
    "\n",
    "You will also need to describe how to extract the information from the configuration files. This is done by specifying the keys where the parameter data is found. For example if the configuration files look like:\n",
    "\n",
    "```json\n",
    "{\n",
    "  \"driver\" : {\n",
    "    \"mode\" : \"incremental\", \n",
    "    \"motif\" : {\n",
    "      \"configname\" : \"restricted_auto\",\n",
    "      \"_configname\" : \"SCEL1_1_1_1_0_0_0/0\",\n",
    "      \"_configdof\" : \"$HOME/laptop_share/NbO_rocksalt_gs/mc_runs/fit_13.02/coarse_grid/set2_cooling_grid2/A_3.9B_-19.1/conditions.298/tto/final_state.json\"\n",
    "    },\n",
    "    \"initial_conditions\" : {\n",
    "      \"param_chem_pot\" : {\n",
    "        \"a\" : 3.90,\n",
    "        \"b\" : -19.80\n",
    "      },\n",
    "      \"temperature\" : 20.0,\n",
    "      \"tolerance\" : 0.001\n",
    "    },\n",
    "    \"final_conditions\" : {\n",
    "      \"param_chem_pot\" : {\n",
    "        \"a\" : 3.90,\n",
    "        \"b\" : -19.80\n",
    "      },\n",
    "      \"temperature\" :2800.0,\n",
    "      \"tolerance\" : 0.001\n",
    "    },\n",
    "    \"incremental_conditions\" : {\n",
    "      \"param_chem_pot\" : {\n",
    "        \"a\" : 0.0,\n",
    "        \"b\" : 0.0\n",
    "      },\n",
    "      \"temperature\" : 10.0,\n",
    "      \"tolerance\" : 0.001\n",
    "    }\n",
    "  }\n",
    "}\n",
    "\n",
    "```\n",
    "\n",
    "You specify the starting value key as: ```driver/initial_conditions/*``` because the starting values are a list within the \"driver\" and \" initial_conditions\" keys. A similar string needs to be constructed for end and increment keys.\n",
    "\n",
    "\n",
    "Current limitations:\n",
    "  * JSON only\n",
    "  * space must be described by its boundaries and the incremement\n",
    "  * Limited format to describe how to extract the information. Currently values must be leaf nodes."
   ]
  },
  {
   "cell_type": "markdown",
   "metadata": {},
   "source": [
    "## Extracting parameter space values\n",
    "\n",
    "The function ```extract_parameter_space_data``` will extract the parameter values as a dictionary. This can be useful as a initial step to ensure values are being extracted correctly."
   ]
  },
  {
   "cell_type": "code",
   "execution_count": 3,
   "metadata": {},
   "outputs": [
    {
     "ename": "TypeError",
     "evalue": "append() takes no keyword arguments",
     "output_type": "error",
     "traceback": [
      "\u001b[1;31m---------------------------------------------------------------------------\u001b[0m",
      "\u001b[1;31mTypeError\u001b[0m                                 Traceback (most recent call last)",
      "\u001b[1;32m<ipython-input-3-361b504589c6>\u001b[0m in \u001b[0;36m<module>\u001b[1;34m\u001b[0m\n\u001b[0;32m      5\u001b[0m \u001b[0mparameter_increment_key\u001b[0m \u001b[1;33m=\u001b[0m \u001b[1;34m'driver/incremental_conditions/*'\u001b[0m\u001b[1;33m\u001b[0m\u001b[1;33m\u001b[0m\u001b[0m\n\u001b[0;32m      6\u001b[0m \u001b[1;33m\u001b[0m\u001b[0m\n\u001b[1;32m----> 7\u001b[1;33m \u001b[0mextract_parameter_space_data\u001b[0m\u001b[1;33m(\u001b[0m\u001b[0mdata_dir\u001b[0m\u001b[1;33m,\u001b[0m \u001b[0mconfig_file\u001b[0m\u001b[1;33m,\u001b[0m \u001b[0mparameter_start_key\u001b[0m\u001b[1;33m,\u001b[0m \u001b[0mparameter_end_key\u001b[0m\u001b[1;33m,\u001b[0m \u001b[0mparameter_increment_key\u001b[0m\u001b[1;33m)\u001b[0m\u001b[1;33m\u001b[0m\u001b[1;33m\u001b[0m\u001b[0m\n\u001b[0m",
      "\u001b[1;32m~\\anaconda3\\lib\\site-packages\\tinc\\parameter_space_tools.py\u001b[0m in \u001b[0;36mextract_parameter_space_data\u001b[1;34m(data_dir, config_file, parameter_start_key, parameter_end_key, parameter_increment_key, debug)\u001b[0m\n\u001b[0;32m     27\u001b[0m     \u001b[0mall_spaces\u001b[0m \u001b[1;33m=\u001b[0m \u001b[1;33m[\u001b[0m\u001b[1;33m]\u001b[0m\u001b[1;33m\u001b[0m\u001b[1;33m\u001b[0m\u001b[0m\n\u001b[0;32m     28\u001b[0m     \u001b[1;32mfor\u001b[0m \u001b[0msub_dir\u001b[0m \u001b[1;32min\u001b[0m \u001b[0msub_dirs\u001b[0m\u001b[1;33m:\u001b[0m\u001b[1;33m\u001b[0m\u001b[1;33m\u001b[0m\u001b[0m\n\u001b[1;32m---> 29\u001b[1;33m         all_spaces.append(\n\u001b[0m\u001b[0;32m     30\u001b[0m             _tinc_extract_parameters(sub_dir + '/' + config_file, parameter_start_key, parameter_end_key, parameter_increment_key), debug = debug)\n\u001b[0;32m     31\u001b[0m     \u001b[1;32mreturn\u001b[0m \u001b[0m_tinc_merge_spaces\u001b[0m\u001b[1;33m(\u001b[0m\u001b[0mall_spaces\u001b[0m\u001b[1;33m)\u001b[0m\u001b[1;33m\u001b[0m\u001b[1;33m\u001b[0m\u001b[0m\n",
      "\u001b[1;31mTypeError\u001b[0m: append() takes no keyword arguments"
     ]
    }
   ],
   "source": [
    "data_dir = r'C:\\Users\\Andres\\source\\repos\\vdv_data\\nbO_2chempot'\n",
    "config_file = 'mc_settings.json'\n",
    "parameter_start_key = 'driver/initial_conditions/*'\n",
    "parameter_end_key = 'driver/final_conditions/*'\n",
    "parameter_increment_key = 'driver/incremental_conditions/*'\n",
    "\n",
    "extract_parameter_space_data(data_dir, config_file, parameter_start_key, parameter_end_key, parameter_increment_key)"
   ]
  },
  {
   "cell_type": "markdown",
   "metadata": {},
   "source": [
    "## Creating parameter spaces\n",
    "\n",
    "The ```make_parameter_space``` function returns a fully created parameter space from the configuration files. The only remaining step to perform to make the parameter space usable is to set the path template using ```set_current_path_template```. This template describes how the parameter values map to the filesystem."
   ]
  },
  {
   "cell_type": "code",
   "execution_count": null,
   "metadata": {},
   "outputs": [],
   "source": [
    "data_dir = r'C:\\Users\\Andres\\source\\repos\\vdv_data\\nbO_2chempot'\n",
    "config_file = 'mc_settings.json'\n",
    "parameter_start_key = 'driver/initial_conditions/*'\n",
    "parameter_end_key = 'driver/final_conditions/*'\n",
    "parameter_increment_key = 'driver/incremental_conditions/*'\n",
    "\n",
    "ps = make_parameter_space(data_dir, config_file, parameter_start_key, parameter_end_key, parameter_increment_key, ps_name=\"casmParams\")\n",
    "\n",
    "ps.set_current_path_template(\"A_%%param_chem_pot(a)%%B_%%param_chem_pot(b)%%\")\n",
    "ps.print()"
   ]
  },
  {
   "cell_type": "markdown",
   "metadata": {},
   "source": [
    "## Data pools for the new parameter space\n",
    "\n",
    "Once the parameter space has been extracted, a DataPool can be created to access the data across all the directories. After creating the data pool, you need to register the files that contain the data, in this case, the \"results.json\" file spans the temperature parameter. These data files must be located in the path defined through ```set_current_path_template()``` above."
   ]
  },
  {
   "cell_type": "code",
   "execution_count": null,
   "metadata": {},
   "outputs": [],
   "source": [
    "dp = DataPoolJson(\"results\", ps, \"slice_dir\")\n",
    "dp.register_data_file(\"results.json\", \"temperature\")"
   ]
  },
  {
   "cell_type": "code",
   "execution_count": null,
   "metadata": {},
   "outputs": [],
   "source": [
    "dp.get_current_files()"
   ]
  },
  {
   "cell_type": "code",
   "execution_count": null,
   "metadata": {},
   "outputs": [],
   "source": [
    "ps.get_current_relative_path()"
   ]
  },
  {
   "cell_type": "markdown",
   "metadata": {},
   "source": [
    "You can query the fields available in the data files:"
   ]
  },
  {
   "cell_type": "code",
   "execution_count": null,
   "metadata": {},
   "outputs": [],
   "source": [
    "dp.list_fields()"
   ]
  },
  {
   "cell_type": "code",
   "execution_count": null,
   "metadata": {},
   "outputs": [],
   "source": [
    "ps.get_dimension(\"temperature\").value = 1500\n",
    "ps.get_dimension(\"param_chem_pot(b)\").value = -19.9"
   ]
  },
  {
   "cell_type": "markdown",
   "metadata": {},
   "source": [
    "You can request slices of data, from a single data file (temperature is the parameter contained in the individual files):"
   ]
  },
  {
   "cell_type": "code",
   "execution_count": null,
   "metadata": {
    "scrolled": true
   },
   "outputs": [],
   "source": [
    "#dp.debug = True\n",
    "ps.get_dimension(\"param_chem_pot(a)\").value = 3.8\n",
    "plot(ps.get_parameter(\"temperature\").values, dp.get_slice(\"<formation_energy>\", \"temperature\"))\n",
    "ps.get_parameter(\"param_chem_pot(a)\").value = 3.9\n",
    "plot(ps.get_parameter(\"temperature\").values, dp.get_slice(\"<formation_energy>\", \"temperature\"))\n",
    "legend(ps.get_dimension(\"param_chem_pot(a)\").values)"
   ]
  },
  {
   "cell_type": "code",
   "execution_count": null,
   "metadata": {},
   "outputs": [],
   "source": [
    "len(dp.get_slice(\"<formation_energy>\", \"temperature\")), len(ps.get_parameter('temperature').values)"
   ]
  },
  {
   "cell_type": "markdown",
   "metadata": {},
   "source": [
    "Or you can request slices that take a single value from a number of results file, when the requested slicing dimension is a dimension that affects the current path:"
   ]
  },
  {
   "cell_type": "code",
   "execution_count": null,
   "metadata": {},
   "outputs": [],
   "source": [
    "ps.get_parameter(\"param_chem_pot(a)\").values"
   ]
  },
  {
   "cell_type": "code",
   "execution_count": null,
   "metadata": {},
   "outputs": [],
   "source": [
    "dp.get_slice(\"<formation_energy>\", \"param_chem_pot(a)\")"
   ]
  },
  {
   "cell_type": "code",
   "execution_count": null,
   "metadata": {},
   "outputs": [],
   "source": [
    "ps._path_template"
   ]
  },
  {
   "cell_type": "code",
   "execution_count": null,
   "metadata": {},
   "outputs": [],
   "source": [
    "temp_values = linspace(100, 2800, 10)\n",
    "\n",
    "for temp_val in temp_values:\n",
    "    ps.get_dimension(\"temperature\").value = temp_val\n",
    "    plot(ps.get_parameter(\"param_chem_pot(a)\").values, dp.get_slice(\"<formation_energy>\", \"param_chem_pot(a)\"), marker='o')\n",
    "    \n",
    "legend(temp_values);"
   ]
  },
  {
   "cell_type": "code",
   "execution_count": null,
   "metadata": {},
   "outputs": [],
   "source": [
    "len(dp.get_slice(\"<formation_energy>\", \"param_chem_pot(a)\")), len(ps.get_parameter('param_chem_pot(a)').values)"
   ]
  },
  {
   "cell_type": "markdown",
   "metadata": {},
   "source": [
    "# Making parameter space from output files\n",
    "\n",
    "You can also extract parameter spaces from output files, to analyze output data, or when the input parameters are available in output data files.\n",
    "\n",
    "To do this, you must provide a root path and define a function that reads the a data file and returns a dictionary with the possible values each parameter can take according to the data file. The format should be the same provided by the ```extract_parameter_space_data``` function above."
   ]
  },
  {
   "cell_type": "code",
   "execution_count": null,
   "metadata": {
    "scrolled": true
   },
   "outputs": [],
   "source": [
    "def read_func(path):\n",
    "    with open(path) as f:\n",
    "        j = json.load(f)\n",
    "    return j\n",
    "\n",
    "data_dir = r'C:\\Users\\Andres\\source\\repos\\vdv_data\\nbO_2chempot'\n",
    "ps = extract_parameter_space_from_output(data_dir, \"results.json\", read_func)\n",
    "ps.print()"
   ]
  },
  {
   "cell_type": "markdown",
   "metadata": {},
   "source": [
    "If there are two potential parameters inside the result files, the first one found will be used. You can instruct which ones to ignore using the ```ignore_params=``` argument:"
   ]
  },
  {
   "cell_type": "code",
   "execution_count": null,
   "metadata": {},
   "outputs": [],
   "source": [
    "ps = extract_parameter_space_from_output(data_dir, \"results.json\", read_func, ignore_params=['Beta'])\n",
    "ps.print()"
   ]
  },
  {
   "cell_type": "markdown",
   "metadata": {},
   "source": [
    "## Creating Datapools from output "
   ]
  },
  {
   "cell_type": "markdown",
   "metadata": {},
   "source": [
    "You can create a data pool directly from results using ```create_datapool_from_output()```. This function outputs the datapool and parameter space extracted from the data files."
   ]
  },
  {
   "cell_type": "code",
   "execution_count": null,
   "metadata": {},
   "outputs": [],
   "source": [
    "dp,ps = create_datapool_from_output(data_dir, \"results.json\", read_func, ignore_params=['Beta'])"
   ]
  },
  {
   "cell_type": "code",
   "execution_count": null,
   "metadata": {},
   "outputs": [],
   "source": [
    "ps.get_parameter(\"param_chem_pot(b)\").value, ps.get_parameter(\"param_chem_pot(b)\").values, ps.get_parameter(\"param_chem_pot(b)\").ids, ps.get_parameter(\"param_chem_pot(b)\").get_space_stride()"
   ]
  },
  {
   "cell_type": "code",
   "execution_count": null,
   "metadata": {},
   "outputs": [],
   "source": [
    "dp.list_fields()"
   ]
  },
  {
   "cell_type": "code",
   "execution_count": null,
   "metadata": {},
   "outputs": [],
   "source": [
    "ps = dp.get_parameter_space()"
   ]
  },
  {
   "cell_type": "code",
   "execution_count": null,
   "metadata": {},
   "outputs": [],
   "source": [
    "ps.get_current_relative_path()"
   ]
  },
  {
   "cell_type": "code",
   "execution_count": null,
   "metadata": {},
   "outputs": [],
   "source": [
    "ps.get_root_path()"
   ]
  },
  {
   "cell_type": "code",
   "execution_count": null,
   "metadata": {},
   "outputs": [],
   "source": [
    "#dp.debug = True\n",
    "plot(ps.get_parameter(\"T\").get_values(), dp.get_slice(\"<formation_energy>\", \"T\"));"
   ]
  },
  {
   "cell_type": "code",
   "execution_count": null,
   "metadata": {
    "scrolled": true
   },
   "outputs": [],
   "source": [
    "ps.get_parameter(\"param_chem_pot(a)\").ids\n",
    "ps.get_current_relative_path()\n",
    "ps.is_filesystem_dimension(\"param_chem_pot(a)\")\n",
    "ps.get_parameter(\"param_chem_pot(a)\").values"
   ]
  },
  {
   "cell_type": "code",
   "execution_count": null,
   "metadata": {},
   "outputs": [],
   "source": [
    "ps.get_common_id([ps.get_parameter(\"param_chem_pot(a)\"),ps.get_parameter(\"param_chem_pot(b)\")], {'T': 0, 'param_chem_pot(a)': 0, 'param_chem_pot(b)': 0})"
   ]
  },
  {
   "cell_type": "code",
   "execution_count": null,
   "metadata": {},
   "outputs": [],
   "source": [
    "ps.is_filesystem_dimension('param_chem_pot(a)')"
   ]
  },
  {
   "cell_type": "code",
   "execution_count": null,
   "metadata": {},
   "outputs": [],
   "source": [
    "ps.resolve_template(ps._path_template, {'T': 0, 'param_chem_pot(a)': 3, 'param_chem_pot(b)': 0})"
   ]
  },
  {
   "cell_type": "code",
   "execution_count": null,
   "metadata": {
    "scrolled": true
   },
   "outputs": [],
   "source": [
    "dp.get_slice(\"Beta\", \"param_chem_pot(a)\")"
   ]
  },
  {
   "cell_type": "code",
   "execution_count": null,
   "metadata": {},
   "outputs": [],
   "source": [
    "set(ps.get_parameter(\"param_chem_pot(a)\").values)"
   ]
  },
  {
   "cell_type": "code",
   "execution_count": null,
   "metadata": {},
   "outputs": [],
   "source": [
    "plot(ps.get_parameter(\"param_chem_pot(a)\").get_values(), dp.get_slice(\"Beta\", \"param_chem_pot(a)\"), marker='o')"
   ]
  },
  {
   "cell_type": "code",
   "execution_count": null,
   "metadata": {},
   "outputs": [],
   "source": []
  },
  {
   "cell_type": "code",
   "execution_count": null,
   "metadata": {},
   "outputs": [],
   "source": []
  },
  {
   "cell_type": "code",
   "execution_count": null,
   "metadata": {},
   "outputs": [],
   "source": []
  },
  {
   "cell_type": "markdown",
   "metadata": {},
   "source": [
    "TODO... Ignore below..."
   ]
  },
  {
   "cell_type": "code",
   "execution_count": null,
   "metadata": {},
   "outputs": [],
   "source": [
    "import netCDF4\n",
    "\n",
    "ps_filename = \"parameter_space.nc\"\n",
    "sub_dir = sub_dirs[0]\n",
    "full_path = data_dir + subdir + ps_filename\n",
    "ps_file = netCDF4.Dataset(full_path, \"w\", format=\"NETCDF4\")\n",
    "\n",
    "params = ps_file.createGroup(\"internal_parameters\")\n",
    "mapped_params = ps_file.createGroup(\"mapped_parameters\")\n",
    "index_params = ps_file.createGroup(\"index_parameters\")\n",
    "\n",
    "for param_name, space in param_space.items():\n",
    "    param_group = rootgrp.createVariable(\"values\",\"f8\",(\"internal_parameters\",))\n",
    "    mapped_group = rootgrp.createVariable(\"values\",\"f8\",(\"mapped_parameters\",))\n",
    "    mapped_var_ids = rootgrp.createVariable(\"ids\",\"s\",(\"mapped_parameters\",))\n",
    "    index_group = rootgrp.createVariable(\"values\",\"f8\",(\"index_parameters\",))\n",
    "\n",
    "\n",
    "param_var = rootgrp.createVariable(\"values\",\"f8\",(\"internal_parameters\",))\n",
    "mapped_var = rootgrp.createVariable(\"values\",\"f8\",(\"mapped_parameters\",))\n",
    "mapped_var_ids = rootgrp.createVariable(\"ids\",\"s\",(\"mapped_parameters\",))\n",
    "index_params = rootgrp.createVariable(\"values\",\"f8\",(\"index_parameters\",))\n",
    "\n",
    "ps_file.close()"
   ]
  },
  {
   "cell_type": "code",
   "execution_count": null,
   "metadata": {},
   "outputs": [],
   "source": []
  },
  {
   "cell_type": "code",
   "execution_count": null,
   "metadata": {},
   "outputs": [],
   "source": []
  },
  {
   "cell_type": "markdown",
   "metadata": {},
   "source": [
    "Testing single filesystem parameter:"
   ]
  },
  {
   "cell_type": "code",
   "execution_count": null,
   "metadata": {},
   "outputs": [],
   "source": [
    "data_dir = r'C:\\Users\\Andres\\source\\repos\\vdv_data\\MonteCarlo_0'\n",
    "dp,ps = create_datapool_from_output(data_dir, \"results.json\", ignore_params=[\"Beta\"] )\n",
    "ps = dp.get_parameter_space()\n",
    "ps.print()"
   ]
  },
  {
   "cell_type": "code",
   "execution_count": null,
   "metadata": {},
   "outputs": [],
   "source": [
    "ps._path_template"
   ]
  },
  {
   "cell_type": "code",
   "execution_count": null,
   "metadata": {},
   "outputs": [],
   "source": [
    "ps.get_current_relative_path()"
   ]
  },
  {
   "cell_type": "code",
   "execution_count": null,
   "metadata": {},
   "outputs": [],
   "source": [
    "dp.list_fields()"
   ]
  },
  {
   "cell_type": "code",
   "execution_count": null,
   "metadata": {},
   "outputs": [],
   "source": [
    "dp.get_slice(\"<formation_energy>\", \"T\")"
   ]
  },
  {
   "cell_type": "code",
   "execution_count": null,
   "metadata": {},
   "outputs": [],
   "source": [
    "dp.get_slice(\"<formation_energy>\", \"param_chem_pot(a)\")"
   ]
  },
  {
   "cell_type": "code",
   "execution_count": null,
   "metadata": {},
   "outputs": [],
   "source": [
    "ps.is_filesystem_dimension(\"T\")"
   ]
  },
  {
   "cell_type": "code",
   "execution_count": null,
   "metadata": {},
   "outputs": [],
   "source": []
  }
 ],
 "metadata": {
  "kernelspec": {
   "display_name": "Python 3",
   "language": "python",
   "name": "python3"
  },
  "language_info": {
   "codemirror_mode": {
    "name": "ipython",
    "version": 3
   },
   "file_extension": ".py",
   "mimetype": "text/x-python",
   "name": "python",
   "nbconvert_exporter": "python",
   "pygments_lexer": "ipython3",
   "version": "3.8.3"
  }
 },
 "nbformat": 4,
 "nbformat_minor": 4
}
