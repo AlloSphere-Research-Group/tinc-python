{
 "cells": [
  {
   "cell_type": "code",
   "execution_count": null,
   "metadata": {},
   "outputs": [],
   "source": [
    "#Install with: pip install PySimpleGUI\n",
    "import PySimpleGUI as sg"
   ]
  },
  {
   "cell_type": "markdown",
   "metadata": {},
   "source": [
    "This notebook shows how to connect TINC to an external GUI toolkit, in this case PySimpleGUI"
   ]
  },
  {
   "cell_type": "code",
   "execution_count": null,
   "metadata": {},
   "outputs": [],
   "source": [
    "# Not needed if tinc-python is installed\n",
    "import sys\n",
    "sys.path.append('../tinc-python')\n",
    "from tinc_client import TincClient"
   ]
  },
  {
   "cell_type": "code",
   "execution_count": null,
   "metadata": {},
   "outputs": [],
   "source": [
    "from parameter import *"
   ]
  },
  {
   "cell_type": "markdown",
   "metadata": {},
   "source": [
    "Create 2 parameters for input and output"
   ]
  },
  {
   "cell_type": "code",
   "execution_count": null,
   "metadata": {},
   "outputs": [],
   "source": [
    "in_param = Parameter(\"input\")\n",
    "out_param = Parameter(\"output\")"
   ]
  },
  {
   "cell_type": "markdown",
   "metadata": {},
   "source": [
    "Create the layout for the window:"
   ]
  },
  {
   "cell_type": "code",
   "execution_count": null,
   "metadata": {},
   "outputs": [],
   "source": [
    "layout = [[sg.Slider(range=(1,500),\n",
    "         default_value=222,\n",
    "         enable_events = True,\n",
    "         size=(20,15),\n",
    "         orientation='horizontal',\n",
    "         font=('Helvetica', 12)),\n",
    "         sg.Slider(range=(1,5000),\n",
    "         default_value=222,\n",
    "         enable_events = True,\n",
    "         size=(20,15),\n",
    "         orientation='horizontal',\n",
    "         font=('Helvetica', 12))],\n",
    "         [sg.Button('Trigger',size=(20,4))],\n",
    "         [sg.Text(\"Hello\", size=(70,2))]]"
   ]
  },
  {
   "cell_type": "markdown",
   "metadata": {},
   "source": [
    "Define and register a function that will be used as callback for input. This sets the output parameter to twice the value of the input:"
   ]
  },
  {
   "cell_type": "code",
   "execution_count": null,
   "metadata": {},
   "outputs": [],
   "source": [
    "def compute(value):\n",
    "    out_param.value = value= value*2"
   ]
  },
  {
   "cell_type": "code",
   "execution_count": null,
   "metadata": {},
   "outputs": [],
   "source": [
    "in_param.register_callback(compute)"
   ]
  },
  {
   "cell_type": "markdown",
   "metadata": {},
   "source": [
    "Create a Trigger parameter with a callback function to connect to the button:"
   ]
  },
  {
   "cell_type": "code",
   "execution_count": null,
   "metadata": {},
   "outputs": [],
   "source": [
    "def updateGUI(value):\n",
    "    layout[0][1].Update(value=value)\n",
    "    layout[2][0].Update(\"Slider moved\")"
   ]
  },
  {
   "cell_type": "code",
   "execution_count": null,
   "metadata": {},
   "outputs": [],
   "source": [
    "out_param.register_callback(updateGUI)"
   ]
  },
  {
   "cell_type": "code",
   "execution_count": null,
   "metadata": {},
   "outputs": [],
   "source": [
    "trigger = Trigger(\"trigger\")\n",
    "def trigger_compute(value):\n",
    "    layout[2][0].Update(\"Triggered\")\n",
    "\n",
    "trigger.register_callback(trigger_compute)"
   ]
  },
  {
   "cell_type": "markdown",
   "metadata": {},
   "source": [
    "Create window and run event loop:"
   ]
  },
  {
   "cell_type": "code",
   "execution_count": null,
   "metadata": {},
   "outputs": [],
   "source": [
    "# Create the window\n",
    "window = sg.Window(\"Demo\", layout)\n",
    "\n",
    "# Create an event loop\n",
    "while True:\n",
    "    event, values = window.read()\n",
    "    # End program if user closes window or\n",
    "    # presses the OK button\n",
    "    if event == 0:\n",
    "        in_param.value = values[0]    \n",
    "    elif event == \"Trigger\":\n",
    "        trigger.trigger()\n",
    "    elif event == \"OK\" or event == sg.WIN_CLOSED:\n",
    "        break\n",
    "\n",
    "window.close()"
   ]
  }
 ],
 "metadata": {
  "kernelspec": {
   "display_name": "Python 3",
   "language": "python",
   "name": "python3"
  },
  "language_info": {
   "codemirror_mode": {
    "name": "ipython",
    "version": 3
   },
   "file_extension": ".py",
   "mimetype": "text/x-python",
   "name": "python",
   "nbconvert_exporter": "python",
   "pygments_lexer": "ipython3",
   "version": "3.8.3"
  }
 },
 "nbformat": 4,
 "nbformat_minor": 4
}
