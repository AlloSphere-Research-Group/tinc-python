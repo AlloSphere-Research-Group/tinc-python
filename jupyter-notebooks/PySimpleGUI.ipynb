{
 "cells": [
  {
   "cell_type": "code",
   "execution_count": null,
   "metadata": {},
   "outputs": [],
   "source": [
    "#Install with: pip install PySimpleGUI\n",
    "import PySimpleGUI as sg"
   ]
  },
  {
   "cell_type": "markdown",
   "metadata": {},
   "source": [
    "This notebook shows how to connect TINC to an external GUI toolkit, in this case PySimpleGUI"
   ]
  },
  {
   "cell_type": "code",
   "execution_count": null,
   "metadata": {},
   "outputs": [],
   "source": [
    "from tinc import *"
   ]
  },
  {
   "cell_type": "markdown",
   "metadata": {},
   "source": [
    "Create 2 parameters for input and output"
   ]
  },
  {
   "cell_type": "code",
   "execution_count": null,
   "metadata": {},
   "outputs": [],
   "source": [
    "in_param = Parameter(\"input\")\n",
    "out_param = Parameter(\"output\")"
   ]
  },
  {
   "cell_type": "markdown",
   "metadata": {},
   "source": [
    "Create the layout for the window:"
   ]
  },
  {
   "cell_type": "code",
   "execution_count": null,
   "metadata": {},
   "outputs": [],
   "source": [
    "layout = [[sg.Slider(range=(1,500),\n",
    "         default_value=222,\n",
    "         enable_events = True,\n",
    "         size=(20,15),\n",
    "         orientation='horizontal',\n",
    "         font=('Helvetica', 12)),\n",
    "         sg.Slider(range=(1,5000),\n",
    "         default_value=222,\n",
    "         enable_events = True,\n",
    "         size=(20,15),\n",
    "         orientation='horizontal',\n",
    "         font=('Helvetica', 12))],\n",
    "         [sg.Button('Trigger',size=(20,4))],\n",
    "         [sg.Text(\"Hello\", size=(70,2))]]"
   ]
  },
  {
   "cell_type": "markdown",
   "metadata": {},
   "source": [
    "Define and register a function that will be used as callback for input. This sets the output parameter to twice the value of the input:"
   ]
  },
  {
   "cell_type": "code",
   "execution_count": null,
   "metadata": {},
   "outputs": [],
   "source": [
    "def compute(value):\n",
    "    out_param.value = value*2"
   ]
  },
  {
   "cell_type": "code",
   "execution_count": null,
   "metadata": {},
   "outputs": [],
   "source": [
    "in_param.register_callback(compute)"
   ]
  },
  {
   "cell_type": "markdown",
   "metadata": {},
   "source": [
    "Create a Trigger parameter with a callback function to connect to the button:"
   ]
  },
  {
   "cell_type": "code",
   "execution_count": null,
   "metadata": {},
   "outputs": [],
   "source": [
    "def updateGUI(value):\n",
    "    layout[0][1].Update(value=value)\n",
    "    layout[2][0].Update(\"Slider moved\")"
   ]
  },
  {
   "cell_type": "code",
   "execution_count": null,
   "metadata": {},
   "outputs": [],
   "source": [
    "out_param.register_callback(updateGUI)"
   ]
  },
  {
   "cell_type": "code",
   "execution_count": null,
   "metadata": {},
   "outputs": [],
   "source": [
    "trigger = Trigger(\"trigger\")\n",
    "def trigger_compute(value):\n",
    "    layout[2][0].Update(\"Triggered\")\n",
    "\n",
    "trigger.register_callback(trigger_compute)"
   ]
  },
  {
   "cell_type": "markdown",
   "metadata": {},
   "source": [
    "Create window and run event loop:"
   ]
  },
  {
   "cell_type": "code",
   "execution_count": null,
   "metadata": {},
   "outputs": [],
   "source": [
    "# Create the window\n",
    "window = sg.Window(\"Demo\", layout)\n",
    "\n",
    "# Create an event loop\n",
    "while True:\n",
    "    event, values = window.read()\n",
    "    # End program if user closes window or\n",
    "    # presses the OK button\n",
    "    if event == 0:\n",
    "        in_param.value = values[0]    \n",
    "    elif event == \"Trigger\":\n",
    "        trigger.trigger()\n",
    "    elif event == \"OK\" or event == sg.WIN_CLOSED:\n",
    "        break\n",
    "\n",
    "window.close()"
   ]
  },
  {
   "cell_type": "markdown",
   "metadata": {},
   "source": [
    "## Interrupting computation"
   ]
  },
  {
   "cell_type": "markdown",
   "metadata": {},
   "source": [
    "You can use a GUI to interrupt computation that would otherwise hang the python engine.\n",
    "\n",
    "In order to make a callback interruptible, it must occasionally check for a global flag that you can set to exit computation."
   ]
  },
  {
   "cell_type": "code",
   "execution_count": null,
   "metadata": {},
   "outputs": [],
   "source": [
    "import time\n",
    "interrupt = False\n",
    "def interruptible_callback(value):\n",
    "    global interrupt\n",
    "    interrupt = False\n",
    "    # Function will take around 100 seconds to complete\n",
    "    for i in range(100):\n",
    "        if interrupt:\n",
    "            print(\"Forced stop\")\n",
    "            break\n",
    "        time.sleep(1)\n",
    "        print(\"processed \", i) "
   ]
  },
  {
   "cell_type": "code",
   "execution_count": null,
   "metadata": {},
   "outputs": [],
   "source": [
    "in_param.register_callback(interruptible_callback)"
   ]
  },
  {
   "cell_type": "code",
   "execution_count": null,
   "metadata": {},
   "outputs": [],
   "source": [
    "out_param.clear_callbacks()"
   ]
  },
  {
   "cell_type": "code",
   "execution_count": null,
   "metadata": {},
   "outputs": [],
   "source": [
    "layout = [[sg.Slider(range=(1,500),\n",
    "         default_value=222,\n",
    "         enable_events = True,\n",
    "         size=(20,15),\n",
    "         orientation='horizontal',\n",
    "         font=('Helvetica', 12))],\n",
    "         [sg.Button('Interrupt',size=(20,4))]]\n",
    "\n",
    "# Create the window\n",
    "window = sg.Window(\"Interruptible compute\", layout)\n",
    "\n",
    "import threading\n",
    "\n",
    "def set_from_slider():\n",
    "    in_param.value = values[0]\n",
    "    \n",
    "# Create an event loop\n",
    "while True:\n",
    "    event, values = window.read()\n",
    "    # End program if user closes window or\n",
    "    # presses the OK button\n",
    "    if event == 0:\n",
    "        # Because the callback is will block when setting the value we can offload the callback to a \n",
    "        # separate thread.\n",
    "        # This is a similar case to receiving a change through TincClient, as the change occurs on the\n",
    "        # network thread.\n",
    "        x = threading.Thread(target=set_from_slider)\n",
    "        x.daemon = True # Have thread destroy itself when exited.\n",
    "        x.start()\n",
    "    elif event == \"Interrupt\":\n",
    "        interrupt = True\n",
    "    elif event == \"OK\" or event == sg.WIN_CLOSED:\n",
    "        break\n",
    "\n",
    "window.close()"
   ]
  },
  {
   "cell_type": "code",
   "execution_count": null,
   "metadata": {},
   "outputs": [],
   "source": [
    "window.close()"
   ]
  },
  {
   "cell_type": "code",
   "execution_count": null,
   "metadata": {},
   "outputs": [],
   "source": [
    "interrupt = True"
   ]
  },
  {
   "cell_type": "code",
   "execution_count": null,
   "metadata": {},
   "outputs": [],
   "source": []
  }
 ],
 "metadata": {
  "kernelspec": {
   "display_name": "Python 3",
   "language": "python",
   "name": "python3"
  },
  "language_info": {
   "codemirror_mode": {
    "name": "ipython",
    "version": 3
   },
   "file_extension": ".py",
   "mimetype": "text/x-python",
   "name": "python",
   "nbconvert_exporter": "python",
   "pygments_lexer": "ipython3",
   "version": "3.8.3"
  }
 },
 "nbformat": 4,
 "nbformat_minor": 4
}
