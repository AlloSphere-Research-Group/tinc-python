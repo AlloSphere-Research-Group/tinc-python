{
 "cells": [
  {
   "cell_type": "markdown",
   "metadata": {},
   "source": [
    "# Using TINC Client to interact with a C++ application"
   ]
  },
  {
   "cell_type": "markdown",
   "metadata": {},
   "source": [
    "This notebook demonstrates the use of TincClient to connect to a TincServer hosted in a C++ application. This example uses CASM viewer: https://github.com/AlloSphere-Research-Group/casm_viewer"
   ]
  },
  {
   "cell_type": "code",
   "execution_count": null,
   "metadata": {},
   "outputs": [],
   "source": [
    "from tinc import *\n",
    "TincVersion()"
   ]
  },
  {
   "cell_type": "code",
   "execution_count": null,
   "metadata": {},
   "outputs": [],
   "source": [
    "tclient = TincClient()"
   ]
  },
  {
   "cell_type": "code",
   "execution_count": null,
   "metadata": {},
   "outputs": [],
   "source": [
    "[(p.id, p.group) for p in tclient.get_parameters()]"
   ]
  },
  {
   "cell_type": "code",
   "execution_count": null,
   "metadata": {},
   "outputs": [],
   "source": [
    "time = tclient.get_parameter(\"time\")"
   ]
  },
  {
   "cell_type": "code",
   "execution_count": null,
   "metadata": {},
   "outputs": [],
   "source": [
    "time.value = 100"
   ]
  },
  {
   "cell_type": "markdown",
   "metadata": {},
   "source": [
    "Setting the value from python will alter the parameter in C++ and vice versa."
   ]
  },
  {
   "cell_type": "code",
   "execution_count": null,
   "metadata": {},
   "outputs": [],
   "source": [
    "time.value"
   ]
  },
  {
   "cell_type": "markdown",
   "metadata": {},
   "source": [
    "Changes van trigger any computation tied to that parameter. Changes in the parameter in C++ will be forwarded to python and trigger computation"
   ]
  },
  {
   "cell_type": "code",
   "execution_count": null,
   "metadata": {},
   "outputs": [],
   "source": [
    "def time_callback(value):\n",
    "    print(f\"Time changed to {value}\")\n",
    "\n",
    "time.register_callback(time_callback)"
   ]
  },
  {
   "cell_type": "code",
   "execution_count": null,
   "metadata": {},
   "outputs": [],
   "source": [
    "time.value = 150"
   ]
  },
  {
   "cell_type": "markdown",
   "metadata": {},
   "source": [
    "TINC's caching system can be used together with these callbacks or through the ParameterSpace class."
   ]
  },
  {
   "cell_type": "markdown",
   "metadata": {},
   "source": [
    "Parameters can have more complex data than a single float value. For example, CASM viewer exposes the color of the atom marker, which can be set from python:"
   ]
  },
  {
   "cell_type": "code",
   "execution_count": null,
   "metadata": {},
   "outputs": [],
   "source": [
    "tclient.get_parameter(\"markerColor\").value = [1,0,0, 1]\n",
    "tclient.get_parameter(\"markerScale\").value = 4"
   ]
  },
  {
   "cell_type": "code",
   "execution_count": null,
   "metadata": {},
   "outputs": [],
   "source": [
    "tclient.get_parameter(\"markerColor\").value = [1,1,0, 1]\n",
    "tclient.get_parameter(\"markerScale\").value = 2"
   ]
  },
  {
   "cell_type": "markdown",
   "metadata": {},
   "source": [
    "We have used a 'ParameterChoice' to display the shell site types. A ParameterChoice is a bitfield associated with a list of strings"
   ]
  },
  {
   "cell_type": "markdown",
   "metadata": {},
   "source": [
    "# Data exchange"
   ]
  },
  {
   "cell_type": "markdown",
   "metadata": {},
   "source": [
    "Parameters values can be exchanged through the network, but it is often necessary to exchange data that is both large and complex. TINC provides DiskBuffers for this. The exchange is seamless and reactive, and there are higher level classes in TINC that handle loading and decoding of the data as well as classes that connect disk buffers to display elements. Here are two examples of these implemented in CASM viewer."
   ]
  },
  {
   "cell_type": "markdown",
   "metadata": {},
   "source": [
    "## Image disk buffer"
   ]
  },
  {
   "cell_type": "markdown",
   "metadata": {},
   "source": [
    "Image disk buffers can be used to create images in python that are displayed in the C++ application."
   ]
  },
  {
   "cell_type": "code",
   "execution_count": null,
   "metadata": {},
   "outputs": [],
   "source": [
    "[db.id for db in tclient.disk_buffers]"
   ]
  },
  {
   "cell_type": "code",
   "execution_count": null,
   "metadata": {},
   "outputs": [],
   "source": [
    "imageBuffer = tclient.get_disk_buffer('graph5')"
   ]
  },
  {
   "cell_type": "code",
   "execution_count": null,
   "metadata": {},
   "outputs": [],
   "source": [
    "import random\n",
    "import matplotlib.pyplot as plt\n",
    "import threading\n",
    "\n",
    "def write_graph(parameter_value):\n",
    "    data = [random.random() * parameter_value for i in range(10)]\n",
    "    with threading.Lock():\n",
    "        fname = imageBuffer.get_filename_for_writing()\n",
    "        f = plt.figure()\n",
    "        plt.title(\"Random numbers with range 0->\" + str(parameter_value))\n",
    "        plt.plot(data)\n",
    "        plt.savefig(fname)\n",
    "        plt.close()\n",
    "    f.clf()\n",
    "    del f\n",
    "    imageBuffer.done_writing_file(fname)"
   ]
  },
  {
   "cell_type": "code",
   "execution_count": null,
   "metadata": {},
   "outputs": [],
   "source": [
    "write_graph(15)"
   ]
  },
  {
   "cell_type": "code",
   "execution_count": null,
   "metadata": {},
   "outputs": [],
   "source": [
    "write_graph(10)"
   ]
  },
  {
   "cell_type": "markdown",
   "metadata": {},
   "source": [
    "The write_graph function can be set as a callback to the time parameter, which will update the graph when the parameter changes, effectively injecting this computation into the C++ interaction."
   ]
  },
  {
   "cell_type": "code",
   "execution_count": null,
   "metadata": {},
   "outputs": [],
   "source": [
    "time.register_callback(write_graph)"
   ]
  },
  {
   "cell_type": "code",
   "execution_count": null,
   "metadata": {},
   "outputs": [],
   "source": [
    "time.clear_callbacks()"
   ]
  },
  {
   "cell_type": "markdown",
   "metadata": {},
   "source": [
    "## Render disk buffers"
   ]
  },
  {
   "cell_type": "markdown",
   "metadata": {},
   "source": [
    "CASM viewer exposes through the TINC server a json buffer that is used to update graphical markers that can show trajectories."
   ]
  },
  {
   "cell_type": "code",
   "execution_count": null,
   "metadata": {},
   "outputs": [],
   "source": [
    "renderBuffer = tclient.get_disk_buffer('trajectory_buffer')"
   ]
  },
  {
   "cell_type": "markdown",
   "metadata": {},
   "source": [
    "This disk buffer originates in a C++ TrajectoryRender. This disk buffer uses json to describe the positions and colors of vector markers. It is one of several rendering objects that are exposed to python through disk buffers."
   ]
  },
  {
   "cell_type": "code",
   "execution_count": null,
   "metadata": {},
   "outputs": [],
   "source": [
    "pos = [[ [0.0,10, 0]], [ [0,5, 10]],[ [10,30, 0]], [ [-30, -10, 20]], [ [10, -10, 40]]]"
   ]
  },
  {
   "cell_type": "code",
   "execution_count": null,
   "metadata": {},
   "outputs": [],
   "source": [
    "def write_positions(pos):\n",
    "    import json\n",
    "    fname = renderBuffer.get_filename_for_writing()\n",
    "\n",
    "    with open(fname, 'w') as f:\n",
    "        json.dump(pos, f)\n",
    "        renderBuffer.done_writing_file(fname)"
   ]
  },
  {
   "cell_type": "code",
   "execution_count": null,
   "metadata": {},
   "outputs": [],
   "source": [
    "write_positions(pos)"
   ]
  },
  {
   "cell_type": "markdown",
   "metadata": {},
   "source": [
    "Rendering objects in TINC provide disk buffers as well as configuration options:"
   ]
  },
  {
   "cell_type": "code",
   "execution_count": null,
   "metadata": {},
   "outputs": [],
   "source": [
    "tclient.get_parameter(\"width\", \"trajectory\").value = 3.0"
   ]
  },
  {
   "cell_type": "markdown",
   "metadata": {},
   "source": [
    "# Exploring datasets"
   ]
  },
  {
   "cell_type": "markdown",
   "metadata": {},
   "source": [
    "This dataset is the result of multiple parameter sweeps, and TINC can help explore it easily by automating filesystem lookups. This can help you look up specific files that could be scattered across the filesystem. This is done through the ParameterSpace class that groups parameters as dimensions to the space."
   ]
  },
  {
   "cell_type": "code",
   "execution_count": null,
   "metadata": {},
   "outputs": [],
   "source": [
    "[ps.id for ps in tclient.parameter_spaces]"
   ]
  },
  {
   "cell_type": "code",
   "execution_count": null,
   "metadata": {},
   "outputs": [],
   "source": [
    "ps=tclient.get_parameter_space(\"casmParameters\")\n",
    "ps.get_root_path()"
   ]
  },
  {
   "cell_type": "code",
   "execution_count": null,
   "metadata": {},
   "outputs": [],
   "source": [
    "ps.get_current_realtive_path()"
   ]
  },
  {
   "cell_type": "code",
   "execution_count": null,
   "metadata": {},
   "outputs": [],
   "source": [
    "ps.get_root_path() + ps.get_current_realtive_path()"
   ]
  },
  {
   "cell_type": "code",
   "execution_count": null,
   "metadata": {},
   "outputs": [],
   "source": [
    "[(p.id, p.value) for p in ps.get_parameters()]"
   ]
  },
  {
   "cell_type": "markdown",
   "metadata": {},
   "source": [
    "Changing the values of the 'dir' parameter in C++ will be sent here and will change the path for the parameter space"
   ]
  },
  {
   "cell_type": "code",
   "execution_count": null,
   "metadata": {},
   "outputs": [],
   "source": [
    "[(p.id, p.value) for p in ps.get_parameters()]"
   ]
  },
  {
   "cell_type": "code",
   "execution_count": null,
   "metadata": {},
   "outputs": [],
   "source": [
    "ps.get_root_path() + ps.get_current_realtive_path()"
   ]
  },
  {
   "cell_type": "markdown",
   "metadata": {},
   "source": [
    "This path contains simulation results for specific parameter combinations, so you can explore the dataset across the multiple directories easily by using the sliders in C++ or programatically here in python:"
   ]
  },
  {
   "cell_type": "code",
   "execution_count": null,
   "metadata": {},
   "outputs": [],
   "source": [
    "dir_param = ps.get_parameter('dir')\n",
    "dir_param.value"
   ]
  },
  {
   "cell_type": "code",
   "execution_count": null,
   "metadata": {},
   "outputs": [],
   "source": [
    "dir_param.value = 30\n",
    "ps.get_root_path() + ps.get_current_realtive_path()"
   ]
  },
  {
   "cell_type": "markdown",
   "metadata": {},
   "source": [
    "# Dynamic GUIs"
   ]
  },
  {
   "cell_type": "markdown",
   "metadata": {},
   "source": [
    "Because you can create paramters in python as well as C++ you can dynamically create GUIs for the C++ application that trigger behavior defined in python"
   ]
  },
  {
   "cell_type": "code",
   "execution_count": null,
   "metadata": {},
   "outputs": [],
   "source": [
    "from parameter import *"
   ]
  },
  {
   "cell_type": "code",
   "execution_count": null,
   "metadata": {},
   "outputs": [],
   "source": [
    "eci1_param=tclient.create_parameter(Parameter,\\\n",
    "                                    \"tet_oct_eci\",\"casm\",-0.375,0.375,\\\n",
    "                                    [-0.375,-0.125,0.125,0.375],-0.375)"
   ]
  },
  {
   "cell_type": "code",
   "execution_count": null,
   "metadata": {},
   "outputs": [],
   "source": [
    "eci2_param=tclient.create_parameter(Parameter,\\\n",
    "                                    \"oct_tet_NN\",\"casm\",2.0,6.0,[2.0,6.0],6.0)"
   ]
  },
  {
   "cell_type": "code",
   "execution_count": null,
   "metadata": {},
   "outputs": [],
   "source": [
    "eci3_param=tclient.create_parameter(Parameter,\\\n",
    "                                    \"oct_oct_NN\",\"casm\",0.0,1.0,\\\n",
    "                                    [0.0,1.0],0.0)"
   ]
  },
  {
   "cell_type": "code",
   "execution_count": null,
   "metadata": {},
   "outputs": [],
   "source": [
    "eci4_param=tclient.create_parameter(Parameter,\\\n",
    "                                    \"tet_tet_NN\",\"casm\",0.0,0.5,[0.0,0.5])"
   ]
  },
  {
   "cell_type": "markdown",
   "metadata": {},
   "source": [
    "We can use these sliders to determine which dataset to load, by mapping their values to a path, and then setting a string parameter that is set up in C++ to load a dataset:"
   ]
  },
  {
   "cell_type": "code",
   "execution_count": null,
   "metadata": {},
   "outputs": [],
   "source": [
    "root_dir = \"C:/Users/Andres/source/repos/vdv_data/visualization/\"\n",
    "def create_dir_string_from_eci_param(eci_value):\n",
    "    datasetname=root_dir + \"AMX2_spinel_diffusion_0.0_0.0\"+\\\n",
    "    \"_\"+str(eci1_param.value)+\\\n",
    "    \"_\"+str(eci2_param.value)+\\\n",
    "    \"_\"+str(eci3_param.value)+\\\n",
    "    \"_\"+str(eci4_param.value)+\\\n",
    "    \"/kinetic_mc\"\n",
    "    tclient.get_parameter(\"dataset\").value=datasetname\n",
    "    print(\"Requested load: \" + datasetname)\n",
    "    return"
   ]
  },
  {
   "cell_type": "markdown",
   "metadata": {},
   "source": [
    "By registering this callback to the parameters we just created, a change in any of them will trigger loading of a dataset."
   ]
  },
  {
   "cell_type": "code",
   "execution_count": null,
   "metadata": {},
   "outputs": [],
   "source": [
    "eci1_param.register_callback(create_dir_string_from_eci_param)\n",
    "\n",
    "eci2_param.register_callback(create_dir_string_from_eci_param)\n",
    "\n",
    "eci3_param.register_callback(create_dir_string_from_eci_param)\n",
    "\n",
    "eci4_param.register_callback(create_dir_string_from_eci_param)"
   ]
  },
  {
   "cell_type": "code",
   "execution_count": null,
   "metadata": {},
   "outputs": [],
   "source": [
    "eci1_param.value=0.125\n",
    "tclient.wait_for_server_available()"
   ]
  },
  {
   "cell_type": "code",
   "execution_count": null,
   "metadata": {},
   "outputs": [],
   "source": [
    "eci3_param.value=0.0\n",
    "tclient.wait_for_server_available()"
   ]
  },
  {
   "cell_type": "markdown",
   "metadata": {},
   "source": [
    "## Putting it all together"
   ]
  },
  {
   "cell_type": "markdown",
   "metadata": {},
   "source": [
    "We can use all these features at once. We can create a gui button that triggers a python callback that will run a function that can use cache to update an image buffer. The effect for the user is that the graph will change when the button is pressed, but cache will be used if the function has already been called for that combination of parameters."
   ]
  },
  {
   "cell_type": "code",
   "execution_count": null,
   "metadata": {},
   "outputs": [],
   "source": [
    "button=tclient.create_parameter(Trigger,\"trigger\",\"casm\")"
   ]
  },
  {
   "cell_type": "code",
   "execution_count": null,
   "metadata": {},
   "outputs": [],
   "source": [
    "def cb(value):\n",
    "    print(\"Hello!\")"
   ]
  },
  {
   "cell_type": "code",
   "execution_count": null,
   "metadata": {},
   "outputs": [],
   "source": [
    "button.register_callback(cb)"
   ]
  },
  {
   "cell_type": "code",
   "execution_count": null,
   "metadata": {},
   "outputs": [],
   "source": []
  }
 ],
 "metadata": {
  "kernelspec": {
   "display_name": "Python 3",
   "language": "python",
   "name": "python3"
  },
  "language_info": {
   "codemirror_mode": {
    "name": "ipython",
    "version": 3
   },
   "file_extension": ".py",
   "mimetype": "text/x-python",
   "name": "python",
   "nbconvert_exporter": "python",
   "pygments_lexer": "ipython3",
   "version": "3.8.3"
  }
 },
 "nbformat": 4,
 "nbformat_minor": 4
}
