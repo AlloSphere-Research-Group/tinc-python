{
 "cells": [
  {
   "cell_type": "markdown",
   "metadata": {},
   "source": [
    "# Graph update example"
   ]
  },
  {
   "cell_type": "code",
   "execution_count": 1,
   "metadata": {},
   "outputs": [
    {
     "name": "stdout",
     "output_type": "stream",
     "text": [
      "%pylab is deprecated, use %matplotlib inline and import the required libraries.\n",
      "Populating the interactive namespace from numpy and matplotlib\n"
     ]
    }
   ],
   "source": [
    "%pylab inline"
   ]
  },
  {
   "cell_type": "code",
   "execution_count": 2,
   "metadata": {},
   "outputs": [
    {
     "name": "stdout",
     "output_type": "stream",
     "text": [
      "Hello\n",
      "Connection failed.\n",
      "Closed TINC client\n"
     ]
    }
   ],
   "source": [
    "from tinc import *\n",
    "tclient = TincClient()"
   ]
  },
  {
   "cell_type": "code",
   "execution_count": 3,
   "metadata": {},
   "outputs": [
    {
     "name": "stdout",
     "output_type": "stream",
     "text": [
      "Updated processor 'ParameterSpaceProcessor'\n",
      "Updated processor 'ShellSiteFileAnalyzer'\n",
      "Updated processor 'TransfmatExtractor'\n",
      "Updated processor 'TemplateGenerator'\n",
      "Updated processor 'PrepareDataset'\n",
      "Updated processor 'AtomLabelProcessor'\n",
      "Updated processor 'GraphGenerator'\n",
      "Updated processor 'SampleComputation'\n"
     ]
    }
   ],
   "source": [
    "tclient.synchronize()"
   ]
  },
  {
   "cell_type": "code",
   "execution_count": 4,
   "metadata": {},
   "outputs": [],
   "source": [
    "imageBuffer = tclient.get_disk_buffer(\"graph\") "
   ]
  },
  {
   "cell_type": "code",
   "execution_count": 5,
   "metadata": {},
   "outputs": [
    {
     "ename": "AttributeError",
     "evalue": "'DiskBufferImage' object has no attribute '_path'",
     "output_type": "error",
     "traceback": [
      "\u001b[1;31m---------------------------------------------------------------------------\u001b[0m",
      "\u001b[1;31mAttributeError\u001b[0m                            Traceback (most recent call last)",
      "\u001b[1;32mc:\\Users\\Andres\\source\\repos\\casm_viewer\\external\\tinc\\tinc-python\\jupyter-notebooks\\TINC Graph Update.ipynb Cell 6'\u001b[0m in \u001b[0;36m<cell line: 1>\u001b[1;34m()\u001b[0m\n\u001b[1;32m----> <a href='vscode-notebook-cell:/c%3A/Users/Andres/source/repos/casm_viewer/external/tinc/tinc-python/jupyter-notebooks/TINC%20Graph%20Update.ipynb#ch0000005?line=0'>1</a>\u001b[0m imageBuffer\u001b[39m.\u001b[39;49m_path\n",
      "\u001b[1;31mAttributeError\u001b[0m: 'DiskBufferImage' object has no attribute '_path'"
     ]
    }
   ],
   "source": [
    "imageBuffer._path"
   ]
  },
  {
   "cell_type": "code",
   "execution_count": null,
   "metadata": {},
   "outputs": [],
   "source": [
    "import random\n",
    "import matplotlib.pyplot as plt\n",
    "import threading\n",
    "\n",
    "def update_graph(parameter_value):\n",
    "    #print(\"Parameter value \" + str(parameter_value))\n",
    "    data = [random.random() * parameter_value for i in range(10)]\n",
    "    with threading.Lock():\n",
    "        fname = imageBuffer.get_filename_for_writing()\n",
    "        f = plt.figure()\n",
    "        plt.title(\"Random numbers with range 0->\" + str(parameter_value))\n",
    "        plt.plot(data)\n",
    "        #print(\"Update \" + fname)\n",
    "        plt.savefig(fname)\n",
    "        plt.close()\n",
    "        f.clf()\n",
    "        del f\n",
    "        imageBuffer.done_writing_file(fname)"
   ]
  },
  {
   "cell_type": "code",
   "execution_count": null,
   "metadata": {},
   "outputs": [],
   "source": [
    "update_graph(1)"
   ]
  },
  {
   "cell_type": "code",
   "execution_count": null,
   "metadata": {},
   "outputs": [],
   "source": [
    "param = tclient.get_parameter(\"internalValuesDim\")"
   ]
  },
  {
   "cell_type": "code",
   "execution_count": null,
   "metadata": {},
   "outputs": [],
   "source": [
    "param"
   ]
  },
  {
   "cell_type": "code",
   "execution_count": null,
   "metadata": {},
   "outputs": [],
   "source": [
    "param.register_callback(update_graph)"
   ]
  },
  {
   "cell_type": "code",
   "execution_count": null,
   "metadata": {},
   "outputs": [],
   "source": [
    "param.value = 0.1"
   ]
  },
  {
   "cell_type": "code",
   "execution_count": null,
   "metadata": {},
   "outputs": [],
   "source": [
    "pserver.monitor_server()"
   ]
  },
  {
   "cell_type": "code",
   "execution_count": null,
   "metadata": {},
   "outputs": [],
   "source": [
    "pserver.stop()"
   ]
  },
  {
   "cell_type": "code",
   "execution_count": null,
   "metadata": {},
   "outputs": [],
   "source": [
    "param.value"
   ]
  },
  {
   "cell_type": "code",
   "execution_count": null,
   "metadata": {},
   "outputs": [],
   "source": [
    "pwd"
   ]
  },
  {
   "cell_type": "code",
   "execution_count": null,
   "metadata": {},
   "outputs": [],
   "source": []
  }
 ],
 "metadata": {
  "interpreter": {
   "hash": "c2a65986bea8fe10eba010c645dc57cb03f01c2d0ca86747cb7bb979b0300098"
  },
  "kernelspec": {
   "display_name": "Python 3",
   "language": "python",
   "name": "python3"
  },
  "language_info": {
   "codemirror_mode": {
    "name": "ipython",
    "version": 3
   },
   "file_extension": ".py",
   "mimetype": "text/x-python",
   "name": "python",
   "nbconvert_exporter": "python",
   "pygments_lexer": "ipython3",
   "version": "3.8.3"
  }
 },
 "nbformat": 4,
 "nbformat_minor": 4
}
