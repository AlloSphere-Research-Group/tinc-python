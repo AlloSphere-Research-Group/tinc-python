{
 "cells": [
  {
   "cell_type": "code",
   "execution_count": 1,
   "metadata": {},
   "outputs": [
    {
     "name": "stdout",
     "output_type": "stream",
     "text": [
      "Can't import ipywidgets. Notebook widgets not available\n",
      "Can't import ipywidgets. Notebook widgets not available\n",
      "0.9\n"
     ]
    }
   ],
   "source": [
    "from tinc import *\n",
    "TincVersion()"
   ]
  },
  {
   "cell_type": "code",
   "execution_count": 2,
   "metadata": {},
   "outputs": [
    {
     "name": "stdout",
     "output_type": "stream",
     "text": [
      "Connected to localhost:34450. Server version 1 revision 0\n",
      "Set working path to C:\\Users\\Andres\\source\\repos\\casm_viewer\\bin\\\n",
      "Validating json with C:\\Users\\Andres\\AppData\\Local\\Packages\\PythonSoftwareFoundation.Python.3.9_qbz5n2kfra8p0\\LocalCache\\local-packages\\Python39\\site-packages\\tinc\\tinc_cache_schema.json\n"
     ]
    }
   ],
   "source": [
    "tclient = TincClient()"
   ]
  },
  {
   "cell_type": "code",
   "execution_count": 3,
   "metadata": {},
   "outputs": [],
   "source": [
    "db = tclient.get_disk_buffer(\"trajectory_buffer\")"
   ]
  },
  {
   "cell_type": "code",
   "execution_count": 5,
   "metadata": {},
   "outputs": [
    {
     "name": "stdout",
     "output_type": "stream",
     "text": [
      "Trajectory Render buffer:\n",
      "Set attribute \\\"dataArrangement\\\" to determine interpretation of list of floats.\n",
      "dataArrangement == 0: DATA_POS_REL Size: n*3\n",
      "Expects: x0,y0,z0, dx1,dy1,dz1 ... dxn, dyn, dzn\n",
      "\n",
      "dataArrangement == 1: DATA_POS_ABS Size: n*3\n",
      "Expects: x0,y0,z0, x1,y1,z1 ... xn, yn, zn\n",
      "\n",
      "dataArrangement == 1: DATA_POS_REL_RGB Size: (n - 1)*6 + 3\n",
      "Expects: x0,y0,z0, dx1,dy1,dz1, r1,g1,b1,  ... dxn,dyn, dzn, rn, gn, bn\n",
      "\n",
      "dataArrangement == 1: DATA_POS_ABS_RGB Size: (n - 1)*6 + 3\n",
      "Expects: x0,y0,z0, x1,y1,z1, r1,g1,b1,  ... xn,yn, zn, rn, gn, bn\n",
      "\n",
      " \n"
     ]
    }
   ],
   "source": [
    "print(db.documentation)"
   ]
  },
  {
   "cell_type": "code",
   "execution_count": null,
   "metadata": {},
   "outputs": [],
   "source": [
    "tclient.get_parameter(\"width\", \"trajectory\").value = 5"
   ]
  },
  {
   "cell_type": "code",
   "execution_count": 10,
   "metadata": {},
   "outputs": [
    {
     "name": "stdout",
     "output_type": "stream",
     "text": [
      "sent disk buffer filename: trajectory_0.nc\n"
     ]
    }
   ],
   "source": [
    "db.set_attributes({\"dataArrangement\": 0})\n",
    "db.data = [0,0,0,10,10,10, 10,10,10, 10,0,0, 0,10,0, 0,0,10]"
   ]
  },
  {
   "cell_type": "code",
   "execution_count": 12,
   "metadata": {},
   "outputs": [
    {
     "name": "stdout",
     "output_type": "stream",
     "text": [
      "sent disk buffer filename: trajectory_0.nc\n"
     ]
    }
   ],
   "source": [
    "db.set_attributes({\"dataArrangement\": 1})\n",
    "db.data = [0,0,0,10,10,10, 20,10,5, 20,0,0, 0,30,0, 0,0,40]"
   ]
  },
  {
   "cell_type": "code",
   "execution_count": 15,
   "metadata": {},
   "outputs": [
    {
     "name": "stdout",
     "output_type": "stream",
     "text": [
      "sent disk buffer filename: trajectory_1.nc\n"
     ]
    }
   ],
   "source": [
    "db.set_attributes({\"dataArrangement\": 2})\n",
    "db.data = [0,0,0,10,10,10, 0,1,0, 10,10,10, 0,0,1, 10,0,0, 0,0,1, 0,10,0, 1,1,1, 0,0,10, 1, 1, 0]"
   ]
  },
  {
   "cell_type": "code",
   "execution_count": 16,
   "metadata": {},
   "outputs": [
    {
     "name": "stdout",
     "output_type": "stream",
     "text": [
      "sent disk buffer filename: trajectory_0.nc\n"
     ]
    }
   ],
   "source": [
    "db.set_attributes({\"dataArrangement\": 3})\n",
    "db.data = [0,0,0,10,10,10, 0,1,0, 20,10,5, 20,0,0, 0,0,1, 0,30,0, 0,0,40, 1,1,1]"
   ]
  },
  {
   "cell_type": "code",
   "execution_count": null,
   "metadata": {},
   "outputs": [],
   "source": []
  }
 ],
 "metadata": {
  "interpreter": {
   "hash": "9dac42273d3bacf76448d0463623541a7bf2a5feec4c39ff1a25e01985bf83b7"
  },
  "kernelspec": {
   "display_name": "Python 3",
   "language": "python",
   "name": "python3"
  },
  "language_info": {
   "codemirror_mode": {
    "name": "ipython",
    "version": 3
   },
   "file_extension": ".py",
   "mimetype": "text/x-python",
   "name": "python",
   "nbconvert_exporter": "python",
   "pygments_lexer": "ipython3",
   "version": "3.8.3"
  }
 },
 "nbformat": 4,
 "nbformat_minor": 2
}
