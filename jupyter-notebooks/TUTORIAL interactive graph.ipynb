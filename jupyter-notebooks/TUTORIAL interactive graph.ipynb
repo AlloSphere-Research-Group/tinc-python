{
 "cells": [
  {
   "cell_type": "markdown",
   "metadata": {},
   "source": [
    "# Using Matplotlib graphs with TINC"
   ]
  },
  {
   "cell_type": "code",
   "execution_count": 1,
   "metadata": {},
   "outputs": [],
   "source": [
    "from tinc import *"
   ]
  },
  {
   "cell_type": "code",
   "execution_count": 2,
   "metadata": {
    "scrolled": true
   },
   "outputs": [
    {
     "name": "stdout",
     "output_type": "stream",
     "text": [
      "Populating the interactive namespace from numpy and matplotlib\n"
     ]
    },
    {
     "name": "stderr",
     "output_type": "stream",
     "text": [
      "C:\\Users\\Andres\\anaconda3\\lib\\site-packages\\IPython\\core\\magics\\pylab.py:159: UserWarning: pylab import has clobbered these variables: ['interactive', 'unique']\n",
      "`%matplotlib` prevents importing * from pylab and numpy\n",
      "  warn(\"pylab import has clobbered these variables: %s\"  % clobbered +\n"
     ]
    }
   ],
   "source": [
    "%pylab inline"
   ]
  },
  {
   "cell_type": "code",
   "execution_count": 3,
   "metadata": {},
   "outputs": [],
   "source": [
    "p = Parameter(\"param\", \"\", 0, 10, 1.5)\n",
    "p.values = linspace(0, 10, 21)"
   ]
  },
  {
   "cell_type": "code",
   "execution_count": 4,
   "metadata": {},
   "outputs": [
    {
     "data": {
      "text/plain": [
       "array([ 0. ,  0.5,  1. ,  1.5,  2. ,  2.5,  3. ,  3.5,  4. ,  4.5,  5. ,\n",
       "        5.5,  6. ,  6.5,  7. ,  7.5,  8. ,  8.5,  9. ,  9.5, 10. ])"
      ]
     },
     "execution_count": 4,
     "metadata": {},
     "output_type": "execute_result"
    }
   ],
   "source": [
    "p.values"
   ]
  },
  {
   "cell_type": "code",
   "execution_count": 5,
   "metadata": {},
   "outputs": [
    {
     "data": {
      "text/plain": [
       "3"
      ]
     },
     "execution_count": 5,
     "metadata": {},
     "output_type": "execute_result"
    }
   ],
   "source": [
    "p.get_current_index()"
   ]
  },
  {
   "cell_type": "code",
   "execution_count": 6,
   "metadata": {},
   "outputs": [],
   "source": [
    "p2 = Parameter(\"param2\", \"\", 0, 10, 2.5)\n",
    "p2.values = linspace(0, 10, 21)"
   ]
  },
  {
   "cell_type": "code",
   "execution_count": 7,
   "metadata": {},
   "outputs": [],
   "source": [
    "from ipywidgets import VBox"
   ]
  },
  {
   "cell_type": "code",
   "execution_count": 8,
   "metadata": {},
   "outputs": [
    {
     "data": {
      "application/vnd.jupyter.widget-view+json": {
       "model_id": "5d18a26e46cb4e31b2207f4ca1d8097b",
       "version_major": 2,
       "version_minor": 0
      },
      "text/plain": [
       "VBox(children=(HBox(children=(Button(description='<<', style=ButtonStyle()), Label(value='1.5'), Button(descri…"
      ]
     },
     "metadata": {},
     "output_type": "display_data"
    }
   ],
   "source": [
    "VBox([p.interactive_control(), p2.interactive_control()])"
   ]
  },
  {
   "cell_type": "code",
   "execution_count": 9,
   "metadata": {},
   "outputs": [],
   "source": [
    "imageBuffer = DiskBufferImage(\"graph\" , \"graph.png\", \"cache\") "
   ]
  },
  {
   "cell_type": "code",
   "execution_count": 10,
   "metadata": {},
   "outputs": [],
   "source": [
    "def update_graph(ignored_value = 0):\n",
    "    x = linspace(0, 100, 101)\n",
    "    line = p.value * x * x + p2.value * x\n",
    "    fname = imageBuffer.get_filename_for_writing()\n",
    "    f = plt.figure()\n",
    "    plt.title(\"Data\")\n",
    "    plt.plot(x, line)\n",
    "    plt.savefig(fname)\n",
    "    plt.close()\n",
    "    imageBuffer.load_data(fname)"
   ]
  },
  {
   "cell_type": "code",
   "execution_count": 11,
   "metadata": {},
   "outputs": [],
   "source": [
    "update_graph()"
   ]
  },
  {
   "cell_type": "code",
   "execution_count": 12,
   "metadata": {},
   "outputs": [
    {
     "data": {
      "application/vnd.jupyter.widget-view+json": {
       "model_id": "079a5c475e3d4988bad16d9394dd3913",
       "version_major": 2,
       "version_minor": 0
      },
      "text/plain": [
       "VBox(children=(HBox(children=(Button(description='<<', style=ButtonStyle()), Label(value='1.5'), Button(descri…"
      ]
     },
     "metadata": {},
     "output_type": "display_data"
    }
   ],
   "source": [
    "p.register_callback(update_graph)\n",
    "p2.register_callback(update_graph)\n",
    "\n",
    "VBox([p.interactive_control(), p2.interactive_control(), imageBuffer.interactive_widget()])"
   ]
  },
  {
   "cell_type": "code",
   "execution_count": null,
   "metadata": {},
   "outputs": [],
   "source": [
    "def update_double_graph(ignored_value = 0):\n",
    "    #print(\"Parameter value \" + str(parameter_value))\n",
    "    x = linspace(0, 100, 101)\n",
    "    line = p.value * x * x + p2.value * x\n",
    "    # with threading.Lock():\n",
    "    fname = imageBuffer.get_filename_for_writing()\n",
    "    f = plt.figure()\n",
    "    plt.rcParams[\"figure.figsize\"] = (12,3)\n",
    "    plt.title(\"Data\")\n",
    "    \n",
    "    plt.subplot(1, 2, 1)\n",
    "    plt.plot(x, line)\n",
    "    plt.subplot(1, 2, 2)\n",
    "    plt.plot(-x, -line)\n",
    "    plt.savefig(fname)\n",
    "    plt.close()\n",
    "    imageBuffer.load_data(fname)"
   ]
  },
  {
   "cell_type": "code",
   "execution_count": null,
   "metadata": {},
   "outputs": [],
   "source": [
    "p.clear_callbacks()\n",
    "p2.clear_callbacks()\n",
    "\n",
    "p.register_callback(update_double_graph)\n",
    "p2.register_callback(update_double_graph)\n",
    "\n",
    "controls = VBox([p.interactive_control(), p2.interactive_control(), imageBuffer.interactive_widget()])\n",
    "imageBuffer._interactive_widget.width = \"80%\"\n",
    "controls"
   ]
  },
  {
   "cell_type": "code",
   "execution_count": null,
   "metadata": {},
   "outputs": [],
   "source": []
  },
  {
   "cell_type": "code",
   "execution_count": null,
   "metadata": {},
   "outputs": [],
   "source": []
  }
 ],
 "metadata": {
  "interpreter": {
   "hash": "ecfeaed810300d9f577416145a8199f85dfc8c8d67a9723c12dfd44f3a00a598"
  },
  "kernelspec": {
   "display_name": "Python 3",
   "language": "python",
   "name": "python3"
  },
  "language_info": {
   "codemirror_mode": {
    "name": "ipython",
    "version": 3
   },
   "file_extension": ".py",
   "mimetype": "text/x-python",
   "name": "python",
   "nbconvert_exporter": "python",
   "pygments_lexer": "ipython3",
   "version": "3.8.3"
  }
 },
 "nbformat": 4,
 "nbformat_minor": 2
}
