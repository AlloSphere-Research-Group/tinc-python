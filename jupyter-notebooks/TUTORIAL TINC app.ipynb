{
 "cells": [
  {
   "cell_type": "code",
   "execution_count": 1,
   "metadata": {},
   "outputs": [],
   "source": [
    "# Not needed if tinc-python is installed\n",
    "import sys\n",
    "sys.path.append('../tinc-python')"
   ]
  },
  {
   "cell_type": "markdown",
   "metadata": {},
   "source": [
    "Run examples_tinc_app and try this:"
   ]
  },
  {
   "cell_type": "code",
   "execution_count": 2,
   "metadata": {},
   "outputs": [
    {
     "name": "stdout",
     "output_type": "stream",
     "text": [
      "Attempt connection. localhost:34450\n",
      "Connected, sending handshake.\n",
      "Got HANDSHAKE_ACK. Server version 0 revision 0\n"
     ]
    }
   ],
   "source": [
    "from tinc_client import *\n",
    "tclient = TincClient()"
   ]
  },
  {
   "cell_type": "code",
   "execution_count": 3,
   "metadata": {},
   "outputs": [],
   "source": [
    "import time\n",
    "run = False\n",
    "def callback(value):\n",
    "    global run\n",
    "    run = True\n",
    "    for i in range(100):\n",
    "        if not run:\n",
    "            print(\"Forced stop\")\n",
    "            break\n",
    "        time.sleep(1)\n",
    "        print(\"processed \", i)  "
   ]
  },
  {
   "cell_type": "code",
   "execution_count": 4,
   "metadata": {},
   "outputs": [
    {
     "data": {
      "text/plain": [
       "['dirDim', 'internalValuesDim']"
      ]
     },
     "execution_count": 4,
     "metadata": {},
     "output_type": "execute_result"
    }
   ],
   "source": [
    "[p.id for p in tclient.parameters]"
   ]
  },
  {
   "cell_type": "code",
   "execution_count": 5,
   "metadata": {},
   "outputs": [
    {
     "name": "stdout",
     "output_type": "stream",
     "text": [
      "processed  0\n",
      "processed  1\n",
      "processed  2\n"
     ]
    }
   ],
   "source": [
    "tclient.get_parameter('internalValuesDim').register_callback(callback)"
   ]
  },
  {
   "cell_type": "code",
   "execution_count": 6,
   "metadata": {},
   "outputs": [
    {
     "name": "stdout",
     "output_type": "stream",
     "text": [
      "processed  3\n",
      "Forced stop\n"
     ]
    }
   ],
   "source": [
    "run = False"
   ]
  },
  {
   "cell_type": "code",
   "execution_count": 9,
   "metadata": {},
   "outputs": [
    {
     "name": "stdout",
     "output_type": "stream",
     "text": [
      "processed  0\n",
      "processed  1\n",
      "processed  2\n",
      "processed  3\n",
      "processed  4\n",
      "processed  5\n",
      "processed  6\n",
      "processed  7\n",
      "processed  8\n",
      "processed  9\n",
      "processed  10\n",
      "processed  11\n",
      "processed  12\n",
      "processed  13\n",
      "processed  14\n",
      "processed  15\n",
      "processed  16\n",
      "processed  17\n"
     ]
    }
   ],
   "source": [
    "tclient.wait_for_server_available()"
   ]
  },
  {
   "cell_type": "code",
   "execution_count": 10,
   "metadata": {},
   "outputs": [
    {
     "name": "stdout",
     "output_type": "stream",
     "text": [
      "processed  17\n",
      "processed  18\n",
      "processed  19\n",
      "processed  20\n",
      "processed  21\n",
      "processed  22\n",
      "processed  23\n",
      "processed  24\n",
      "processed  25\n",
      "processed  26\n",
      "processed  27\n",
      "processed  28\n",
      "processed  29\n",
      "processed  30\n",
      "processed  31\n",
      "processed  32\n",
      "processed  33\n",
      "processed  34\n",
      "processed  35\n",
      "processed  36\n",
      "processed  37\n",
      "processed  38\n",
      "processed  39\n",
      "processed  40\n",
      "processed  41\n",
      "processed  42\n",
      "processed  43\n",
      "processed  44\n",
      "processed  45\n",
      "processed  46\n",
      "processed  47\n",
      "processed  48\n",
      "processed  49\n",
      "processed  50\n",
      "processed  51\n",
      "processed  52\n",
      "processed  53\n",
      "processed  54\n",
      "processed  55\n",
      "processed  56\n",
      "processed  57\n",
      "processed  58\n",
      "processed  59\n",
      "processed  60\n",
      "processed  61\n",
      "processed  62\n",
      "processed  63\n",
      "processed  64\n",
      "processed  65\n",
      "processed  66\n",
      "processed  67\n",
      "processed  68\n",
      "processed  69\n",
      "processed  70\n",
      "processed  71\n",
      "processed  72\n",
      "processed  73\n",
      "processed  74\n",
      "processed  75\n",
      "processed  76\n",
      "processed  77\n",
      "processed  78\n",
      "processed  79\n",
      "processed  80\n",
      "processed  81\n",
      "processed  82\n",
      "processed  83\n",
      "processed  84\n",
      "processed  85\n",
      "processed  86\n",
      "processed  87\n"
     ]
    }
   ],
   "source": [
    "run = False"
   ]
  },
  {
   "cell_type": "code",
   "execution_count": 51,
   "metadata": {},
   "outputs": [
    {
     "ename": "KeyboardInterrupt",
     "evalue": "",
     "output_type": "error",
     "traceback": [
      "\u001b[1;31m---------------------------------------------------------------------------\u001b[0m",
      "\u001b[1;31mKeyboardInterrupt\u001b[0m                         Traceback (most recent call last)",
      "\u001b[1;32m<ipython-input-51-ec973d8002cb>\u001b[0m in \u001b[0;36m<module>\u001b[1;34m\u001b[0m\n\u001b[1;32m----> 1\u001b[1;33m \u001b[0mtime\u001b[0m\u001b[1;33m.\u001b[0m\u001b[0msleep\u001b[0m\u001b[1;33m(\u001b[0m\u001b[1;36m30\u001b[0m\u001b[1;33m)\u001b[0m\u001b[1;33m\u001b[0m\u001b[1;33m\u001b[0m\u001b[0m\n\u001b[0m",
      "\u001b[1;31mKeyboardInterrupt\u001b[0m: "
     ]
    }
   ],
   "source": [
    "time.sleep(30)"
   ]
  },
  {
   "cell_type": "code",
   "execution_count": 7,
   "metadata": {},
   "outputs": [
    {
     "data": {
      "text/plain": [
       "-0.30000001192092896"
      ]
     },
     "execution_count": 7,
     "metadata": {},
     "output_type": "execute_result"
    },
    {
     "name": "stdout",
     "output_type": "stream",
     "text": [
      "processed  0\n",
      "processed  1\n",
      "processed  2\n",
      "processed  3\n",
      "processed  4\n",
      "processed  5\n"
     ]
    }
   ],
   "source": [
    "tclient.get_parameter('internalValuesDim').value"
   ]
  },
  {
   "cell_type": "code",
   "execution_count": null,
   "metadata": {},
   "outputs": [],
   "source": []
  }
 ],
 "metadata": {
  "kernelspec": {
   "display_name": "Python 3",
   "language": "python",
   "name": "python3"
  },
  "language_info": {
   "codemirror_mode": {
    "name": "ipython",
    "version": 3
   },
   "file_extension": ".py",
   "mimetype": "text/x-python",
   "name": "python",
   "nbconvert_exporter": "python",
   "pygments_lexer": "ipython3",
   "version": "3.8.3"
  }
 },
 "nbformat": 4,
 "nbformat_minor": 4
}
